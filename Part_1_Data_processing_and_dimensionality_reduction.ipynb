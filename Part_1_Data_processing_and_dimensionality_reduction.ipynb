{
  "nbformat": 4,
  "nbformat_minor": 0,
  "metadata": {
    "kernelspec": {
      "display_name": "Python 3",
      "language": "python",
      "name": "python3"
    },
    "language_info": {
      "codemirror_mode": {
        "name": "ipython",
        "version": 3
      },
      "file_extension": ".py",
      "mimetype": "text/x-python",
      "name": "python",
      "nbconvert_exporter": "python",
      "pygments_lexer": "ipython3",
      "version": "3.7.4"
    },
    "colab": {
      "name": "Part 1. Data_processing_and_dimensionality_reduction.ipynb",
      "provenance": [],
      "collapsed_sections": [
        "SgAzDEnZ_ujJ",
        "D-Os0DoJ_ujb",
        "Gqp5p_C9_umu",
        "6W15nIOD_unf"
      ],
      "machine_shape": "hm"
    }
  },
  "cells": [
    {
      "cell_type": "code",
      "metadata": {
        "id": "bt7D0hDWAUWF",
        "colab_type": "code",
        "colab": {
          "base_uri": "https://localhost:8080/",
          "height": 70
        },
        "outputId": "dbbeae6e-10c7-4a79-a2ab-5c16e67b8747"
      },
      "source": [
        "import numpy as np \n",
        "import pandas as pd\n",
        "import matplotlib.pyplot as plt\n",
        "import seaborn as sns\n",
        "import umap\n",
        "import os\n",
        "from sklearn.preprocessing import MinMaxScaler\n",
        "from sklearn.preprocessing import StandardScaler\n",
        "from sklearn.decomposition import PCA\n",
        "sns.set(context=\"paper\", style=\"white\")"
      ],
      "execution_count": null,
      "outputs": [
        {
          "output_type": "stream",
          "text": [
            "/usr/local/lib/python3.6/dist-packages/statsmodels/tools/_testing.py:19: FutureWarning: pandas.util.testing is deprecated. Use the functions in the public API at pandas.testing instead.\n",
            "  import pandas.util.testing as tm\n"
          ],
          "name": "stderr"
        }
      ]
    },
    {
      "cell_type": "markdown",
      "metadata": {
        "id": "KfidDIFO_ues",
        "colab_type": "text"
      },
      "source": [
        "#**1. Pre-processing**"
      ]
    },
    {
      "cell_type": "markdown",
      "metadata": {
        "id": "FB53M6crDC6w",
        "colab_type": "text"
      },
      "source": [
        "## **1.1 \"metadata.csv\" and \"embeddings.csv\" files are stored at google drive**"
      ]
    },
    {
      "cell_type": "code",
      "metadata": {
        "id": "BDD24UwdCxs9",
        "colab_type": "code",
        "colab": {
          "base_uri": "https://localhost:8080/",
          "height": 54
        },
        "outputId": "12165f17-7e9b-46c8-daf8-f68d18b3b9c1"
      },
      "source": [
        "from google.colab import drive\n",
        "drive.mount('/content/drive')\n",
        "\n",
        "# path: \"metadata.csv\" and \"embeddings.csv\" files are stored here\n",
        "path = '/content/drive/My Drive/Colab Notebooks'"
      ],
      "execution_count": null,
      "outputs": [
        {
          "output_type": "stream",
          "text": [
            "Drive already mounted at /content/drive; to attempt to forcibly remount, call drive.mount(\"/content/drive\", force_remount=True).\n"
          ],
          "name": "stdout"
        }
      ]
    },
    {
      "cell_type": "markdown",
      "metadata": {
        "id": "xu-Hn9lQ_ufF",
        "colab_type": "text"
      },
      "source": [
        "## **1.2. metadata dataset**"
      ]
    },
    {
      "cell_type": "code",
      "metadata": {
        "id": "-2Tb3pnm_ufJ",
        "colab_type": "code",
        "colab": {
          "base_uri": "https://localhost:8080/",
          "height": 50
        },
        "outputId": "05390be6-b5f1-491b-eaa7-a262a98138ac"
      },
      "source": [
        "%%time\n",
        "df_metadata = pd.read_csv(os.path.join(path, 'metadata.csv'))"
      ],
      "execution_count": null,
      "outputs": [
        {
          "output_type": "stream",
          "text": [
            "CPU times: user 630 ms, sys: 95.3 ms, total: 726 ms\n",
            "Wall time: 1.07 s\n"
          ],
          "name": "stdout"
        }
      ]
    },
    {
      "cell_type": "markdown",
      "metadata": {
        "id": "bTHqlFuz_ufU",
        "colab_type": "text"
      },
      "source": [
        "**Explore its data structure**"
      ]
    },
    {
      "cell_type": "code",
      "metadata": {
        "id": "sJnBgxsTWQkI",
        "colab_type": "code",
        "colab": {
          "base_uri": "https://localhost:8080/",
          "height": 154
        },
        "outputId": "3411b793-7333-446e-d9ef-67b12952247b"
      },
      "source": [
        "print(f'metadata shape = {df_metadata.shape}')\n",
        "print(df_metadata.head(5).to_string())"
      ],
      "execution_count": null,
      "outputs": [
        {
          "output_type": "stream",
          "text": [
            "metadata shape = (305520, 11)\n",
            "           site_id        well_id cell_type experiment  plate  well  site  disease_condition       treatment  treatment_conc                                                                     SMILES\n",
            "0  HRCE-1_1_AA02_1  HRCE-1_1_AA02      HRCE     HRCE-1      1  AA02     1  Active SARS-CoV-2    Flubendazole             0.1  COC(=O)NC1=NC2=C(N1)C=C(C=C2)C(=O)C1=CC=C(F)C=C1 |c:7,11,13,23,t:5,18,20|\n",
            "1  HRCE-1_1_AA02_2  HRCE-1_1_AA02      HRCE     HRCE-1      1  AA02     2  Active SARS-CoV-2    Flubendazole             0.1  COC(=O)NC1=NC2=C(N1)C=C(C=C2)C(=O)C1=CC=C(F)C=C1 |c:7,11,13,23,t:5,18,20|\n",
            "2  HRCE-1_1_AA02_3  HRCE-1_1_AA02      HRCE     HRCE-1      1  AA02     3  Active SARS-CoV-2    Flubendazole             0.1  COC(=O)NC1=NC2=C(N1)C=C(C=C2)C(=O)C1=CC=C(F)C=C1 |c:7,11,13,23,t:5,18,20|\n",
            "3  HRCE-1_1_AA02_4  HRCE-1_1_AA02      HRCE     HRCE-1      1  AA02     4  Active SARS-CoV-2    Flubendazole             0.1  COC(=O)NC1=NC2=C(N1)C=C(C=C2)C(=O)C1=CC=C(F)C=C1 |c:7,11,13,23,t:5,18,20|\n",
            "4  HRCE-1_1_AA03_1  HRCE-1_1_AA03      HRCE     HRCE-1      1  AA03     1  Active SARS-CoV-2  acetylcysteine             1.0                                             CC(=O)N[C@H](CS)C(O)=O |a:4,r|\n"
          ],
          "name": "stdout"
        }
      ]
    },
    {
      "cell_type": "code",
      "metadata": {
        "id": "7I_zHyxhdNDq",
        "colab_type": "code",
        "colab": {
          "base_uri": "https://localhost:8080/",
          "height": 336
        },
        "outputId": "b8659a9a-088d-49c1-f9ff-e43caa2249b2"
      },
      "source": [
        "print(df_metadata.info())"
      ],
      "execution_count": null,
      "outputs": [
        {
          "output_type": "stream",
          "text": [
            "<class 'pandas.core.frame.DataFrame'>\n",
            "RangeIndex: 305520 entries, 0 to 305519\n",
            "Data columns (total 11 columns):\n",
            " #   Column             Non-Null Count   Dtype  \n",
            "---  ------             --------------   -----  \n",
            " 0   site_id            305520 non-null  object \n",
            " 1   well_id            305520 non-null  object \n",
            " 2   cell_type          305520 non-null  object \n",
            " 3   experiment         305520 non-null  object \n",
            " 4   plate              305520 non-null  int64  \n",
            " 5   well               305520 non-null  object \n",
            " 6   site               305520 non-null  int64  \n",
            " 7   disease_condition  298616 non-null  object \n",
            " 8   treatment          263184 non-null  object \n",
            " 9   treatment_conc     263184 non-null  float64\n",
            " 10  SMILES             263184 non-null  object \n",
            "dtypes: float64(1), int64(2), object(8)\n",
            "memory usage: 25.6+ MB\n",
            "None\n"
          ],
          "name": "stdout"
        }
      ]
    },
    {
      "cell_type": "markdown",
      "metadata": {
        "id": "cHC0kDAgddoz",
        "colab_type": "text"
      },
      "source": [
        "**Check the unique values in each column and whether or not NaN value is existed**  \n",
        "```NaN existed if 'NaN existed' value = 1 else 0```"
      ]
    },
    {
      "cell_type": "code",
      "metadata": {
        "id": "rhUN9Cj4dcCE",
        "colab_type": "code",
        "colab": {
          "base_uri": "https://localhost:8080/",
          "height": 373
        },
        "outputId": "56de706d-8f17-4daa-c3e6-2c495e255785"
      },
      "source": [
        "df_metadata_unique = pd.merge(df_metadata.nunique(dropna=False).to_frame(name='Including NaN'),\n",
        "                              df_metadata.nunique(dropna=True).to_frame(name='Excluding NaN'),\n",
        "                              left_index=True, \n",
        "                              right_index=True)\n",
        "df_metadata_unique['NaN existed'] = df_metadata_unique['Including NaN'] -  df_metadata_unique['Excluding NaN']                    \n",
        "df_metadata_unique"
      ],
      "execution_count": null,
      "outputs": [
        {
          "output_type": "execute_result",
          "data": {
            "text/html": [
              "<div>\n",
              "<style scoped>\n",
              "    .dataframe tbody tr th:only-of-type {\n",
              "        vertical-align: middle;\n",
              "    }\n",
              "\n",
              "    .dataframe tbody tr th {\n",
              "        vertical-align: top;\n",
              "    }\n",
              "\n",
              "    .dataframe thead th {\n",
              "        text-align: right;\n",
              "    }\n",
              "</style>\n",
              "<table border=\"1\" class=\"dataframe\">\n",
              "  <thead>\n",
              "    <tr style=\"text-align: right;\">\n",
              "      <th></th>\n",
              "      <th>Including NaN</th>\n",
              "      <th>Excluding NaN</th>\n",
              "      <th>NaN existed</th>\n",
              "    </tr>\n",
              "  </thead>\n",
              "  <tbody>\n",
              "    <tr>\n",
              "      <th>site_id</th>\n",
              "      <td>305520</td>\n",
              "      <td>305520</td>\n",
              "      <td>0</td>\n",
              "    </tr>\n",
              "    <tr>\n",
              "      <th>well_id</th>\n",
              "      <td>76380</td>\n",
              "      <td>76380</td>\n",
              "      <td>0</td>\n",
              "    </tr>\n",
              "    <tr>\n",
              "      <th>cell_type</th>\n",
              "      <td>2</td>\n",
              "      <td>2</td>\n",
              "      <td>0</td>\n",
              "    </tr>\n",
              "    <tr>\n",
              "      <th>experiment</th>\n",
              "      <td>4</td>\n",
              "      <td>4</td>\n",
              "      <td>0</td>\n",
              "    </tr>\n",
              "    <tr>\n",
              "      <th>plate</th>\n",
              "      <td>27</td>\n",
              "      <td>27</td>\n",
              "      <td>0</td>\n",
              "    </tr>\n",
              "    <tr>\n",
              "      <th>well</th>\n",
              "      <td>1340</td>\n",
              "      <td>1340</td>\n",
              "      <td>0</td>\n",
              "    </tr>\n",
              "    <tr>\n",
              "      <th>site</th>\n",
              "      <td>4</td>\n",
              "      <td>4</td>\n",
              "      <td>0</td>\n",
              "    </tr>\n",
              "    <tr>\n",
              "      <th>disease_condition</th>\n",
              "      <td>4</td>\n",
              "      <td>3</td>\n",
              "      <td>1</td>\n",
              "    </tr>\n",
              "    <tr>\n",
              "      <th>treatment</th>\n",
              "      <td>1670</td>\n",
              "      <td>1669</td>\n",
              "      <td>1</td>\n",
              "    </tr>\n",
              "    <tr>\n",
              "      <th>treatment_conc</th>\n",
              "      <td>15</td>\n",
              "      <td>14</td>\n",
              "      <td>1</td>\n",
              "    </tr>\n",
              "    <tr>\n",
              "      <th>SMILES</th>\n",
              "      <td>1671</td>\n",
              "      <td>1670</td>\n",
              "      <td>1</td>\n",
              "    </tr>\n",
              "  </tbody>\n",
              "</table>\n",
              "</div>"
            ],
            "text/plain": [
              "                   Including NaN  Excluding NaN  NaN existed\n",
              "site_id                   305520         305520            0\n",
              "well_id                    76380          76380            0\n",
              "cell_type                      2              2            0\n",
              "experiment                     4              4            0\n",
              "plate                         27             27            0\n",
              "well                        1340           1340            0\n",
              "site                           4              4            0\n",
              "disease_condition              4              3            1\n",
              "treatment                   1670           1669            1\n",
              "treatment_conc                15             14            1\n",
              "SMILES                      1671           1670            1"
            ]
          },
          "metadata": {
            "tags": []
          },
          "execution_count": 6
        }
      ]
    },
    {
      "cell_type": "markdown",
      "metadata": {
        "id": "6iTnrzEHWu2D",
        "colab_type": "text"
      },
      "source": [
        "**\"cell types\" column clearly indicates the unbalanced classess of HRCE and VERO**"
      ]
    },
    {
      "cell_type": "code",
      "metadata": {
        "id": "ZYnMK_sq_ugR",
        "colab_type": "code",
        "colab": {
          "base_uri": "https://localhost:8080/",
          "height": 67
        },
        "outputId": "ebb251ee-27b8-47e5-dbb7-1d331bd20240"
      },
      "source": [
        "df_metadata['cell_type'].value_counts(dropna=False)"
      ],
      "execution_count": null,
      "outputs": [
        {
          "output_type": "execute_result",
          "data": {
            "text/plain": [
              "HRCE    284080\n",
              "VERO     21440\n",
              "Name: cell_type, dtype: int64"
            ]
          },
          "metadata": {
            "tags": []
          },
          "execution_count": 7
        }
      ]
    },
    {
      "cell_type": "markdown",
      "metadata": {
        "id": "CN1B-QDwXWup",
        "colab_type": "text"
      },
      "source": [
        "**\"experiment\" column indicates the balanced classess of experimental replicates within cell type**\n"
      ]
    },
    {
      "cell_type": "code",
      "metadata": {
        "id": "Ntl_RfBN_uhL",
        "colab_type": "code",
        "colab": {
          "base_uri": "https://localhost:8080/",
          "height": 101
        },
        "outputId": "559087aa-aead-46ca-d1f6-7ada26ae590a"
      },
      "source": [
        "df_metadata['experiment'].value_counts(dropna=False)"
      ],
      "execution_count": null,
      "outputs": [
        {
          "output_type": "execute_result",
          "data": {
            "text/plain": [
              "HRCE-2    144720\n",
              "HRCE-1    139360\n",
              "VERO-1     10720\n",
              "VERO-2     10720\n",
              "Name: experiment, dtype: int64"
            ]
          },
          "metadata": {
            "tags": []
          },
          "execution_count": 8
        }
      ]
    },
    {
      "cell_type": "markdown",
      "metadata": {
        "id": "c23wSqf7Ydhd",
        "colab_type": "text"
      },
      "source": [
        "**\"disease_condition\" column shows the unbalance classes (and contains NaN as indicating above)** "
      ]
    },
    {
      "cell_type": "code",
      "metadata": {
        "id": "1npkSule_uib",
        "colab_type": "code",
        "colab": {
          "base_uri": "https://localhost:8080/",
          "height": 84
        },
        "outputId": "6061f928-fc05-4c05-d535-699aa651e6a7"
      },
      "source": [
        "df_metadata['disease_condition'].value_counts(dropna=True)"
      ],
      "execution_count": null,
      "outputs": [
        {
          "output_type": "execute_result",
          "data": {
            "text/plain": [
              "Active SARS-CoV-2            280376\n",
              "Mock                           9120\n",
              "UV Inactivated SARS-CoV-2      9120\n",
              "Name: disease_condition, dtype: int64"
            ]
          },
          "metadata": {
            "tags": []
          },
          "execution_count": 9
        }
      ]
    },
    {
      "cell_type": "markdown",
      "metadata": {
        "id": "9ewfPbofZdnH",
        "colab_type": "text"
      },
      "source": [
        "**\"treatment\" column has NaN values which is un-treatment conditions and it corresponds with treatment_conc as well**"
      ]
    },
    {
      "cell_type": "code",
      "metadata": {
        "id": "ANAKQwXc_uij",
        "colab_type": "code",
        "colab": {
          "base_uri": "https://localhost:8080/",
          "height": 218
        },
        "outputId": "0e3d9a87-ee90-4cf4-a354-e42567f9aac4"
      },
      "source": [
        "df_metadata['treatment'].value_counts(dropna=False)"
      ],
      "execution_count": null,
      "outputs": [
        {
          "output_type": "execute_result",
          "data": {
            "text/plain": [
              "NaN                     42336\n",
              "Thymoquinone              864\n",
              "Quinine                   864\n",
              "Imiquimod                 864\n",
              "Cobicistat                864\n",
              "                        ...  \n",
              "etafenone                 144\n",
              "ursodiol                  144\n",
              "Abacavir hemisulfate      144\n",
              "budipine                  144\n",
              "guanaben                  144\n",
              "Name: treatment, Length: 1670, dtype: int64"
            ]
          },
          "metadata": {
            "tags": []
          },
          "execution_count": 10
        }
      ]
    },
    {
      "cell_type": "markdown",
      "metadata": {
        "id": "wll7OC90a_ee",
        "colab_type": "text"
      },
      "source": [
        "**\"treatment_conc\" column has NaN values which is corresponding to treatment conditions**"
      ]
    },
    {
      "cell_type": "code",
      "metadata": {
        "id": "r7yL7VlI_uir",
        "colab_type": "code",
        "colab": {
          "base_uri": "https://localhost:8080/",
          "height": 286
        },
        "outputId": "4fabd008-3235-4196-aed4-9ced9852d9cd"
      },
      "source": [
        "df_metadata['treatment_conc'].value_counts(dropna=False)"
      ],
      "execution_count": null,
      "outputs": [
        {
          "output_type": "execute_result",
          "data": {
            "text/plain": [
              "0.100      42732\n",
              "1.000      42708\n",
              "0.030      42660\n",
              "0.300      42660\n",
              "3.000      42636\n",
              "0.010      42556\n",
              "NaN        42336\n",
              "10.000      3396\n",
              "0.003       3244\n",
              "30.000       176\n",
              "100.000      176\n",
              "0.250         72\n",
              "2.500         72\n",
              "0.025         72\n",
              "0.001         24\n",
              "Name: treatment_conc, dtype: int64"
            ]
          },
          "metadata": {
            "tags": []
          },
          "execution_count": 11
        }
      ]
    },
    {
      "cell_type": "markdown",
      "metadata": {
        "id": "fUpUdrqq_ukA",
        "colab_type": "text"
      },
      "source": [
        "## **1.2. Get embeddings dataset**"
      ]
    },
    {
      "cell_type": "code",
      "metadata": {
        "id": "YOfLP_zx_ukG",
        "colab_type": "code",
        "colab": {
          "base_uri": "https://localhost:8080/",
          "height": 50
        },
        "outputId": "dc067910-68fa-4750-b435-c5cd432e11e4"
      },
      "source": [
        "%%time\n",
        "df_embeddings = pd.read_csv(os.path.join(path, 'embeddings.csv'))"
      ],
      "execution_count": null,
      "outputs": [
        {
          "output_type": "stream",
          "text": [
            "CPU times: user 59.7 s, sys: 6.97 s, total: 1min 6s\n",
            "Wall time: 1min 12s\n"
          ],
          "name": "stdout"
        }
      ]
    },
    {
      "cell_type": "markdown",
      "metadata": {
        "id": "hZoiaYqy_ukU",
        "colab_type": "text"
      },
      "source": [
        "**Explore its data structure**"
      ]
    },
    {
      "cell_type": "code",
      "metadata": {
        "id": "d5cfbXZ4_ukV",
        "colab_type": "code",
        "colab": {
          "base_uri": "https://localhost:8080/",
          "height": 50
        },
        "outputId": "548243a5-f071-4a31-aa8e-055f0fd9e5af"
      },
      "source": [
        "print(f'embeddings shape = {df_embeddings.shape}\\n')\n",
        "# print(df_embeddings.head(5).to_string())"
      ],
      "execution_count": null,
      "outputs": [
        {
          "output_type": "stream",
          "text": [
            "embeddings shape = (305520, 1025)\n",
            "\n"
          ],
          "name": "stdout"
        }
      ]
    },
    {
      "cell_type": "code",
      "metadata": {
        "scrolled": true,
        "id": "4siCC4gz_uki",
        "colab_type": "code",
        "colab": {
          "base_uri": "https://localhost:8080/",
          "height": 328
        },
        "outputId": "ffcb19aa-aa13-48a5-e747-b357c28caae4"
      },
      "source": [
        "df_embeddings.head(5)"
      ],
      "execution_count": null,
      "outputs": [
        {
          "output_type": "execute_result",
          "data": {
            "text/html": [
              "<div>\n",
              "<style scoped>\n",
              "    .dataframe tbody tr th:only-of-type {\n",
              "        vertical-align: middle;\n",
              "    }\n",
              "\n",
              "    .dataframe tbody tr th {\n",
              "        vertical-align: top;\n",
              "    }\n",
              "\n",
              "    .dataframe thead th {\n",
              "        text-align: right;\n",
              "    }\n",
              "</style>\n",
              "<table border=\"1\" class=\"dataframe\">\n",
              "  <thead>\n",
              "    <tr style=\"text-align: right;\">\n",
              "      <th></th>\n",
              "      <th>site_id</th>\n",
              "      <th>feature_0</th>\n",
              "      <th>feature_1</th>\n",
              "      <th>feature_2</th>\n",
              "      <th>feature_3</th>\n",
              "      <th>feature_4</th>\n",
              "      <th>feature_5</th>\n",
              "      <th>feature_6</th>\n",
              "      <th>feature_7</th>\n",
              "      <th>feature_8</th>\n",
              "      <th>feature_9</th>\n",
              "      <th>feature_10</th>\n",
              "      <th>feature_11</th>\n",
              "      <th>feature_12</th>\n",
              "      <th>feature_13</th>\n",
              "      <th>feature_14</th>\n",
              "      <th>feature_15</th>\n",
              "      <th>feature_16</th>\n",
              "      <th>feature_17</th>\n",
              "      <th>feature_18</th>\n",
              "      <th>feature_19</th>\n",
              "      <th>feature_20</th>\n",
              "      <th>feature_21</th>\n",
              "      <th>feature_22</th>\n",
              "      <th>feature_23</th>\n",
              "      <th>feature_24</th>\n",
              "      <th>feature_25</th>\n",
              "      <th>feature_26</th>\n",
              "      <th>feature_27</th>\n",
              "      <th>feature_28</th>\n",
              "      <th>feature_29</th>\n",
              "      <th>feature_30</th>\n",
              "      <th>feature_31</th>\n",
              "      <th>feature_32</th>\n",
              "      <th>feature_33</th>\n",
              "      <th>feature_34</th>\n",
              "      <th>feature_35</th>\n",
              "      <th>feature_36</th>\n",
              "      <th>feature_37</th>\n",
              "      <th>feature_38</th>\n",
              "      <th>...</th>\n",
              "      <th>feature_984</th>\n",
              "      <th>feature_985</th>\n",
              "      <th>feature_986</th>\n",
              "      <th>feature_987</th>\n",
              "      <th>feature_988</th>\n",
              "      <th>feature_989</th>\n",
              "      <th>feature_990</th>\n",
              "      <th>feature_991</th>\n",
              "      <th>feature_992</th>\n",
              "      <th>feature_993</th>\n",
              "      <th>feature_994</th>\n",
              "      <th>feature_995</th>\n",
              "      <th>feature_996</th>\n",
              "      <th>feature_997</th>\n",
              "      <th>feature_998</th>\n",
              "      <th>feature_999</th>\n",
              "      <th>feature_1000</th>\n",
              "      <th>feature_1001</th>\n",
              "      <th>feature_1002</th>\n",
              "      <th>feature_1003</th>\n",
              "      <th>feature_1004</th>\n",
              "      <th>feature_1005</th>\n",
              "      <th>feature_1006</th>\n",
              "      <th>feature_1007</th>\n",
              "      <th>feature_1008</th>\n",
              "      <th>feature_1009</th>\n",
              "      <th>feature_1010</th>\n",
              "      <th>feature_1011</th>\n",
              "      <th>feature_1012</th>\n",
              "      <th>feature_1013</th>\n",
              "      <th>feature_1014</th>\n",
              "      <th>feature_1015</th>\n",
              "      <th>feature_1016</th>\n",
              "      <th>feature_1017</th>\n",
              "      <th>feature_1018</th>\n",
              "      <th>feature_1019</th>\n",
              "      <th>feature_1020</th>\n",
              "      <th>feature_1021</th>\n",
              "      <th>feature_1022</th>\n",
              "      <th>feature_1023</th>\n",
              "    </tr>\n",
              "  </thead>\n",
              "  <tbody>\n",
              "    <tr>\n",
              "      <th>0</th>\n",
              "      <td>HRCE-1_10_AA02_1</td>\n",
              "      <td>2.355969</td>\n",
              "      <td>-0.058361</td>\n",
              "      <td>-0.169764</td>\n",
              "      <td>-0.316499</td>\n",
              "      <td>-0.891334</td>\n",
              "      <td>0.581174</td>\n",
              "      <td>-0.284587</td>\n",
              "      <td>-0.279198</td>\n",
              "      <td>-0.146575</td>\n",
              "      <td>-0.175336</td>\n",
              "      <td>-2.455430</td>\n",
              "      <td>-0.139774</td>\n",
              "      <td>-0.337087</td>\n",
              "      <td>1.628435</td>\n",
              "      <td>-0.713946</td>\n",
              "      <td>-0.932534</td>\n",
              "      <td>0.004243</td>\n",
              "      <td>0.066700</td>\n",
              "      <td>-0.101360</td>\n",
              "      <td>0.650752</td>\n",
              "      <td>-0.228591</td>\n",
              "      <td>0.161721</td>\n",
              "      <td>0.321429</td>\n",
              "      <td>0.033850</td>\n",
              "      <td>-2.137448</td>\n",
              "      <td>0.324023</td>\n",
              "      <td>0.473495</td>\n",
              "      <td>-1.583087</td>\n",
              "      <td>0.630035</td>\n",
              "      <td>1.167235</td>\n",
              "      <td>1.016468</td>\n",
              "      <td>0.114833</td>\n",
              "      <td>-1.614943</td>\n",
              "      <td>0.331538</td>\n",
              "      <td>-1.773885</td>\n",
              "      <td>0.291819</td>\n",
              "      <td>-1.851311</td>\n",
              "      <td>0.574511</td>\n",
              "      <td>-0.838225</td>\n",
              "      <td>...</td>\n",
              "      <td>1.142032</td>\n",
              "      <td>-0.845352</td>\n",
              "      <td>0.093382</td>\n",
              "      <td>0.408323</td>\n",
              "      <td>0.577964</td>\n",
              "      <td>0.056492</td>\n",
              "      <td>-0.219693</td>\n",
              "      <td>0.079488</td>\n",
              "      <td>-0.913954</td>\n",
              "      <td>-0.192929</td>\n",
              "      <td>-0.552265</td>\n",
              "      <td>-0.729298</td>\n",
              "      <td>0.322046</td>\n",
              "      <td>0.579591</td>\n",
              "      <td>0.270873</td>\n",
              "      <td>-0.388906</td>\n",
              "      <td>0.919923</td>\n",
              "      <td>0.836804</td>\n",
              "      <td>0.682457</td>\n",
              "      <td>0.297119</td>\n",
              "      <td>0.889674</td>\n",
              "      <td>0.322521</td>\n",
              "      <td>-1.069520</td>\n",
              "      <td>-0.178079</td>\n",
              "      <td>-0.726639</td>\n",
              "      <td>1.354043</td>\n",
              "      <td>0.130381</td>\n",
              "      <td>0.653186</td>\n",
              "      <td>-1.811593</td>\n",
              "      <td>0.995635</td>\n",
              "      <td>0.391186</td>\n",
              "      <td>0.786199</td>\n",
              "      <td>-1.739626</td>\n",
              "      <td>-1.317543</td>\n",
              "      <td>-1.208275</td>\n",
              "      <td>-0.507439</td>\n",
              "      <td>-0.317298</td>\n",
              "      <td>0.285018</td>\n",
              "      <td>-0.091285</td>\n",
              "      <td>-1.553895</td>\n",
              "    </tr>\n",
              "    <tr>\n",
              "      <th>1</th>\n",
              "      <td>HRCE-1_10_AA02_2</td>\n",
              "      <td>2.325652</td>\n",
              "      <td>-0.202519</td>\n",
              "      <td>-0.296017</td>\n",
              "      <td>-0.481136</td>\n",
              "      <td>-0.641461</td>\n",
              "      <td>0.702847</td>\n",
              "      <td>0.334191</td>\n",
              "      <td>-0.077498</td>\n",
              "      <td>-0.314538</td>\n",
              "      <td>-0.589848</td>\n",
              "      <td>-2.490217</td>\n",
              "      <td>-0.181231</td>\n",
              "      <td>-0.039784</td>\n",
              "      <td>1.365379</td>\n",
              "      <td>-0.750164</td>\n",
              "      <td>-1.118595</td>\n",
              "      <td>-0.030332</td>\n",
              "      <td>0.001164</td>\n",
              "      <td>-0.168584</td>\n",
              "      <td>0.268857</td>\n",
              "      <td>-0.261462</td>\n",
              "      <td>0.295830</td>\n",
              "      <td>0.098757</td>\n",
              "      <td>-0.273157</td>\n",
              "      <td>-2.191125</td>\n",
              "      <td>0.589241</td>\n",
              "      <td>0.675539</td>\n",
              "      <td>-1.377484</td>\n",
              "      <td>0.503110</td>\n",
              "      <td>1.232063</td>\n",
              "      <td>0.877188</td>\n",
              "      <td>0.037731</td>\n",
              "      <td>-2.015882</td>\n",
              "      <td>0.613051</td>\n",
              "      <td>-1.571816</td>\n",
              "      <td>-0.006229</td>\n",
              "      <td>-1.887402</td>\n",
              "      <td>0.774825</td>\n",
              "      <td>-1.143123</td>\n",
              "      <td>...</td>\n",
              "      <td>1.235851</td>\n",
              "      <td>-0.709567</td>\n",
              "      <td>-0.188990</td>\n",
              "      <td>0.115479</td>\n",
              "      <td>0.347220</td>\n",
              "      <td>-0.160982</td>\n",
              "      <td>-0.243853</td>\n",
              "      <td>0.115886</td>\n",
              "      <td>-0.902359</td>\n",
              "      <td>-0.540325</td>\n",
              "      <td>-0.541267</td>\n",
              "      <td>-0.400601</td>\n",
              "      <td>0.199344</td>\n",
              "      <td>0.564925</td>\n",
              "      <td>0.042079</td>\n",
              "      <td>-0.317985</td>\n",
              "      <td>0.976544</td>\n",
              "      <td>0.643442</td>\n",
              "      <td>0.489271</td>\n",
              "      <td>0.397631</td>\n",
              "      <td>1.442512</td>\n",
              "      <td>0.124368</td>\n",
              "      <td>-0.845888</td>\n",
              "      <td>-0.475685</td>\n",
              "      <td>-0.756450</td>\n",
              "      <td>1.562096</td>\n",
              "      <td>0.041372</td>\n",
              "      <td>1.072753</td>\n",
              "      <td>-2.243567</td>\n",
              "      <td>1.064072</td>\n",
              "      <td>0.638674</td>\n",
              "      <td>1.051621</td>\n",
              "      <td>-1.355659</td>\n",
              "      <td>-1.285210</td>\n",
              "      <td>-1.341911</td>\n",
              "      <td>-0.271349</td>\n",
              "      <td>-0.157707</td>\n",
              "      <td>0.081128</td>\n",
              "      <td>-0.447174</td>\n",
              "      <td>-1.614872</td>\n",
              "    </tr>\n",
              "    <tr>\n",
              "      <th>2</th>\n",
              "      <td>HRCE-1_10_AA02_3</td>\n",
              "      <td>2.207082</td>\n",
              "      <td>-0.379794</td>\n",
              "      <td>-0.365562</td>\n",
              "      <td>-0.196667</td>\n",
              "      <td>-0.799039</td>\n",
              "      <td>0.735813</td>\n",
              "      <td>0.081227</td>\n",
              "      <td>-0.393452</td>\n",
              "      <td>0.066324</td>\n",
              "      <td>-0.310497</td>\n",
              "      <td>-2.517209</td>\n",
              "      <td>-0.007386</td>\n",
              "      <td>-0.324284</td>\n",
              "      <td>1.354798</td>\n",
              "      <td>-0.159655</td>\n",
              "      <td>-0.946338</td>\n",
              "      <td>-0.221805</td>\n",
              "      <td>-0.368579</td>\n",
              "      <td>0.012367</td>\n",
              "      <td>0.338378</td>\n",
              "      <td>-0.184463</td>\n",
              "      <td>0.021785</td>\n",
              "      <td>0.129724</td>\n",
              "      <td>-0.135265</td>\n",
              "      <td>-2.196755</td>\n",
              "      <td>0.521846</td>\n",
              "      <td>0.520924</td>\n",
              "      <td>-1.353629</td>\n",
              "      <td>0.475637</td>\n",
              "      <td>1.142019</td>\n",
              "      <td>0.362267</td>\n",
              "      <td>-0.007313</td>\n",
              "      <td>-1.398576</td>\n",
              "      <td>0.783560</td>\n",
              "      <td>-1.463769</td>\n",
              "      <td>0.308247</td>\n",
              "      <td>-1.860861</td>\n",
              "      <td>0.292595</td>\n",
              "      <td>-0.947870</td>\n",
              "      <td>...</td>\n",
              "      <td>1.178260</td>\n",
              "      <td>-0.385114</td>\n",
              "      <td>0.031105</td>\n",
              "      <td>0.127435</td>\n",
              "      <td>0.251906</td>\n",
              "      <td>0.191642</td>\n",
              "      <td>-0.033093</td>\n",
              "      <td>0.409381</td>\n",
              "      <td>-1.048480</td>\n",
              "      <td>-0.147343</td>\n",
              "      <td>-0.743204</td>\n",
              "      <td>-0.728965</td>\n",
              "      <td>0.243104</td>\n",
              "      <td>0.644646</td>\n",
              "      <td>0.315567</td>\n",
              "      <td>-0.127823</td>\n",
              "      <td>0.708322</td>\n",
              "      <td>0.528243</td>\n",
              "      <td>0.930237</td>\n",
              "      <td>0.536356</td>\n",
              "      <td>0.689853</td>\n",
              "      <td>0.141840</td>\n",
              "      <td>-1.067782</td>\n",
              "      <td>-0.362878</td>\n",
              "      <td>-0.588146</td>\n",
              "      <td>1.517695</td>\n",
              "      <td>0.240307</td>\n",
              "      <td>0.686097</td>\n",
              "      <td>-1.572938</td>\n",
              "      <td>1.280373</td>\n",
              "      <td>0.552127</td>\n",
              "      <td>0.775428</td>\n",
              "      <td>-1.616731</td>\n",
              "      <td>-0.868382</td>\n",
              "      <td>-1.334486</td>\n",
              "      <td>-0.774456</td>\n",
              "      <td>-0.363250</td>\n",
              "      <td>0.161023</td>\n",
              "      <td>-0.066745</td>\n",
              "      <td>-1.325545</td>\n",
              "    </tr>\n",
              "    <tr>\n",
              "      <th>3</th>\n",
              "      <td>HRCE-1_10_AA02_4</td>\n",
              "      <td>2.452741</td>\n",
              "      <td>0.050658</td>\n",
              "      <td>-0.444642</td>\n",
              "      <td>-0.309758</td>\n",
              "      <td>-0.724900</td>\n",
              "      <td>0.658327</td>\n",
              "      <td>-0.128331</td>\n",
              "      <td>-0.164759</td>\n",
              "      <td>0.279105</td>\n",
              "      <td>-0.344210</td>\n",
              "      <td>-2.443276</td>\n",
              "      <td>-0.089115</td>\n",
              "      <td>-0.078181</td>\n",
              "      <td>1.391756</td>\n",
              "      <td>-0.595112</td>\n",
              "      <td>-1.257158</td>\n",
              "      <td>-0.031952</td>\n",
              "      <td>-0.102510</td>\n",
              "      <td>-0.263153</td>\n",
              "      <td>0.385154</td>\n",
              "      <td>-0.346197</td>\n",
              "      <td>-0.134449</td>\n",
              "      <td>0.394239</td>\n",
              "      <td>-0.035160</td>\n",
              "      <td>-2.316346</td>\n",
              "      <td>0.456331</td>\n",
              "      <td>0.536123</td>\n",
              "      <td>-1.185799</td>\n",
              "      <td>0.305819</td>\n",
              "      <td>1.501016</td>\n",
              "      <td>0.592708</td>\n",
              "      <td>0.074070</td>\n",
              "      <td>-1.457676</td>\n",
              "      <td>0.329900</td>\n",
              "      <td>-1.496578</td>\n",
              "      <td>0.250048</td>\n",
              "      <td>-2.081042</td>\n",
              "      <td>0.583651</td>\n",
              "      <td>-1.115648</td>\n",
              "      <td>...</td>\n",
              "      <td>1.371026</td>\n",
              "      <td>-0.934892</td>\n",
              "      <td>-0.214745</td>\n",
              "      <td>0.473699</td>\n",
              "      <td>0.086849</td>\n",
              "      <td>0.056481</td>\n",
              "      <td>-0.072405</td>\n",
              "      <td>0.099594</td>\n",
              "      <td>-0.783984</td>\n",
              "      <td>-0.301317</td>\n",
              "      <td>0.086680</td>\n",
              "      <td>-0.462799</td>\n",
              "      <td>0.623607</td>\n",
              "      <td>1.015139</td>\n",
              "      <td>0.227311</td>\n",
              "      <td>-0.064943</td>\n",
              "      <td>0.997879</td>\n",
              "      <td>0.573458</td>\n",
              "      <td>0.467447</td>\n",
              "      <td>0.445427</td>\n",
              "      <td>0.902873</td>\n",
              "      <td>0.473135</td>\n",
              "      <td>-0.985256</td>\n",
              "      <td>-0.214621</td>\n",
              "      <td>-0.758221</td>\n",
              "      <td>1.651726</td>\n",
              "      <td>0.115064</td>\n",
              "      <td>0.488322</td>\n",
              "      <td>-1.986303</td>\n",
              "      <td>0.505292</td>\n",
              "      <td>0.689145</td>\n",
              "      <td>1.167066</td>\n",
              "      <td>-1.275786</td>\n",
              "      <td>-2.088455</td>\n",
              "      <td>-1.231964</td>\n",
              "      <td>-0.364454</td>\n",
              "      <td>-0.135066</td>\n",
              "      <td>0.493010</td>\n",
              "      <td>-0.544680</td>\n",
              "      <td>-1.290150</td>\n",
              "    </tr>\n",
              "    <tr>\n",
              "      <th>4</th>\n",
              "      <td>HRCE-1_10_AA03_1</td>\n",
              "      <td>2.106868</td>\n",
              "      <td>0.032095</td>\n",
              "      <td>-0.175542</td>\n",
              "      <td>-0.808618</td>\n",
              "      <td>-0.806217</td>\n",
              "      <td>0.721340</td>\n",
              "      <td>-0.213196</td>\n",
              "      <td>-0.187649</td>\n",
              "      <td>-0.070294</td>\n",
              "      <td>0.077702</td>\n",
              "      <td>-2.070780</td>\n",
              "      <td>-0.031483</td>\n",
              "      <td>-0.136884</td>\n",
              "      <td>1.381774</td>\n",
              "      <td>-1.071740</td>\n",
              "      <td>-1.388578</td>\n",
              "      <td>0.094163</td>\n",
              "      <td>-0.050034</td>\n",
              "      <td>0.180168</td>\n",
              "      <td>-0.038291</td>\n",
              "      <td>-0.584169</td>\n",
              "      <td>0.415004</td>\n",
              "      <td>0.344779</td>\n",
              "      <td>-0.154098</td>\n",
              "      <td>-2.022594</td>\n",
              "      <td>0.341342</td>\n",
              "      <td>-0.064083</td>\n",
              "      <td>-1.447038</td>\n",
              "      <td>0.673494</td>\n",
              "      <td>1.268035</td>\n",
              "      <td>0.324051</td>\n",
              "      <td>0.188245</td>\n",
              "      <td>-1.399253</td>\n",
              "      <td>0.649406</td>\n",
              "      <td>-1.610154</td>\n",
              "      <td>0.370972</td>\n",
              "      <td>-1.498171</td>\n",
              "      <td>0.433835</td>\n",
              "      <td>-0.441181</td>\n",
              "      <td>...</td>\n",
              "      <td>1.177534</td>\n",
              "      <td>-0.644631</td>\n",
              "      <td>0.106193</td>\n",
              "      <td>0.326327</td>\n",
              "      <td>0.556960</td>\n",
              "      <td>-0.062484</td>\n",
              "      <td>-0.460332</td>\n",
              "      <td>-0.549729</td>\n",
              "      <td>-0.816054</td>\n",
              "      <td>0.047669</td>\n",
              "      <td>-0.787485</td>\n",
              "      <td>-0.775569</td>\n",
              "      <td>0.540508</td>\n",
              "      <td>0.176777</td>\n",
              "      <td>0.527965</td>\n",
              "      <td>-0.166219</td>\n",
              "      <td>0.891260</td>\n",
              "      <td>0.574090</td>\n",
              "      <td>0.576591</td>\n",
              "      <td>0.140098</td>\n",
              "      <td>0.606604</td>\n",
              "      <td>0.071239</td>\n",
              "      <td>-1.059820</td>\n",
              "      <td>-0.500132</td>\n",
              "      <td>-0.447428</td>\n",
              "      <td>0.836188</td>\n",
              "      <td>0.009887</td>\n",
              "      <td>0.554837</td>\n",
              "      <td>-1.518460</td>\n",
              "      <td>1.047890</td>\n",
              "      <td>0.385696</td>\n",
              "      <td>0.503924</td>\n",
              "      <td>-1.192554</td>\n",
              "      <td>-1.123965</td>\n",
              "      <td>-1.323457</td>\n",
              "      <td>-0.359761</td>\n",
              "      <td>-0.100340</td>\n",
              "      <td>0.185773</td>\n",
              "      <td>-0.394267</td>\n",
              "      <td>-1.712760</td>\n",
              "    </tr>\n",
              "  </tbody>\n",
              "</table>\n",
              "<p>5 rows × 1025 columns</p>\n",
              "</div>"
            ],
            "text/plain": [
              "            site_id  feature_0  ...  feature_1022  feature_1023\n",
              "0  HRCE-1_10_AA02_1   2.355969  ...     -0.091285     -1.553895\n",
              "1  HRCE-1_10_AA02_2   2.325652  ...     -0.447174     -1.614872\n",
              "2  HRCE-1_10_AA02_3   2.207082  ...     -0.066745     -1.325545\n",
              "3  HRCE-1_10_AA02_4   2.452741  ...     -0.544680     -1.290150\n",
              "4  HRCE-1_10_AA03_1   2.106868  ...     -0.394267     -1.712760\n",
              "\n",
              "[5 rows x 1025 columns]"
            ]
          },
          "metadata": {
            "tags": []
          },
          "execution_count": 14
        }
      ]
    },
    {
      "cell_type": "code",
      "metadata": {
        "id": "ozZkUYtN_ukt",
        "colab_type": "code",
        "colab": {
          "base_uri": "https://localhost:8080/",
          "height": 101
        },
        "outputId": "5f01c382-e16b-4e56-b1c3-b24ebac0d97e"
      },
      "source": [
        "df_embeddings.info()"
      ],
      "execution_count": null,
      "outputs": [
        {
          "output_type": "stream",
          "text": [
            "<class 'pandas.core.frame.DataFrame'>\n",
            "RangeIndex: 305520 entries, 0 to 305519\n",
            "Columns: 1025 entries, site_id to feature_1023\n",
            "dtypes: float64(1024), object(1)\n",
            "memory usage: 2.3+ GB\n"
          ],
          "name": "stdout"
        }
      ]
    },
    {
      "cell_type": "markdown",
      "metadata": {
        "id": "DcpJr9zwgoVh",
        "colab_type": "text"
      },
      "source": [
        "**Check the unique values in each column and whether or not NaN value existed**  \n",
        "```NaN existed if 'NaN existed' value = 1 else 0```  \n",
        "**Note: NaN is not existed in this dataset --> Don't need to run the below code again**"
      ]
    },
    {
      "cell_type": "code",
      "metadata": {
        "id": "qQKGW1P5_uk2",
        "colab_type": "code",
        "colab": {}
      },
      "source": [
        "test_NaN = False\n",
        "if test_NaN: \n",
        "    df_embeddings_unique = pd.merge(df_embeddings.nunique(dropna=False).to_frame(name='Including NaN'),\n",
        "                                    df_embeddings.nunique(dropna=True).to_frame(name='Excluding NaN'),\n",
        "                                    left_index=True, \n",
        "                                    right_index=True)\n",
        "    df_embeddings_unique['NaN existed'] = df_embeddings_unique['Including NaN'] -  df_embeddings_unique['Excluding NaN']\n",
        "    df_NaN_existed = df_embeddings_unique[df_embeddings_unique['NaN existed'] == 1]\n",
        "    if df_NaN_existed.empty:\n",
        "        print('There is no NaN in this embeddings dataset')\n",
        "    else:\n",
        "        print('NaN in this embeddings dataset - Need to investigate')"
      ],
      "execution_count": null,
      "outputs": []
    },
    {
      "cell_type": "markdown",
      "metadata": {
        "id": "xsfrG_0g_6VB",
        "colab_type": "text"
      },
      "source": [
        "#**2. Get a subset of metadata and embeddings just for CNN classification in Part 3**  \n",
        "**In this case, we get 9120 rows for each disease condition so that they are balanced classess and also suitable size for running in a colab. However, the \"active\" class is undersampling.**  \n",
        "In reality, the oversampling method is better.  \n",
        "(Ref: \"A systematic study of the class imbalance problem in convolutional neural networks\"  \n",
        "https://arxiv.org/abs/1710.05381 )"
      ]
    },
    {
      "cell_type": "code",
      "metadata": {
        "id": "rk7LHoTr_5OY",
        "colab_type": "code",
        "colab": {}
      },
      "source": [
        "df_active = df_metadata[df_metadata['disease_condition'] == 'Active SARS-CoV-2']\n",
        "df_active_new = df_active.sample(n=9120, random_state=42)\n",
        "df_uv = df_metadata[df_metadata['disease_condition'] == 'UV Inactivated SARS-CoV-2']\n",
        "df_mock = df_metadata[df_metadata['disease_condition'] == 'Mock']\n",
        "\n",
        "df_metadata_new = pd.concat([df_active_new, df_uv, df_mock], axis=0)"
      ],
      "execution_count": null,
      "outputs": []
    },
    {
      "cell_type": "code",
      "metadata": {
        "id": "Kh93d63wITJ_",
        "colab_type": "code",
        "colab": {
          "base_uri": "https://localhost:8080/",
          "height": 34
        },
        "outputId": "1480435f-da44-4793-97f9-4d0f170bf108"
      },
      "source": [
        "df_metadata_new.shape"
      ],
      "execution_count": null,
      "outputs": [
        {
          "output_type": "execute_result",
          "data": {
            "text/plain": [
              "(27360, 11)"
            ]
          },
          "metadata": {
            "tags": []
          },
          "execution_count": 18
        }
      ]
    },
    {
      "cell_type": "code",
      "metadata": {
        "id": "mYxajc9qWuaQ",
        "colab_type": "code",
        "colab": {
          "base_uri": "https://localhost:8080/",
          "height": 328
        },
        "outputId": "5ead8e26-12b9-4daf-e51c-0228c7dfda3e"
      },
      "source": [
        "df_embeddings.head()"
      ],
      "execution_count": null,
      "outputs": [
        {
          "output_type": "execute_result",
          "data": {
            "text/html": [
              "<div>\n",
              "<style scoped>\n",
              "    .dataframe tbody tr th:only-of-type {\n",
              "        vertical-align: middle;\n",
              "    }\n",
              "\n",
              "    .dataframe tbody tr th {\n",
              "        vertical-align: top;\n",
              "    }\n",
              "\n",
              "    .dataframe thead th {\n",
              "        text-align: right;\n",
              "    }\n",
              "</style>\n",
              "<table border=\"1\" class=\"dataframe\">\n",
              "  <thead>\n",
              "    <tr style=\"text-align: right;\">\n",
              "      <th></th>\n",
              "      <th>site_id</th>\n",
              "      <th>feature_0</th>\n",
              "      <th>feature_1</th>\n",
              "      <th>feature_2</th>\n",
              "      <th>feature_3</th>\n",
              "      <th>feature_4</th>\n",
              "      <th>feature_5</th>\n",
              "      <th>feature_6</th>\n",
              "      <th>feature_7</th>\n",
              "      <th>feature_8</th>\n",
              "      <th>feature_9</th>\n",
              "      <th>feature_10</th>\n",
              "      <th>feature_11</th>\n",
              "      <th>feature_12</th>\n",
              "      <th>feature_13</th>\n",
              "      <th>feature_14</th>\n",
              "      <th>feature_15</th>\n",
              "      <th>feature_16</th>\n",
              "      <th>feature_17</th>\n",
              "      <th>feature_18</th>\n",
              "      <th>feature_19</th>\n",
              "      <th>feature_20</th>\n",
              "      <th>feature_21</th>\n",
              "      <th>feature_22</th>\n",
              "      <th>feature_23</th>\n",
              "      <th>feature_24</th>\n",
              "      <th>feature_25</th>\n",
              "      <th>feature_26</th>\n",
              "      <th>feature_27</th>\n",
              "      <th>feature_28</th>\n",
              "      <th>feature_29</th>\n",
              "      <th>feature_30</th>\n",
              "      <th>feature_31</th>\n",
              "      <th>feature_32</th>\n",
              "      <th>feature_33</th>\n",
              "      <th>feature_34</th>\n",
              "      <th>feature_35</th>\n",
              "      <th>feature_36</th>\n",
              "      <th>feature_37</th>\n",
              "      <th>feature_38</th>\n",
              "      <th>...</th>\n",
              "      <th>feature_984</th>\n",
              "      <th>feature_985</th>\n",
              "      <th>feature_986</th>\n",
              "      <th>feature_987</th>\n",
              "      <th>feature_988</th>\n",
              "      <th>feature_989</th>\n",
              "      <th>feature_990</th>\n",
              "      <th>feature_991</th>\n",
              "      <th>feature_992</th>\n",
              "      <th>feature_993</th>\n",
              "      <th>feature_994</th>\n",
              "      <th>feature_995</th>\n",
              "      <th>feature_996</th>\n",
              "      <th>feature_997</th>\n",
              "      <th>feature_998</th>\n",
              "      <th>feature_999</th>\n",
              "      <th>feature_1000</th>\n",
              "      <th>feature_1001</th>\n",
              "      <th>feature_1002</th>\n",
              "      <th>feature_1003</th>\n",
              "      <th>feature_1004</th>\n",
              "      <th>feature_1005</th>\n",
              "      <th>feature_1006</th>\n",
              "      <th>feature_1007</th>\n",
              "      <th>feature_1008</th>\n",
              "      <th>feature_1009</th>\n",
              "      <th>feature_1010</th>\n",
              "      <th>feature_1011</th>\n",
              "      <th>feature_1012</th>\n",
              "      <th>feature_1013</th>\n",
              "      <th>feature_1014</th>\n",
              "      <th>feature_1015</th>\n",
              "      <th>feature_1016</th>\n",
              "      <th>feature_1017</th>\n",
              "      <th>feature_1018</th>\n",
              "      <th>feature_1019</th>\n",
              "      <th>feature_1020</th>\n",
              "      <th>feature_1021</th>\n",
              "      <th>feature_1022</th>\n",
              "      <th>feature_1023</th>\n",
              "    </tr>\n",
              "  </thead>\n",
              "  <tbody>\n",
              "    <tr>\n",
              "      <th>0</th>\n",
              "      <td>HRCE-1_10_AA02_1</td>\n",
              "      <td>2.355969</td>\n",
              "      <td>-0.058361</td>\n",
              "      <td>-0.169764</td>\n",
              "      <td>-0.316499</td>\n",
              "      <td>-0.891334</td>\n",
              "      <td>0.581174</td>\n",
              "      <td>-0.284587</td>\n",
              "      <td>-0.279198</td>\n",
              "      <td>-0.146575</td>\n",
              "      <td>-0.175336</td>\n",
              "      <td>-2.455430</td>\n",
              "      <td>-0.139774</td>\n",
              "      <td>-0.337087</td>\n",
              "      <td>1.628435</td>\n",
              "      <td>-0.713946</td>\n",
              "      <td>-0.932534</td>\n",
              "      <td>0.004243</td>\n",
              "      <td>0.066700</td>\n",
              "      <td>-0.101360</td>\n",
              "      <td>0.650752</td>\n",
              "      <td>-0.228591</td>\n",
              "      <td>0.161721</td>\n",
              "      <td>0.321429</td>\n",
              "      <td>0.033850</td>\n",
              "      <td>-2.137448</td>\n",
              "      <td>0.324023</td>\n",
              "      <td>0.473495</td>\n",
              "      <td>-1.583087</td>\n",
              "      <td>0.630035</td>\n",
              "      <td>1.167235</td>\n",
              "      <td>1.016468</td>\n",
              "      <td>0.114833</td>\n",
              "      <td>-1.614943</td>\n",
              "      <td>0.331538</td>\n",
              "      <td>-1.773885</td>\n",
              "      <td>0.291819</td>\n",
              "      <td>-1.851311</td>\n",
              "      <td>0.574511</td>\n",
              "      <td>-0.838225</td>\n",
              "      <td>...</td>\n",
              "      <td>1.142032</td>\n",
              "      <td>-0.845352</td>\n",
              "      <td>0.093382</td>\n",
              "      <td>0.408323</td>\n",
              "      <td>0.577964</td>\n",
              "      <td>0.056492</td>\n",
              "      <td>-0.219693</td>\n",
              "      <td>0.079488</td>\n",
              "      <td>-0.913954</td>\n",
              "      <td>-0.192929</td>\n",
              "      <td>-0.552265</td>\n",
              "      <td>-0.729298</td>\n",
              "      <td>0.322046</td>\n",
              "      <td>0.579591</td>\n",
              "      <td>0.270873</td>\n",
              "      <td>-0.388906</td>\n",
              "      <td>0.919923</td>\n",
              "      <td>0.836804</td>\n",
              "      <td>0.682457</td>\n",
              "      <td>0.297119</td>\n",
              "      <td>0.889674</td>\n",
              "      <td>0.322521</td>\n",
              "      <td>-1.069520</td>\n",
              "      <td>-0.178079</td>\n",
              "      <td>-0.726639</td>\n",
              "      <td>1.354043</td>\n",
              "      <td>0.130381</td>\n",
              "      <td>0.653186</td>\n",
              "      <td>-1.811593</td>\n",
              "      <td>0.995635</td>\n",
              "      <td>0.391186</td>\n",
              "      <td>0.786199</td>\n",
              "      <td>-1.739626</td>\n",
              "      <td>-1.317543</td>\n",
              "      <td>-1.208275</td>\n",
              "      <td>-0.507439</td>\n",
              "      <td>-0.317298</td>\n",
              "      <td>0.285018</td>\n",
              "      <td>-0.091285</td>\n",
              "      <td>-1.553895</td>\n",
              "    </tr>\n",
              "    <tr>\n",
              "      <th>1</th>\n",
              "      <td>HRCE-1_10_AA02_2</td>\n",
              "      <td>2.325652</td>\n",
              "      <td>-0.202519</td>\n",
              "      <td>-0.296017</td>\n",
              "      <td>-0.481136</td>\n",
              "      <td>-0.641461</td>\n",
              "      <td>0.702847</td>\n",
              "      <td>0.334191</td>\n",
              "      <td>-0.077498</td>\n",
              "      <td>-0.314538</td>\n",
              "      <td>-0.589848</td>\n",
              "      <td>-2.490217</td>\n",
              "      <td>-0.181231</td>\n",
              "      <td>-0.039784</td>\n",
              "      <td>1.365379</td>\n",
              "      <td>-0.750164</td>\n",
              "      <td>-1.118595</td>\n",
              "      <td>-0.030332</td>\n",
              "      <td>0.001164</td>\n",
              "      <td>-0.168584</td>\n",
              "      <td>0.268857</td>\n",
              "      <td>-0.261462</td>\n",
              "      <td>0.295830</td>\n",
              "      <td>0.098757</td>\n",
              "      <td>-0.273157</td>\n",
              "      <td>-2.191125</td>\n",
              "      <td>0.589241</td>\n",
              "      <td>0.675539</td>\n",
              "      <td>-1.377484</td>\n",
              "      <td>0.503110</td>\n",
              "      <td>1.232063</td>\n",
              "      <td>0.877188</td>\n",
              "      <td>0.037731</td>\n",
              "      <td>-2.015882</td>\n",
              "      <td>0.613051</td>\n",
              "      <td>-1.571816</td>\n",
              "      <td>-0.006229</td>\n",
              "      <td>-1.887402</td>\n",
              "      <td>0.774825</td>\n",
              "      <td>-1.143123</td>\n",
              "      <td>...</td>\n",
              "      <td>1.235851</td>\n",
              "      <td>-0.709567</td>\n",
              "      <td>-0.188990</td>\n",
              "      <td>0.115479</td>\n",
              "      <td>0.347220</td>\n",
              "      <td>-0.160982</td>\n",
              "      <td>-0.243853</td>\n",
              "      <td>0.115886</td>\n",
              "      <td>-0.902359</td>\n",
              "      <td>-0.540325</td>\n",
              "      <td>-0.541267</td>\n",
              "      <td>-0.400601</td>\n",
              "      <td>0.199344</td>\n",
              "      <td>0.564925</td>\n",
              "      <td>0.042079</td>\n",
              "      <td>-0.317985</td>\n",
              "      <td>0.976544</td>\n",
              "      <td>0.643442</td>\n",
              "      <td>0.489271</td>\n",
              "      <td>0.397631</td>\n",
              "      <td>1.442512</td>\n",
              "      <td>0.124368</td>\n",
              "      <td>-0.845888</td>\n",
              "      <td>-0.475685</td>\n",
              "      <td>-0.756450</td>\n",
              "      <td>1.562096</td>\n",
              "      <td>0.041372</td>\n",
              "      <td>1.072753</td>\n",
              "      <td>-2.243567</td>\n",
              "      <td>1.064072</td>\n",
              "      <td>0.638674</td>\n",
              "      <td>1.051621</td>\n",
              "      <td>-1.355659</td>\n",
              "      <td>-1.285210</td>\n",
              "      <td>-1.341911</td>\n",
              "      <td>-0.271349</td>\n",
              "      <td>-0.157707</td>\n",
              "      <td>0.081128</td>\n",
              "      <td>-0.447174</td>\n",
              "      <td>-1.614872</td>\n",
              "    </tr>\n",
              "    <tr>\n",
              "      <th>2</th>\n",
              "      <td>HRCE-1_10_AA02_3</td>\n",
              "      <td>2.207082</td>\n",
              "      <td>-0.379794</td>\n",
              "      <td>-0.365562</td>\n",
              "      <td>-0.196667</td>\n",
              "      <td>-0.799039</td>\n",
              "      <td>0.735813</td>\n",
              "      <td>0.081227</td>\n",
              "      <td>-0.393452</td>\n",
              "      <td>0.066324</td>\n",
              "      <td>-0.310497</td>\n",
              "      <td>-2.517209</td>\n",
              "      <td>-0.007386</td>\n",
              "      <td>-0.324284</td>\n",
              "      <td>1.354798</td>\n",
              "      <td>-0.159655</td>\n",
              "      <td>-0.946338</td>\n",
              "      <td>-0.221805</td>\n",
              "      <td>-0.368579</td>\n",
              "      <td>0.012367</td>\n",
              "      <td>0.338378</td>\n",
              "      <td>-0.184463</td>\n",
              "      <td>0.021785</td>\n",
              "      <td>0.129724</td>\n",
              "      <td>-0.135265</td>\n",
              "      <td>-2.196755</td>\n",
              "      <td>0.521846</td>\n",
              "      <td>0.520924</td>\n",
              "      <td>-1.353629</td>\n",
              "      <td>0.475637</td>\n",
              "      <td>1.142019</td>\n",
              "      <td>0.362267</td>\n",
              "      <td>-0.007313</td>\n",
              "      <td>-1.398576</td>\n",
              "      <td>0.783560</td>\n",
              "      <td>-1.463769</td>\n",
              "      <td>0.308247</td>\n",
              "      <td>-1.860861</td>\n",
              "      <td>0.292595</td>\n",
              "      <td>-0.947870</td>\n",
              "      <td>...</td>\n",
              "      <td>1.178260</td>\n",
              "      <td>-0.385114</td>\n",
              "      <td>0.031105</td>\n",
              "      <td>0.127435</td>\n",
              "      <td>0.251906</td>\n",
              "      <td>0.191642</td>\n",
              "      <td>-0.033093</td>\n",
              "      <td>0.409381</td>\n",
              "      <td>-1.048480</td>\n",
              "      <td>-0.147343</td>\n",
              "      <td>-0.743204</td>\n",
              "      <td>-0.728965</td>\n",
              "      <td>0.243104</td>\n",
              "      <td>0.644646</td>\n",
              "      <td>0.315567</td>\n",
              "      <td>-0.127823</td>\n",
              "      <td>0.708322</td>\n",
              "      <td>0.528243</td>\n",
              "      <td>0.930237</td>\n",
              "      <td>0.536356</td>\n",
              "      <td>0.689853</td>\n",
              "      <td>0.141840</td>\n",
              "      <td>-1.067782</td>\n",
              "      <td>-0.362878</td>\n",
              "      <td>-0.588146</td>\n",
              "      <td>1.517695</td>\n",
              "      <td>0.240307</td>\n",
              "      <td>0.686097</td>\n",
              "      <td>-1.572938</td>\n",
              "      <td>1.280373</td>\n",
              "      <td>0.552127</td>\n",
              "      <td>0.775428</td>\n",
              "      <td>-1.616731</td>\n",
              "      <td>-0.868382</td>\n",
              "      <td>-1.334486</td>\n",
              "      <td>-0.774456</td>\n",
              "      <td>-0.363250</td>\n",
              "      <td>0.161023</td>\n",
              "      <td>-0.066745</td>\n",
              "      <td>-1.325545</td>\n",
              "    </tr>\n",
              "    <tr>\n",
              "      <th>3</th>\n",
              "      <td>HRCE-1_10_AA02_4</td>\n",
              "      <td>2.452741</td>\n",
              "      <td>0.050658</td>\n",
              "      <td>-0.444642</td>\n",
              "      <td>-0.309758</td>\n",
              "      <td>-0.724900</td>\n",
              "      <td>0.658327</td>\n",
              "      <td>-0.128331</td>\n",
              "      <td>-0.164759</td>\n",
              "      <td>0.279105</td>\n",
              "      <td>-0.344210</td>\n",
              "      <td>-2.443276</td>\n",
              "      <td>-0.089115</td>\n",
              "      <td>-0.078181</td>\n",
              "      <td>1.391756</td>\n",
              "      <td>-0.595112</td>\n",
              "      <td>-1.257158</td>\n",
              "      <td>-0.031952</td>\n",
              "      <td>-0.102510</td>\n",
              "      <td>-0.263153</td>\n",
              "      <td>0.385154</td>\n",
              "      <td>-0.346197</td>\n",
              "      <td>-0.134449</td>\n",
              "      <td>0.394239</td>\n",
              "      <td>-0.035160</td>\n",
              "      <td>-2.316346</td>\n",
              "      <td>0.456331</td>\n",
              "      <td>0.536123</td>\n",
              "      <td>-1.185799</td>\n",
              "      <td>0.305819</td>\n",
              "      <td>1.501016</td>\n",
              "      <td>0.592708</td>\n",
              "      <td>0.074070</td>\n",
              "      <td>-1.457676</td>\n",
              "      <td>0.329900</td>\n",
              "      <td>-1.496578</td>\n",
              "      <td>0.250048</td>\n",
              "      <td>-2.081042</td>\n",
              "      <td>0.583651</td>\n",
              "      <td>-1.115648</td>\n",
              "      <td>...</td>\n",
              "      <td>1.371026</td>\n",
              "      <td>-0.934892</td>\n",
              "      <td>-0.214745</td>\n",
              "      <td>0.473699</td>\n",
              "      <td>0.086849</td>\n",
              "      <td>0.056481</td>\n",
              "      <td>-0.072405</td>\n",
              "      <td>0.099594</td>\n",
              "      <td>-0.783984</td>\n",
              "      <td>-0.301317</td>\n",
              "      <td>0.086680</td>\n",
              "      <td>-0.462799</td>\n",
              "      <td>0.623607</td>\n",
              "      <td>1.015139</td>\n",
              "      <td>0.227311</td>\n",
              "      <td>-0.064943</td>\n",
              "      <td>0.997879</td>\n",
              "      <td>0.573458</td>\n",
              "      <td>0.467447</td>\n",
              "      <td>0.445427</td>\n",
              "      <td>0.902873</td>\n",
              "      <td>0.473135</td>\n",
              "      <td>-0.985256</td>\n",
              "      <td>-0.214621</td>\n",
              "      <td>-0.758221</td>\n",
              "      <td>1.651726</td>\n",
              "      <td>0.115064</td>\n",
              "      <td>0.488322</td>\n",
              "      <td>-1.986303</td>\n",
              "      <td>0.505292</td>\n",
              "      <td>0.689145</td>\n",
              "      <td>1.167066</td>\n",
              "      <td>-1.275786</td>\n",
              "      <td>-2.088455</td>\n",
              "      <td>-1.231964</td>\n",
              "      <td>-0.364454</td>\n",
              "      <td>-0.135066</td>\n",
              "      <td>0.493010</td>\n",
              "      <td>-0.544680</td>\n",
              "      <td>-1.290150</td>\n",
              "    </tr>\n",
              "    <tr>\n",
              "      <th>4</th>\n",
              "      <td>HRCE-1_10_AA03_1</td>\n",
              "      <td>2.106868</td>\n",
              "      <td>0.032095</td>\n",
              "      <td>-0.175542</td>\n",
              "      <td>-0.808618</td>\n",
              "      <td>-0.806217</td>\n",
              "      <td>0.721340</td>\n",
              "      <td>-0.213196</td>\n",
              "      <td>-0.187649</td>\n",
              "      <td>-0.070294</td>\n",
              "      <td>0.077702</td>\n",
              "      <td>-2.070780</td>\n",
              "      <td>-0.031483</td>\n",
              "      <td>-0.136884</td>\n",
              "      <td>1.381774</td>\n",
              "      <td>-1.071740</td>\n",
              "      <td>-1.388578</td>\n",
              "      <td>0.094163</td>\n",
              "      <td>-0.050034</td>\n",
              "      <td>0.180168</td>\n",
              "      <td>-0.038291</td>\n",
              "      <td>-0.584169</td>\n",
              "      <td>0.415004</td>\n",
              "      <td>0.344779</td>\n",
              "      <td>-0.154098</td>\n",
              "      <td>-2.022594</td>\n",
              "      <td>0.341342</td>\n",
              "      <td>-0.064083</td>\n",
              "      <td>-1.447038</td>\n",
              "      <td>0.673494</td>\n",
              "      <td>1.268035</td>\n",
              "      <td>0.324051</td>\n",
              "      <td>0.188245</td>\n",
              "      <td>-1.399253</td>\n",
              "      <td>0.649406</td>\n",
              "      <td>-1.610154</td>\n",
              "      <td>0.370972</td>\n",
              "      <td>-1.498171</td>\n",
              "      <td>0.433835</td>\n",
              "      <td>-0.441181</td>\n",
              "      <td>...</td>\n",
              "      <td>1.177534</td>\n",
              "      <td>-0.644631</td>\n",
              "      <td>0.106193</td>\n",
              "      <td>0.326327</td>\n",
              "      <td>0.556960</td>\n",
              "      <td>-0.062484</td>\n",
              "      <td>-0.460332</td>\n",
              "      <td>-0.549729</td>\n",
              "      <td>-0.816054</td>\n",
              "      <td>0.047669</td>\n",
              "      <td>-0.787485</td>\n",
              "      <td>-0.775569</td>\n",
              "      <td>0.540508</td>\n",
              "      <td>0.176777</td>\n",
              "      <td>0.527965</td>\n",
              "      <td>-0.166219</td>\n",
              "      <td>0.891260</td>\n",
              "      <td>0.574090</td>\n",
              "      <td>0.576591</td>\n",
              "      <td>0.140098</td>\n",
              "      <td>0.606604</td>\n",
              "      <td>0.071239</td>\n",
              "      <td>-1.059820</td>\n",
              "      <td>-0.500132</td>\n",
              "      <td>-0.447428</td>\n",
              "      <td>0.836188</td>\n",
              "      <td>0.009887</td>\n",
              "      <td>0.554837</td>\n",
              "      <td>-1.518460</td>\n",
              "      <td>1.047890</td>\n",
              "      <td>0.385696</td>\n",
              "      <td>0.503924</td>\n",
              "      <td>-1.192554</td>\n",
              "      <td>-1.123965</td>\n",
              "      <td>-1.323457</td>\n",
              "      <td>-0.359761</td>\n",
              "      <td>-0.100340</td>\n",
              "      <td>0.185773</td>\n",
              "      <td>-0.394267</td>\n",
              "      <td>-1.712760</td>\n",
              "    </tr>\n",
              "  </tbody>\n",
              "</table>\n",
              "<p>5 rows × 1025 columns</p>\n",
              "</div>"
            ],
            "text/plain": [
              "            site_id  feature_0  ...  feature_1022  feature_1023\n",
              "0  HRCE-1_10_AA02_1   2.355969  ...     -0.091285     -1.553895\n",
              "1  HRCE-1_10_AA02_2   2.325652  ...     -0.447174     -1.614872\n",
              "2  HRCE-1_10_AA02_3   2.207082  ...     -0.066745     -1.325545\n",
              "3  HRCE-1_10_AA02_4   2.452741  ...     -0.544680     -1.290150\n",
              "4  HRCE-1_10_AA03_1   2.106868  ...     -0.394267     -1.712760\n",
              "\n",
              "[5 rows x 1025 columns]"
            ]
          },
          "metadata": {
            "tags": []
          },
          "execution_count": 19
        }
      ]
    },
    {
      "cell_type": "code",
      "metadata": {
        "id": "EX7pKmaPKFSy",
        "colab_type": "code",
        "colab": {}
      },
      "source": [
        "# Save metadata subset\n",
        "df_metadata_new.to_csv(os.path.join(path, 'meta_subset.csv'), index=False)"
      ],
      "execution_count": null,
      "outputs": []
    },
    {
      "cell_type": "code",
      "metadata": {
        "id": "1Whn9n8gHPF0",
        "colab_type": "code",
        "colab": {
          "base_uri": "https://localhost:8080/",
          "height": 34
        },
        "outputId": "22001027-9299-4e38-fee6-3083eca8db5f"
      },
      "source": [
        "# Get embeddings suset corresponds to metadata via \"site_id\"\n",
        "df_embeddings_new =  df_embeddings[df_embeddings['site_id'].isin(df_metadata_new['site_id'])]\n",
        "df_embeddings_new.shape"
      ],
      "execution_count": null,
      "outputs": [
        {
          "output_type": "execute_result",
          "data": {
            "text/plain": [
              "(27360, 1025)"
            ]
          },
          "metadata": {
            "tags": []
          },
          "execution_count": 21
        }
      ]
    },
    {
      "cell_type": "code",
      "metadata": {
        "id": "fidoVNnCIoe8",
        "colab_type": "code",
        "colab": {}
      },
      "source": [
        "# Save embeddings subset\n",
        "df_embeddings_new.to_csv(os.path.join(path, 'embedddings_subset.csv'), index=False)"
      ],
      "execution_count": null,
      "outputs": []
    },
    {
      "cell_type": "markdown",
      "metadata": {
        "id": "kY6fmMClsEYx",
        "colab_type": "text"
      },
      "source": [
        "# **3. Dimensionality Reduction using PCA**  \n",
        "**(Other options: Matrix Factorization, AutoEncoder)**  \n",
        "**To reduce the dimensionality for UMAP in Part 2 and Random Forest classification in Part 3.**"
      ]
    },
    {
      "cell_type": "code",
      "metadata": {
        "id": "Vayo8FciX-TV",
        "colab_type": "code",
        "colab": {}
      },
      "source": [
        "# Set site_id as index\n",
        "df_embeddings.set_index('site_id', inplace=True)"
      ],
      "execution_count": null,
      "outputs": []
    },
    {
      "cell_type": "markdown",
      "metadata": {
        "id": "eF0oZ1M1seT4",
        "colab_type": "text"
      },
      "source": [
        "\n",
        "**Standardized features of embeddings**"
      ]
    },
    {
      "cell_type": "code",
      "metadata": {
        "id": "USI6c72CsWQe",
        "colab_type": "code",
        "colab": {
          "base_uri": "https://localhost:8080/",
          "height": 50
        },
        "outputId": "596ae5e8-9993-43da-bc4a-ba2b0d238c3d"
      },
      "source": [
        "# standardize the embedding features onto unit scale (mean=0 and variance=1)\n",
        "%%time\n",
        "X = StandardScaler().fit_transform(df_embeddings)"
      ],
      "execution_count": null,
      "outputs": [
        {
          "output_type": "stream",
          "text": [
            "CPU times: user 3.85 s, sys: 274 ms, total: 4.13 s\n",
            "Wall time: 4.13 s\n"
          ],
          "name": "stdout"
        }
      ]
    },
    {
      "cell_type": "markdown",
      "metadata": {
        "id": "ppebM1WItHfT",
        "colab_type": "text"
      },
      "source": [
        "**PCA with n_components = 50**"
      ]
    },
    {
      "cell_type": "code",
      "metadata": {
        "id": "DwuQKlB9tJ2a",
        "colab_type": "code",
        "colab": {
          "base_uri": "https://localhost:8080/",
          "height": 50
        },
        "outputId": "1deeaef7-6c81-4a2a-b30b-4db4b87bb4f1"
      },
      "source": [
        "%%time\n",
        "n_components = 50\n",
        "\n",
        "# Model \n",
        "pca = PCA(n_components=n_components, svd_solver='auto') \n",
        "\n",
        "# Model fitting\n",
        "pca.fit(X)"
      ],
      "execution_count": null,
      "outputs": [
        {
          "output_type": "stream",
          "text": [
            "CPU times: user 53.8 s, sys: 10.7 s, total: 1min 4s\n",
            "Wall time: 21.1 s\n"
          ],
          "name": "stdout"
        }
      ]
    },
    {
      "cell_type": "markdown",
      "metadata": {
        "id": "NGwez8Q2vBIe",
        "colab_type": "text"
      },
      "source": [
        "**Check whether or not n_components = 50 is good enough**"
      ]
    },
    {
      "cell_type": "code",
      "metadata": {
        "id": "JywrVlZUs5k1",
        "colab_type": "code",
        "colab": {
          "base_uri": "https://localhost:8080/",
          "height": 34
        },
        "outputId": "abf145f9-6d23-40fb-86ab-1d88e83413aa"
      },
      "source": [
        "# Cummulative value: \n",
        "print('Cummulative Explained Variance:', sum(pca.explained_variance_ratio_))"
      ],
      "execution_count": null,
      "outputs": [
        {
          "output_type": "stream",
          "text": [
            "Cummulative Explained Variance: 0.8733531359344513\n"
          ],
          "name": "stdout"
        }
      ]
    },
    {
      "cell_type": "code",
      "metadata": {
        "id": "l-sWh2vevWpk",
        "colab_type": "code",
        "colab": {
          "base_uri": "https://localhost:8080/",
          "height": 297
        },
        "outputId": "4f7614d7-0479-4013-d3ee-8335a88c28ec"
      },
      "source": [
        "# Plot a figure of \"PCA explained variance ratio\"\n",
        "fig, ax = plt.subplots()\n",
        "ax.plot(np.arange(1, pca.n_components_ + 1),\n",
        "        pca.explained_variance_ratio_, linewidth=2, color ='tab:orange')\n",
        "ax.set_ylabel('PCA explained variance ratio')\n",
        "ax.set_xlabel('Number of Components')"
      ],
      "execution_count": null,
      "outputs": [
        {
          "output_type": "execute_result",
          "data": {
            "text/plain": [
              "Text(0.5, 0, 'Number of Components')"
            ]
          },
          "metadata": {
            "tags": []
          },
          "execution_count": 27
        },
        {
          "output_type": "display_data",
          "data": {
            "image/png": "[encoded data removed]",
            "text/plain": [
              "<Figure size 432x288 with 1 Axes>"
            ]
          },
          "metadata": {
            "tags": [],
            "needs_background": "light"
          }
        }
      ]
    },
    {
      "cell_type": "markdown",
      "metadata": {
        "id": "913lPHLpvkaN",
        "colab_type": "text"
      },
      "source": [
        "**As can be seen from explain variance and the figure above,**\n",
        "**for n_components = 50 and solver = 'auto', the PCA results good enough.**  \n",
        "**So I will use these latent features.**"
      ]
    },
    {
      "cell_type": "markdown",
      "metadata": {
        "id": "K6SxxExEwZMC",
        "colab_type": "text"
      },
      "source": [
        "**Get latent variables**"
      ]
    },
    {
      "cell_type": "code",
      "metadata": {
        "id": "5H5iVLX8wdQv",
        "colab_type": "code",
        "colab": {
          "base_uri": "https://localhost:8080/",
          "height": 50
        },
        "outputId": "c5a73840-363e-493e-81a1-ead25baa6b27"
      },
      "source": [
        "%%time\n",
        "principal_components = pca.transform(X)"
      ],
      "execution_count": null,
      "outputs": [
        {
          "output_type": "stream",
          "text": [
            "CPU times: user 3.26 s, sys: 124 ms, total: 3.39 s\n",
            "Wall time: 1.21 s\n"
          ],
          "name": "stdout"
        }
      ]
    },
    {
      "cell_type": "code",
      "metadata": {
        "id": "SeRCqbfowsRQ",
        "colab_type": "code",
        "colab": {
          "base_uri": "https://localhost:8080/",
          "height": 34
        },
        "outputId": "acf33350-7caf-4d17-9e74-1736d9bffb85"
      },
      "source": [
        "principal_components.shape"
      ],
      "execution_count": null,
      "outputs": [
        {
          "output_type": "execute_result",
          "data": {
            "text/plain": [
              "(305520, 50)"
            ]
          },
          "metadata": {
            "tags": []
          },
          "execution_count": 29
        }
      ]
    },
    {
      "cell_type": "markdown",
      "metadata": {
        "id": "kKKtFdfYw8jT",
        "colab_type": "text"
      },
      "source": [
        "**Transform the latent variables to a scale of range [0, 1] to improve the performance of the classification models.**"
      ]
    },
    {
      "cell_type": "code",
      "metadata": {
        "id": "8hOKiQ-1xMQn",
        "colab_type": "code",
        "colab": {}
      },
      "source": [
        "scale_0_1 = MinMaxScaler()\n",
        "principal_components = scale_0_1.fit_transform(principal_components)"
      ],
      "execution_count": null,
      "outputs": []
    },
    {
      "cell_type": "markdown",
      "metadata": {
        "id": "wqJ6BjGhxjVz",
        "colab_type": "text"
      },
      "source": [
        "**Save PCA data to a file**"
      ]
    },
    {
      "cell_type": "code",
      "metadata": {
        "id": "I2NAaF-LxwBV",
        "colab_type": "code",
        "colab": {
          "base_uri": "https://localhost:8080/",
          "height": 50
        },
        "outputId": "d8a5d471-248a-4de8-f336-e1a767af986c"
      },
      "source": [
        "%%time\n",
        "np.savez_compressed(os.path.join(path, 'embeddings_pca.npz'), principal_components)"
      ],
      "execution_count": null,
      "outputs": [
        {
          "output_type": "stream",
          "text": [
            "CPU times: user 7.75 s, sys: 128 ms, total: 7.88 s\n",
            "Wall time: 8.24 s\n"
          ],
          "name": "stdout"
        }
      ]
    },
    {
      "cell_type": "markdown",
      "metadata": {
        "id": "T5lAD8NEaQRC",
        "colab_type": "text"
      },
      "source": [
        "**End of Part 1**"
      ]
    }
  ]
}