{
  "nbformat": 4,
  "nbformat_minor": 0,
  "metadata": {
    "kernelspec": {
      "display_name": "Python 3",
      "language": "python",
      "name": "python3"
    },
    "language_info": {
      "codemirror_mode": {
        "name": "ipython",
        "version": 3
      },
      "file_extension": ".py",
      "mimetype": "text/x-python",
      "name": "python",
      "nbconvert_exporter": "python",
      "pygments_lexer": "ipython3",
      "version": "3.7.4"
    },
    "colab": {
      "name": "Part 4. Classification - Random Forest and CNN.ipynb",
      "provenance": [],
      "collapsed_sections": [],
      "machine_shape": "hm"
    }
  },
  "cells": [
    {
      "cell_type": "code",
      "metadata": {
        "id": "bt7D0hDWAUWF",
        "outputId": "1498cbcf-9808-4f02-a416-c87f10a7df45",
        "colab": {
          "base_uri": "https://localhost:8080/",
          "height": 87
        }
      },
      "source": [
        "import numpy as np \n",
        "import pandas as pd\n",
        "import matplotlib.pyplot as plt\n",
        "import seaborn as sns\n",
        "import os\n",
        "from sklearn.ensemble import RandomForestClassifier\n",
        "from sklearn.model_selection import (train_test_split,\n",
        "                                     cross_val_score)\n",
        "from sklearn.metrics import (accuracy_score, \n",
        "                             precision_score, \n",
        "                             recall_score)\n",
        "import pprint\n",
        "import keras\n",
        "import tensorflow as tf\n",
        "from keras.utils import np_utils\n",
        "from keras.models import (Model,\n",
        "                          Sequential)\n",
        "from keras.layers import (Input, \n",
        "                          Flatten, \n",
        "                          Dropout, \n",
        "                          Activation, \n",
        "                          Dense, \n",
        "                          Conv1D, \n",
        "                          MaxPooling1D)\n",
        "from keras.preprocessing.text import Tokenizer\n",
        "from keras.preprocessing.sequence import pad_sequences\n",
        "\n",
        "print(f'keras version = {keras.__version__}, tensorflow version = {tf.__version__}')"
      ],
      "execution_count": null,
      "outputs": [
        {
          "output_type": "stream",
          "text": [
            "/usr/local/lib/python3.6/dist-packages/statsmodels/tools/_testing.py:19: FutureWarning: pandas.util.testing is deprecated. Use the functions in the public API at pandas.testing instead.\n",
            "  import pandas.util.testing as tm\n"
          ],
          "name": "stderr"
        },
        {
          "output_type": "stream",
          "text": [
            "keras version = 2.4.3, tensorflow version = 2.3.0\n"
          ],
          "name": "stdout"
        }
      ]
    },
    {
      "cell_type": "code",
      "metadata": {
        "id": "HQVnUmo0cSqj",
        "outputId": "3340e3bf-f5de-4d50-8406-3313e6fe2d3f",
        "colab": {
          "base_uri": "https://localhost:8080/",
          "height": 34
        }
      },
      "source": [
        "from google.colab import drive\n",
        "drive.mount('/content/drive')\n",
        "path = '/content/drive/My Drive/Colab Notebooks'"
      ],
      "execution_count": null,
      "outputs": [
        {
          "output_type": "stream",
          "text": [
            "Drive already mounted at /content/drive; to attempt to forcibly remount, call drive.mount(\"/content/drive\", force_remount=True).\n"
          ],
          "name": "stdout"
        }
      ]
    },
    {
      "cell_type": "markdown",
      "metadata": {
        "id": "LdC1rybraObH"
      },
      "source": [
        "#**9. Classification Models**"
      ]
    },
    {
      "cell_type": "markdown",
      "metadata": {
        "id": "qd0kWX-3bX6P"
      },
      "source": [
        "##**9.1 Random Forest Classification**"
      ]
    },
    {
      "cell_type": "markdown",
      "metadata": {
        "id": "hZB2go7-vzRS"
      },
      "source": [
        "**Load df_embeddings_pca data**"
      ]
    },
    {
      "cell_type": "code",
      "metadata": {
        "id": "W8WaKoPU_uqn",
        "outputId": "ce73974e-5dc6-47b8-8ef2-608a71cacd6d",
        "colab": {
          "base_uri": "https://localhost:8080/",
          "height": 34
        }
      },
      "source": [
        "df_embeddings_pca = pd.read_csv(os.path.join(path, 'df_embeddings_pca.csv'), index_col=False)\n",
        "df_embeddings_pca.shape"
      ],
      "execution_count": null,
      "outputs": [
        {
          "output_type": "execute_result",
          "data": {
            "text/plain": [
              "(305520, 62)"
            ]
          },
          "metadata": {
            "tags": []
          },
          "execution_count": 3
        }
      ]
    },
    {
      "cell_type": "code",
      "metadata": {
        "id": "iX1HpAnTfeQ4",
        "outputId": "9193a4c5-6ff7-41a8-ae26-bc2c0374fc48",
        "colab": {
          "base_uri": "https://localhost:8080/",
          "height": 223
        }
      },
      "source": [
        "df_embeddings_pca.head(3)"
      ],
      "execution_count": null,
      "outputs": [
        {
          "output_type": "execute_result",
          "data": {
            "text/html": [
              "<div>\n",
              "<style scoped>\n",
              "    .dataframe tbody tr th:only-of-type {\n",
              "        vertical-align: middle;\n",
              "    }\n",
              "\n",
              "    .dataframe tbody tr th {\n",
              "        vertical-align: top;\n",
              "    }\n",
              "\n",
              "    .dataframe thead th {\n",
              "        text-align: right;\n",
              "    }\n",
              "</style>\n",
              "<table border=\"1\" class=\"dataframe\">\n",
              "  <thead>\n",
              "    <tr style=\"text-align: right;\">\n",
              "      <th></th>\n",
              "      <th>Unnamed: 0</th>\n",
              "      <th>site_id</th>\n",
              "      <th>well_id</th>\n",
              "      <th>cell_type</th>\n",
              "      <th>experiment</th>\n",
              "      <th>plate</th>\n",
              "      <th>well</th>\n",
              "      <th>site</th>\n",
              "      <th>disease_condition</th>\n",
              "      <th>treatment</th>\n",
              "      <th>treatment_conc</th>\n",
              "      <th>SMILES</th>\n",
              "      <th>feature_0</th>\n",
              "      <th>feature_1</th>\n",
              "      <th>feature_2</th>\n",
              "      <th>feature_3</th>\n",
              "      <th>feature_4</th>\n",
              "      <th>feature_5</th>\n",
              "      <th>feature_6</th>\n",
              "      <th>feature_7</th>\n",
              "      <th>feature_8</th>\n",
              "      <th>feature_9</th>\n",
              "      <th>feature_10</th>\n",
              "      <th>feature_11</th>\n",
              "      <th>feature_12</th>\n",
              "      <th>feature_13</th>\n",
              "      <th>feature_14</th>\n",
              "      <th>feature_15</th>\n",
              "      <th>feature_16</th>\n",
              "      <th>feature_17</th>\n",
              "      <th>feature_18</th>\n",
              "      <th>feature_19</th>\n",
              "      <th>feature_20</th>\n",
              "      <th>feature_21</th>\n",
              "      <th>feature_22</th>\n",
              "      <th>feature_23</th>\n",
              "      <th>feature_24</th>\n",
              "      <th>feature_25</th>\n",
              "      <th>feature_26</th>\n",
              "      <th>feature_27</th>\n",
              "      <th>feature_28</th>\n",
              "      <th>feature_29</th>\n",
              "      <th>feature_30</th>\n",
              "      <th>feature_31</th>\n",
              "      <th>feature_32</th>\n",
              "      <th>feature_33</th>\n",
              "      <th>feature_34</th>\n",
              "      <th>feature_35</th>\n",
              "      <th>feature_36</th>\n",
              "      <th>feature_37</th>\n",
              "      <th>feature_38</th>\n",
              "      <th>feature_39</th>\n",
              "      <th>feature_40</th>\n",
              "      <th>feature_41</th>\n",
              "      <th>feature_42</th>\n",
              "      <th>feature_43</th>\n",
              "      <th>feature_44</th>\n",
              "      <th>feature_45</th>\n",
              "      <th>feature_46</th>\n",
              "      <th>feature_47</th>\n",
              "      <th>feature_48</th>\n",
              "      <th>feature_49</th>\n",
              "    </tr>\n",
              "  </thead>\n",
              "  <tbody>\n",
              "    <tr>\n",
              "      <th>0</th>\n",
              "      <td>0</td>\n",
              "      <td>HRCE-1_1_AA02_1</td>\n",
              "      <td>HRCE-1_1_AA02</td>\n",
              "      <td>HRCE</td>\n",
              "      <td>HRCE-1</td>\n",
              "      <td>1</td>\n",
              "      <td>AA02</td>\n",
              "      <td>1</td>\n",
              "      <td>Active SARS-CoV-2</td>\n",
              "      <td>Flubendazole</td>\n",
              "      <td>0.1</td>\n",
              "      <td>COC(=O)NC1=NC2=C(N1)C=C(C=C2)C(=O)C1=CC=C(F)C=...</td>\n",
              "      <td>0.132417</td>\n",
              "      <td>0.319708</td>\n",
              "      <td>0.316053</td>\n",
              "      <td>0.391044</td>\n",
              "      <td>0.393467</td>\n",
              "      <td>0.590292</td>\n",
              "      <td>0.191758</td>\n",
              "      <td>0.351341</td>\n",
              "      <td>0.461592</td>\n",
              "      <td>0.466987</td>\n",
              "      <td>0.536253</td>\n",
              "      <td>0.437953</td>\n",
              "      <td>0.572890</td>\n",
              "      <td>0.391879</td>\n",
              "      <td>0.349071</td>\n",
              "      <td>0.445347</td>\n",
              "      <td>0.341852</td>\n",
              "      <td>0.504132</td>\n",
              "      <td>0.604077</td>\n",
              "      <td>0.399611</td>\n",
              "      <td>0.427331</td>\n",
              "      <td>0.464915</td>\n",
              "      <td>0.465775</td>\n",
              "      <td>0.489664</td>\n",
              "      <td>0.494247</td>\n",
              "      <td>0.408223</td>\n",
              "      <td>0.506484</td>\n",
              "      <td>0.453152</td>\n",
              "      <td>0.484760</td>\n",
              "      <td>0.495087</td>\n",
              "      <td>0.524508</td>\n",
              "      <td>0.509021</td>\n",
              "      <td>0.401143</td>\n",
              "      <td>0.385463</td>\n",
              "      <td>0.445719</td>\n",
              "      <td>0.508025</td>\n",
              "      <td>0.490813</td>\n",
              "      <td>0.481652</td>\n",
              "      <td>0.421074</td>\n",
              "      <td>0.465967</td>\n",
              "      <td>0.453822</td>\n",
              "      <td>0.464899</td>\n",
              "      <td>0.369199</td>\n",
              "      <td>0.442958</td>\n",
              "      <td>0.382452</td>\n",
              "      <td>0.431862</td>\n",
              "      <td>0.404141</td>\n",
              "      <td>0.463700</td>\n",
              "      <td>0.492772</td>\n",
              "      <td>0.450314</td>\n",
              "    </tr>\n",
              "    <tr>\n",
              "      <th>1</th>\n",
              "      <td>1</td>\n",
              "      <td>HRCE-1_1_AA02_2</td>\n",
              "      <td>HRCE-1_1_AA02</td>\n",
              "      <td>HRCE</td>\n",
              "      <td>HRCE-1</td>\n",
              "      <td>1</td>\n",
              "      <td>AA02</td>\n",
              "      <td>2</td>\n",
              "      <td>Active SARS-CoV-2</td>\n",
              "      <td>Flubendazole</td>\n",
              "      <td>0.1</td>\n",
              "      <td>COC(=O)NC1=NC2=C(N1)C=C(C=C2)C(=O)C1=CC=C(F)C=...</td>\n",
              "      <td>0.061210</td>\n",
              "      <td>0.292411</td>\n",
              "      <td>0.343654</td>\n",
              "      <td>0.439015</td>\n",
              "      <td>0.361604</td>\n",
              "      <td>0.531461</td>\n",
              "      <td>0.252884</td>\n",
              "      <td>0.412200</td>\n",
              "      <td>0.441596</td>\n",
              "      <td>0.501719</td>\n",
              "      <td>0.495689</td>\n",
              "      <td>0.523878</td>\n",
              "      <td>0.535313</td>\n",
              "      <td>0.316499</td>\n",
              "      <td>0.323712</td>\n",
              "      <td>0.450942</td>\n",
              "      <td>0.355204</td>\n",
              "      <td>0.422611</td>\n",
              "      <td>0.508067</td>\n",
              "      <td>0.463249</td>\n",
              "      <td>0.329443</td>\n",
              "      <td>0.415455</td>\n",
              "      <td>0.519154</td>\n",
              "      <td>0.433636</td>\n",
              "      <td>0.505194</td>\n",
              "      <td>0.399102</td>\n",
              "      <td>0.473974</td>\n",
              "      <td>0.459359</td>\n",
              "      <td>0.443502</td>\n",
              "      <td>0.536214</td>\n",
              "      <td>0.593173</td>\n",
              "      <td>0.437939</td>\n",
              "      <td>0.304154</td>\n",
              "      <td>0.428820</td>\n",
              "      <td>0.418285</td>\n",
              "      <td>0.410625</td>\n",
              "      <td>0.586705</td>\n",
              "      <td>0.457273</td>\n",
              "      <td>0.424965</td>\n",
              "      <td>0.500659</td>\n",
              "      <td>0.387446</td>\n",
              "      <td>0.472137</td>\n",
              "      <td>0.363910</td>\n",
              "      <td>0.413070</td>\n",
              "      <td>0.348539</td>\n",
              "      <td>0.460638</td>\n",
              "      <td>0.422661</td>\n",
              "      <td>0.456728</td>\n",
              "      <td>0.496217</td>\n",
              "      <td>0.373741</td>\n",
              "    </tr>\n",
              "    <tr>\n",
              "      <th>2</th>\n",
              "      <td>2</td>\n",
              "      <td>HRCE-1_1_AA02_3</td>\n",
              "      <td>HRCE-1_1_AA02</td>\n",
              "      <td>HRCE</td>\n",
              "      <td>HRCE-1</td>\n",
              "      <td>1</td>\n",
              "      <td>AA02</td>\n",
              "      <td>3</td>\n",
              "      <td>Active SARS-CoV-2</td>\n",
              "      <td>Flubendazole</td>\n",
              "      <td>0.1</td>\n",
              "      <td>COC(=O)NC1=NC2=C(N1)C=C(C=C2)C(=O)C1=CC=C(F)C=...</td>\n",
              "      <td>0.108674</td>\n",
              "      <td>0.336356</td>\n",
              "      <td>0.406311</td>\n",
              "      <td>0.407748</td>\n",
              "      <td>0.389359</td>\n",
              "      <td>0.544734</td>\n",
              "      <td>0.170589</td>\n",
              "      <td>0.417111</td>\n",
              "      <td>0.398482</td>\n",
              "      <td>0.501507</td>\n",
              "      <td>0.543979</td>\n",
              "      <td>0.426225</td>\n",
              "      <td>0.562843</td>\n",
              "      <td>0.373681</td>\n",
              "      <td>0.286814</td>\n",
              "      <td>0.442930</td>\n",
              "      <td>0.384244</td>\n",
              "      <td>0.447445</td>\n",
              "      <td>0.487311</td>\n",
              "      <td>0.343914</td>\n",
              "      <td>0.411653</td>\n",
              "      <td>0.455362</td>\n",
              "      <td>0.475752</td>\n",
              "      <td>0.472554</td>\n",
              "      <td>0.568790</td>\n",
              "      <td>0.421586</td>\n",
              "      <td>0.461438</td>\n",
              "      <td>0.463248</td>\n",
              "      <td>0.488274</td>\n",
              "      <td>0.551369</td>\n",
              "      <td>0.478059</td>\n",
              "      <td>0.458264</td>\n",
              "      <td>0.422222</td>\n",
              "      <td>0.409242</td>\n",
              "      <td>0.461232</td>\n",
              "      <td>0.479216</td>\n",
              "      <td>0.528342</td>\n",
              "      <td>0.401276</td>\n",
              "      <td>0.392861</td>\n",
              "      <td>0.525454</td>\n",
              "      <td>0.422534</td>\n",
              "      <td>0.483994</td>\n",
              "      <td>0.356430</td>\n",
              "      <td>0.436135</td>\n",
              "      <td>0.413837</td>\n",
              "      <td>0.474573</td>\n",
              "      <td>0.408615</td>\n",
              "      <td>0.431241</td>\n",
              "      <td>0.461833</td>\n",
              "      <td>0.365500</td>\n",
              "    </tr>\n",
              "  </tbody>\n",
              "</table>\n",
              "</div>"
            ],
            "text/plain": [
              "   Unnamed: 0          site_id  ... feature_48 feature_49\n",
              "0           0  HRCE-1_1_AA02_1  ...   0.492772   0.450314\n",
              "1           1  HRCE-1_1_AA02_2  ...   0.496217   0.373741\n",
              "2           2  HRCE-1_1_AA02_3  ...   0.461833   0.365500\n",
              "\n",
              "[3 rows x 62 columns]"
            ]
          },
          "metadata": {
            "tags": []
          },
          "execution_count": 4
        }
      ]
    },
    {
      "cell_type": "code",
      "metadata": {
        "id": "ZwX_7q3XkUv6"
      },
      "source": [
        "df_embeddings_pca = df_embeddings_pca[df_embeddings_pca['disease_condition'].notnull()]\n",
        "y = df_embeddings_pca.pop('disease_condition')\n",
        "X = df_embeddings_pca[['feature_' + str(i) for i in range(50)]]"
      ],
      "execution_count": null,
      "outputs": []
    },
    {
      "cell_type": "code",
      "metadata": {
        "id": "da1xBGDAkupj",
        "outputId": "7498d0f6-8d47-4fb6-c976-31407f6939da",
        "colab": {
          "base_uri": "https://localhost:8080/",
          "height": 50
        }
      },
      "source": [
        "print(X.shape, type(X))\n",
        "print(y.shape, type(y))"
      ],
      "execution_count": null,
      "outputs": [
        {
          "output_type": "stream",
          "text": [
            "(298616, 50) <class 'pandas.core.frame.DataFrame'>\n",
            "(298616,) <class 'pandas.core.series.Series'>\n"
          ],
          "name": "stdout"
        }
      ]
    },
    {
      "cell_type": "markdown",
      "metadata": {
        "id": "4Bp-jFcUwR6t"
      },
      "source": [
        "**Random forest model**"
      ]
    },
    {
      "cell_type": "code",
      "metadata": {
        "id": "hrs9y90T_uqr"
      },
      "source": [
        "rnd_clf = RandomForestClassifier(n_estimators=500, n_jobs=-1)\n",
        "X_train, X_test, y_train, y_test = train_test_split(X, y, test_size=0.2, random_state=42)"
      ],
      "execution_count": null,
      "outputs": []
    },
    {
      "cell_type": "code",
      "metadata": {
        "id": "rENviUgk_uqy",
        "outputId": "b0a2b3ca-4077-45cb-8c27-a41d567b0f58",
        "colab": {
          "base_uri": "https://localhost:8080/",
          "height": 50
        }
      },
      "source": [
        "%%time\n",
        "model = rnd_clf.fit(X_train, y_train)"
      ],
      "execution_count": null,
      "outputs": [
        {
          "output_type": "stream",
          "text": [
            "CPU times: user 33min 21s, sys: 1.42 s, total: 33min 22s\n",
            "Wall time: 8min 26s\n"
          ],
          "name": "stdout"
        }
      ]
    },
    {
      "cell_type": "code",
      "metadata": {
        "id": "95_KoLXOlqCJ",
        "outputId": "48e8e23f-73e6-4154-db24-f9db51203ba3",
        "colab": {
          "base_uri": "https://localhost:8080/",
          "height": 50
        }
      },
      "source": [
        "%%time\n",
        "y_train_pred = model.predict(X_train)\n",
        "y_train_pred.shape"
      ],
      "execution_count": null,
      "outputs": [
        {
          "output_type": "stream",
          "text": [
            "CPU times: user 37.5 s, sys: 215 ms, total: 37.8 s\n",
            "Wall time: 9.76 s\n"
          ],
          "name": "stdout"
        }
      ]
    },
    {
      "cell_type": "code",
      "metadata": {
        "id": "X2iNjAN3xDX3",
        "outputId": "0cc8f27e-02c6-45b1-8aa8-8960ea485c0c",
        "colab": {
          "base_uri": "https://localhost:8080/",
          "height": 67
        }
      },
      "source": [
        "%%time\n",
        "y_test_pred = model.predict(X_test)\n",
        "print(y_test_pred.shape)"
      ],
      "execution_count": null,
      "outputs": [
        {
          "output_type": "stream",
          "text": [
            "(59724,)\n",
            "CPU times: user 9.62 s, sys: 123 ms, total: 9.74 s\n",
            "Wall time: 2.62 s\n"
          ],
          "name": "stdout"
        }
      ]
    },
    {
      "cell_type": "markdown",
      "metadata": {
        "id": "u2i42wo7wzSG"
      },
      "source": [
        "**Summary output**"
      ]
    },
    {
      "cell_type": "code",
      "metadata": {
        "id": "bkn3uzgXxYul",
        "outputId": "f90471c0-cd91-4be1-f9ed-1b092fedf826",
        "colab": {
          "base_uri": "https://localhost:8080/",
          "height": 67
        }
      },
      "source": [
        "output = {\n",
        "    'model': 'Random Forest',\n",
        "    'accracy_train': accuracy_score(y_train, y_train_pred),\n",
        "    'accuracy_test': accuracy_score(y_test, y_test_pred),\n",
        "    'precision_test': precision_score(y_test, y_test_pred, average='weighted'),\n",
        "    'recall_test': recall_score(y_test, y_test_pred, average='weighted')\n",
        "}\n",
        "\n",
        "pprint.pprint(f'output = {output}')"
      ],
      "execution_count": null,
      "outputs": [
        {
          "output_type": "stream",
          "text": [
            "(\"output = {'model': 'Random Forest', 'accracy_train': 1.0, 'accuracy_test': \"\n",
            " \"0.9647545375393477, 'precision_test': 0.9598040730702959, 'recall_test': \"\n",
            " '0.9647545375393477}')\n"
          ],
          "name": "stdout"
        }
      ]
    },
    {
      "cell_type": "markdown",
      "metadata": {
        "id": "s2SScmZO0rma"
      },
      "source": [
        "##**9.2. Convolutional Neural Network**  \n",
        "**using 1024 features of embeddings subset dataset (9120 rows for each disease condition)**"
      ]
    },
    {
      "cell_type": "code",
      "metadata": {
        "id": "zJDWj7lKy05L",
        "outputId": "394088ac-0853-482b-d3ae-c3b5ead5d6aa",
        "colab": {
          "base_uri": "https://localhost:8080/",
          "height": 34
        }
      },
      "source": [
        "df_embeddings_subset = pd.read_csv(os.path.join(path, 'embedddings_subset.csv'), index_col=False)\n",
        "df_embeddings_subset.shape"
      ],
      "execution_count": null,
      "outputs": [
        {
          "output_type": "execute_result",
          "data": {
            "text/plain": [
              "(27360, 1025)"
            ]
          },
          "metadata": {
            "tags": []
          },
          "execution_count": 12
        }
      ]
    },
    {
      "cell_type": "code",
      "metadata": {
        "id": "EOFZnY4-BEdV",
        "outputId": "9d1e20d7-0080-4f79-b901-cf7068543ad1",
        "colab": {
          "base_uri": "https://localhost:8080/",
          "height": 235
        }
      },
      "source": [
        "df_embeddings_subset.head(3)"
      ],
      "execution_count": null,
      "outputs": [
        {
          "output_type": "execute_result",
          "data": {
            "text/html": [
              "<div>\n",
              "<style scoped>\n",
              "    .dataframe tbody tr th:only-of-type {\n",
              "        vertical-align: middle;\n",
              "    }\n",
              "\n",
              "    .dataframe tbody tr th {\n",
              "        vertical-align: top;\n",
              "    }\n",
              "\n",
              "    .dataframe thead th {\n",
              "        text-align: right;\n",
              "    }\n",
              "</style>\n",
              "<table border=\"1\" class=\"dataframe\">\n",
              "  <thead>\n",
              "    <tr style=\"text-align: right;\">\n",
              "      <th></th>\n",
              "      <th>site_id</th>\n",
              "      <th>feature_0</th>\n",
              "      <th>feature_1</th>\n",
              "      <th>feature_2</th>\n",
              "      <th>feature_3</th>\n",
              "      <th>feature_4</th>\n",
              "      <th>feature_5</th>\n",
              "      <th>feature_6</th>\n",
              "      <th>feature_7</th>\n",
              "      <th>feature_8</th>\n",
              "      <th>feature_9</th>\n",
              "      <th>feature_10</th>\n",
              "      <th>feature_11</th>\n",
              "      <th>feature_12</th>\n",
              "      <th>feature_13</th>\n",
              "      <th>feature_14</th>\n",
              "      <th>feature_15</th>\n",
              "      <th>feature_16</th>\n",
              "      <th>feature_17</th>\n",
              "      <th>feature_18</th>\n",
              "      <th>feature_19</th>\n",
              "      <th>feature_20</th>\n",
              "      <th>feature_21</th>\n",
              "      <th>feature_22</th>\n",
              "      <th>feature_23</th>\n",
              "      <th>feature_24</th>\n",
              "      <th>feature_25</th>\n",
              "      <th>feature_26</th>\n",
              "      <th>feature_27</th>\n",
              "      <th>feature_28</th>\n",
              "      <th>feature_29</th>\n",
              "      <th>feature_30</th>\n",
              "      <th>feature_31</th>\n",
              "      <th>feature_32</th>\n",
              "      <th>feature_33</th>\n",
              "      <th>feature_34</th>\n",
              "      <th>feature_35</th>\n",
              "      <th>feature_36</th>\n",
              "      <th>feature_37</th>\n",
              "      <th>feature_38</th>\n",
              "      <th>...</th>\n",
              "      <th>feature_984</th>\n",
              "      <th>feature_985</th>\n",
              "      <th>feature_986</th>\n",
              "      <th>feature_987</th>\n",
              "      <th>feature_988</th>\n",
              "      <th>feature_989</th>\n",
              "      <th>feature_990</th>\n",
              "      <th>feature_991</th>\n",
              "      <th>feature_992</th>\n",
              "      <th>feature_993</th>\n",
              "      <th>feature_994</th>\n",
              "      <th>feature_995</th>\n",
              "      <th>feature_996</th>\n",
              "      <th>feature_997</th>\n",
              "      <th>feature_998</th>\n",
              "      <th>feature_999</th>\n",
              "      <th>feature_1000</th>\n",
              "      <th>feature_1001</th>\n",
              "      <th>feature_1002</th>\n",
              "      <th>feature_1003</th>\n",
              "      <th>feature_1004</th>\n",
              "      <th>feature_1005</th>\n",
              "      <th>feature_1006</th>\n",
              "      <th>feature_1007</th>\n",
              "      <th>feature_1008</th>\n",
              "      <th>feature_1009</th>\n",
              "      <th>feature_1010</th>\n",
              "      <th>feature_1011</th>\n",
              "      <th>feature_1012</th>\n",
              "      <th>feature_1013</th>\n",
              "      <th>feature_1014</th>\n",
              "      <th>feature_1015</th>\n",
              "      <th>feature_1016</th>\n",
              "      <th>feature_1017</th>\n",
              "      <th>feature_1018</th>\n",
              "      <th>feature_1019</th>\n",
              "      <th>feature_1020</th>\n",
              "      <th>feature_1021</th>\n",
              "      <th>feature_1022</th>\n",
              "      <th>feature_1023</th>\n",
              "    </tr>\n",
              "  </thead>\n",
              "  <tbody>\n",
              "    <tr>\n",
              "      <th>0</th>\n",
              "      <td>HRCE-1_10_AA05_1</td>\n",
              "      <td>2.389372</td>\n",
              "      <td>0.214582</td>\n",
              "      <td>-0.272902</td>\n",
              "      <td>-0.196034</td>\n",
              "      <td>-0.563311</td>\n",
              "      <td>0.619960</td>\n",
              "      <td>-0.371054</td>\n",
              "      <td>-0.037861</td>\n",
              "      <td>-0.219545</td>\n",
              "      <td>-0.392556</td>\n",
              "      <td>-2.769379</td>\n",
              "      <td>-0.389006</td>\n",
              "      <td>-0.543331</td>\n",
              "      <td>1.143736</td>\n",
              "      <td>-0.567993</td>\n",
              "      <td>-0.919517</td>\n",
              "      <td>0.131801</td>\n",
              "      <td>-0.072684</td>\n",
              "      <td>0.043436</td>\n",
              "      <td>-0.041997</td>\n",
              "      <td>-0.598043</td>\n",
              "      <td>-0.256680</td>\n",
              "      <td>0.499137</td>\n",
              "      <td>0.038466</td>\n",
              "      <td>-2.324510</td>\n",
              "      <td>0.587085</td>\n",
              "      <td>0.148490</td>\n",
              "      <td>-1.344135</td>\n",
              "      <td>0.615269</td>\n",
              "      <td>1.145046</td>\n",
              "      <td>0.951628</td>\n",
              "      <td>-0.165207</td>\n",
              "      <td>-1.689007</td>\n",
              "      <td>0.681347</td>\n",
              "      <td>-1.732188</td>\n",
              "      <td>0.408793</td>\n",
              "      <td>-1.773126</td>\n",
              "      <td>0.600478</td>\n",
              "      <td>-1.289480</td>\n",
              "      <td>...</td>\n",
              "      <td>1.694329</td>\n",
              "      <td>-0.702744</td>\n",
              "      <td>0.300283</td>\n",
              "      <td>0.360717</td>\n",
              "      <td>0.096897</td>\n",
              "      <td>-0.119458</td>\n",
              "      <td>0.089974</td>\n",
              "      <td>0.388082</td>\n",
              "      <td>-1.095558</td>\n",
              "      <td>0.061971</td>\n",
              "      <td>-0.69445</td>\n",
              "      <td>-0.470560</td>\n",
              "      <td>0.165727</td>\n",
              "      <td>0.954380</td>\n",
              "      <td>0.641269</td>\n",
              "      <td>0.000110</td>\n",
              "      <td>1.180884</td>\n",
              "      <td>0.871668</td>\n",
              "      <td>0.718739</td>\n",
              "      <td>0.122943</td>\n",
              "      <td>1.184700</td>\n",
              "      <td>0.337163</td>\n",
              "      <td>-1.053558</td>\n",
              "      <td>-0.368507</td>\n",
              "      <td>-0.772576</td>\n",
              "      <td>1.022397</td>\n",
              "      <td>0.306467</td>\n",
              "      <td>0.005132</td>\n",
              "      <td>-2.340652</td>\n",
              "      <td>0.668188</td>\n",
              "      <td>1.172451</td>\n",
              "      <td>0.989767</td>\n",
              "      <td>-1.486712</td>\n",
              "      <td>-1.447653</td>\n",
              "      <td>-1.304442</td>\n",
              "      <td>-0.031610</td>\n",
              "      <td>-0.710898</td>\n",
              "      <td>0.555251</td>\n",
              "      <td>-0.265755</td>\n",
              "      <td>-1.212434</td>\n",
              "    </tr>\n",
              "    <tr>\n",
              "      <th>1</th>\n",
              "      <td>HRCE-1_10_AA08_1</td>\n",
              "      <td>2.297975</td>\n",
              "      <td>0.022587</td>\n",
              "      <td>0.195894</td>\n",
              "      <td>0.014781</td>\n",
              "      <td>-1.100471</td>\n",
              "      <td>0.098462</td>\n",
              "      <td>0.242965</td>\n",
              "      <td>0.199119</td>\n",
              "      <td>-0.567304</td>\n",
              "      <td>-0.227210</td>\n",
              "      <td>-2.230506</td>\n",
              "      <td>-0.949541</td>\n",
              "      <td>-0.047310</td>\n",
              "      <td>0.533605</td>\n",
              "      <td>-0.290319</td>\n",
              "      <td>-1.508357</td>\n",
              "      <td>0.161617</td>\n",
              "      <td>0.380366</td>\n",
              "      <td>0.146494</td>\n",
              "      <td>-0.108530</td>\n",
              "      <td>-0.873874</td>\n",
              "      <td>0.056584</td>\n",
              "      <td>0.491351</td>\n",
              "      <td>0.080825</td>\n",
              "      <td>-1.321582</td>\n",
              "      <td>0.298009</td>\n",
              "      <td>0.190170</td>\n",
              "      <td>-0.864164</td>\n",
              "      <td>0.351424</td>\n",
              "      <td>0.536975</td>\n",
              "      <td>1.282919</td>\n",
              "      <td>-0.110490</td>\n",
              "      <td>-1.274246</td>\n",
              "      <td>0.943124</td>\n",
              "      <td>-1.541825</td>\n",
              "      <td>0.065526</td>\n",
              "      <td>-1.234762</td>\n",
              "      <td>0.295345</td>\n",
              "      <td>-1.824088</td>\n",
              "      <td>...</td>\n",
              "      <td>1.209590</td>\n",
              "      <td>-1.098585</td>\n",
              "      <td>0.753858</td>\n",
              "      <td>0.079735</td>\n",
              "      <td>0.000902</td>\n",
              "      <td>-0.457200</td>\n",
              "      <td>-0.152898</td>\n",
              "      <td>0.280296</td>\n",
              "      <td>-0.768077</td>\n",
              "      <td>0.315934</td>\n",
              "      <td>-0.38891</td>\n",
              "      <td>-0.073659</td>\n",
              "      <td>0.390859</td>\n",
              "      <td>0.923492</td>\n",
              "      <td>0.642634</td>\n",
              "      <td>0.143817</td>\n",
              "      <td>0.619918</td>\n",
              "      <td>0.375651</td>\n",
              "      <td>0.347446</td>\n",
              "      <td>-0.236212</td>\n",
              "      <td>1.128898</td>\n",
              "      <td>0.012419</td>\n",
              "      <td>-1.073843</td>\n",
              "      <td>-0.257170</td>\n",
              "      <td>-0.714517</td>\n",
              "      <td>0.858910</td>\n",
              "      <td>0.012951</td>\n",
              "      <td>-0.503524</td>\n",
              "      <td>-1.609319</td>\n",
              "      <td>1.182596</td>\n",
              "      <td>0.586100</td>\n",
              "      <td>0.781158</td>\n",
              "      <td>-1.187773</td>\n",
              "      <td>-1.368313</td>\n",
              "      <td>-1.659620</td>\n",
              "      <td>-0.020060</td>\n",
              "      <td>-0.498513</td>\n",
              "      <td>0.349791</td>\n",
              "      <td>-0.286453</td>\n",
              "      <td>-1.424416</td>\n",
              "    </tr>\n",
              "    <tr>\n",
              "      <th>2</th>\n",
              "      <td>HRCE-1_10_AA08_2</td>\n",
              "      <td>2.023117</td>\n",
              "      <td>0.055359</td>\n",
              "      <td>0.032669</td>\n",
              "      <td>-0.427921</td>\n",
              "      <td>-1.477027</td>\n",
              "      <td>0.555283</td>\n",
              "      <td>0.125149</td>\n",
              "      <td>0.024121</td>\n",
              "      <td>-0.310992</td>\n",
              "      <td>-0.035899</td>\n",
              "      <td>-2.317528</td>\n",
              "      <td>-0.571142</td>\n",
              "      <td>-0.190510</td>\n",
              "      <td>1.388795</td>\n",
              "      <td>-0.545442</td>\n",
              "      <td>-1.311690</td>\n",
              "      <td>0.067700</td>\n",
              "      <td>0.051449</td>\n",
              "      <td>0.281658</td>\n",
              "      <td>0.190968</td>\n",
              "      <td>-0.541562</td>\n",
              "      <td>0.122109</td>\n",
              "      <td>0.277549</td>\n",
              "      <td>-0.053468</td>\n",
              "      <td>-1.983142</td>\n",
              "      <td>0.453062</td>\n",
              "      <td>0.017778</td>\n",
              "      <td>-1.351487</td>\n",
              "      <td>0.600766</td>\n",
              "      <td>1.270639</td>\n",
              "      <td>1.074047</td>\n",
              "      <td>-0.062500</td>\n",
              "      <td>-1.360750</td>\n",
              "      <td>0.680048</td>\n",
              "      <td>-1.492564</td>\n",
              "      <td>0.104654</td>\n",
              "      <td>-1.461042</td>\n",
              "      <td>0.506609</td>\n",
              "      <td>-1.586523</td>\n",
              "      <td>...</td>\n",
              "      <td>1.547907</td>\n",
              "      <td>-0.983013</td>\n",
              "      <td>0.355730</td>\n",
              "      <td>0.020508</td>\n",
              "      <td>0.567637</td>\n",
              "      <td>-0.209212</td>\n",
              "      <td>-0.159852</td>\n",
              "      <td>0.014123</td>\n",
              "      <td>-0.657308</td>\n",
              "      <td>0.370420</td>\n",
              "      <td>-0.90858</td>\n",
              "      <td>-0.119487</td>\n",
              "      <td>0.233618</td>\n",
              "      <td>0.823882</td>\n",
              "      <td>0.551085</td>\n",
              "      <td>-0.014573</td>\n",
              "      <td>1.159965</td>\n",
              "      <td>0.614649</td>\n",
              "      <td>0.434470</td>\n",
              "      <td>0.093707</td>\n",
              "      <td>1.066292</td>\n",
              "      <td>0.126574</td>\n",
              "      <td>-1.049656</td>\n",
              "      <td>-0.243583</td>\n",
              "      <td>-0.585675</td>\n",
              "      <td>0.663529</td>\n",
              "      <td>-0.127107</td>\n",
              "      <td>0.177727</td>\n",
              "      <td>-1.868272</td>\n",
              "      <td>1.141989</td>\n",
              "      <td>0.857226</td>\n",
              "      <td>0.687854</td>\n",
              "      <td>-1.667390</td>\n",
              "      <td>-1.059504</td>\n",
              "      <td>-1.597720</td>\n",
              "      <td>-0.335833</td>\n",
              "      <td>-0.643573</td>\n",
              "      <td>0.253038</td>\n",
              "      <td>0.145723</td>\n",
              "      <td>-1.794530</td>\n",
              "    </tr>\n",
              "  </tbody>\n",
              "</table>\n",
              "<p>3 rows × 1025 columns</p>\n",
              "</div>"
            ],
            "text/plain": [
              "            site_id  feature_0  ...  feature_1022  feature_1023\n",
              "0  HRCE-1_10_AA05_1   2.389372  ...     -0.265755     -1.212434\n",
              "1  HRCE-1_10_AA08_1   2.297975  ...     -0.286453     -1.424416\n",
              "2  HRCE-1_10_AA08_2   2.023117  ...      0.145723     -1.794530\n",
              "\n",
              "[3 rows x 1025 columns]"
            ]
          },
          "metadata": {
            "tags": []
          },
          "execution_count": 13
        }
      ]
    },
    {
      "cell_type": "code",
      "metadata": {
        "id": "YmB4jPRfBICW"
      },
      "source": [
        "df_embeddings_subset.set_index('site_id', inplace=True)"
      ],
      "execution_count": null,
      "outputs": []
    },
    {
      "cell_type": "code",
      "metadata": {
        "id": "E-frE8ziCR78",
        "outputId": "bc116203-4915-45bf-86b4-80cbc4f55ed2",
        "colab": {
          "base_uri": "https://localhost:8080/",
          "height": 265
        }
      },
      "source": [
        "df_embeddings_subset.head(3)"
      ],
      "execution_count": null,
      "outputs": [
        {
          "output_type": "execute_result",
          "data": {
            "text/html": [
              "<div>\n",
              "<style scoped>\n",
              "    .dataframe tbody tr th:only-of-type {\n",
              "        vertical-align: middle;\n",
              "    }\n",
              "\n",
              "    .dataframe tbody tr th {\n",
              "        vertical-align: top;\n",
              "    }\n",
              "\n",
              "    .dataframe thead th {\n",
              "        text-align: right;\n",
              "    }\n",
              "</style>\n",
              "<table border=\"1\" class=\"dataframe\">\n",
              "  <thead>\n",
              "    <tr style=\"text-align: right;\">\n",
              "      <th></th>\n",
              "      <th>feature_0</th>\n",
              "      <th>feature_1</th>\n",
              "      <th>feature_2</th>\n",
              "      <th>feature_3</th>\n",
              "      <th>feature_4</th>\n",
              "      <th>feature_5</th>\n",
              "      <th>feature_6</th>\n",
              "      <th>feature_7</th>\n",
              "      <th>feature_8</th>\n",
              "      <th>feature_9</th>\n",
              "      <th>feature_10</th>\n",
              "      <th>feature_11</th>\n",
              "      <th>feature_12</th>\n",
              "      <th>feature_13</th>\n",
              "      <th>feature_14</th>\n",
              "      <th>feature_15</th>\n",
              "      <th>feature_16</th>\n",
              "      <th>feature_17</th>\n",
              "      <th>feature_18</th>\n",
              "      <th>feature_19</th>\n",
              "      <th>feature_20</th>\n",
              "      <th>feature_21</th>\n",
              "      <th>feature_22</th>\n",
              "      <th>feature_23</th>\n",
              "      <th>feature_24</th>\n",
              "      <th>feature_25</th>\n",
              "      <th>feature_26</th>\n",
              "      <th>feature_27</th>\n",
              "      <th>feature_28</th>\n",
              "      <th>feature_29</th>\n",
              "      <th>feature_30</th>\n",
              "      <th>feature_31</th>\n",
              "      <th>feature_32</th>\n",
              "      <th>feature_33</th>\n",
              "      <th>feature_34</th>\n",
              "      <th>feature_35</th>\n",
              "      <th>feature_36</th>\n",
              "      <th>feature_37</th>\n",
              "      <th>feature_38</th>\n",
              "      <th>feature_39</th>\n",
              "      <th>...</th>\n",
              "      <th>feature_984</th>\n",
              "      <th>feature_985</th>\n",
              "      <th>feature_986</th>\n",
              "      <th>feature_987</th>\n",
              "      <th>feature_988</th>\n",
              "      <th>feature_989</th>\n",
              "      <th>feature_990</th>\n",
              "      <th>feature_991</th>\n",
              "      <th>feature_992</th>\n",
              "      <th>feature_993</th>\n",
              "      <th>feature_994</th>\n",
              "      <th>feature_995</th>\n",
              "      <th>feature_996</th>\n",
              "      <th>feature_997</th>\n",
              "      <th>feature_998</th>\n",
              "      <th>feature_999</th>\n",
              "      <th>feature_1000</th>\n",
              "      <th>feature_1001</th>\n",
              "      <th>feature_1002</th>\n",
              "      <th>feature_1003</th>\n",
              "      <th>feature_1004</th>\n",
              "      <th>feature_1005</th>\n",
              "      <th>feature_1006</th>\n",
              "      <th>feature_1007</th>\n",
              "      <th>feature_1008</th>\n",
              "      <th>feature_1009</th>\n",
              "      <th>feature_1010</th>\n",
              "      <th>feature_1011</th>\n",
              "      <th>feature_1012</th>\n",
              "      <th>feature_1013</th>\n",
              "      <th>feature_1014</th>\n",
              "      <th>feature_1015</th>\n",
              "      <th>feature_1016</th>\n",
              "      <th>feature_1017</th>\n",
              "      <th>feature_1018</th>\n",
              "      <th>feature_1019</th>\n",
              "      <th>feature_1020</th>\n",
              "      <th>feature_1021</th>\n",
              "      <th>feature_1022</th>\n",
              "      <th>feature_1023</th>\n",
              "    </tr>\n",
              "    <tr>\n",
              "      <th>site_id</th>\n",
              "      <th></th>\n",
              "      <th></th>\n",
              "      <th></th>\n",
              "      <th></th>\n",
              "      <th></th>\n",
              "      <th></th>\n",
              "      <th></th>\n",
              "      <th></th>\n",
              "      <th></th>\n",
              "      <th></th>\n",
              "      <th></th>\n",
              "      <th></th>\n",
              "      <th></th>\n",
              "      <th></th>\n",
              "      <th></th>\n",
              "      <th></th>\n",
              "      <th></th>\n",
              "      <th></th>\n",
              "      <th></th>\n",
              "      <th></th>\n",
              "      <th></th>\n",
              "      <th></th>\n",
              "      <th></th>\n",
              "      <th></th>\n",
              "      <th></th>\n",
              "      <th></th>\n",
              "      <th></th>\n",
              "      <th></th>\n",
              "      <th></th>\n",
              "      <th></th>\n",
              "      <th></th>\n",
              "      <th></th>\n",
              "      <th></th>\n",
              "      <th></th>\n",
              "      <th></th>\n",
              "      <th></th>\n",
              "      <th></th>\n",
              "      <th></th>\n",
              "      <th></th>\n",
              "      <th></th>\n",
              "      <th></th>\n",
              "      <th></th>\n",
              "      <th></th>\n",
              "      <th></th>\n",
              "      <th></th>\n",
              "      <th></th>\n",
              "      <th></th>\n",
              "      <th></th>\n",
              "      <th></th>\n",
              "      <th></th>\n",
              "      <th></th>\n",
              "      <th></th>\n",
              "      <th></th>\n",
              "      <th></th>\n",
              "      <th></th>\n",
              "      <th></th>\n",
              "      <th></th>\n",
              "      <th></th>\n",
              "      <th></th>\n",
              "      <th></th>\n",
              "      <th></th>\n",
              "      <th></th>\n",
              "      <th></th>\n",
              "      <th></th>\n",
              "      <th></th>\n",
              "      <th></th>\n",
              "      <th></th>\n",
              "      <th></th>\n",
              "      <th></th>\n",
              "      <th></th>\n",
              "      <th></th>\n",
              "      <th></th>\n",
              "      <th></th>\n",
              "      <th></th>\n",
              "      <th></th>\n",
              "      <th></th>\n",
              "      <th></th>\n",
              "      <th></th>\n",
              "      <th></th>\n",
              "      <th></th>\n",
              "      <th></th>\n",
              "    </tr>\n",
              "  </thead>\n",
              "  <tbody>\n",
              "    <tr>\n",
              "      <th>HRCE-1_10_AA05_1</th>\n",
              "      <td>2.389372</td>\n",
              "      <td>0.214582</td>\n",
              "      <td>-0.272902</td>\n",
              "      <td>-0.196034</td>\n",
              "      <td>-0.563311</td>\n",
              "      <td>0.619960</td>\n",
              "      <td>-0.371054</td>\n",
              "      <td>-0.037861</td>\n",
              "      <td>-0.219545</td>\n",
              "      <td>-0.392556</td>\n",
              "      <td>-2.769379</td>\n",
              "      <td>-0.389006</td>\n",
              "      <td>-0.543331</td>\n",
              "      <td>1.143736</td>\n",
              "      <td>-0.567993</td>\n",
              "      <td>-0.919517</td>\n",
              "      <td>0.131801</td>\n",
              "      <td>-0.072684</td>\n",
              "      <td>0.043436</td>\n",
              "      <td>-0.041997</td>\n",
              "      <td>-0.598043</td>\n",
              "      <td>-0.256680</td>\n",
              "      <td>0.499137</td>\n",
              "      <td>0.038466</td>\n",
              "      <td>-2.324510</td>\n",
              "      <td>0.587085</td>\n",
              "      <td>0.148490</td>\n",
              "      <td>-1.344135</td>\n",
              "      <td>0.615269</td>\n",
              "      <td>1.145046</td>\n",
              "      <td>0.951628</td>\n",
              "      <td>-0.165207</td>\n",
              "      <td>-1.689007</td>\n",
              "      <td>0.681347</td>\n",
              "      <td>-1.732188</td>\n",
              "      <td>0.408793</td>\n",
              "      <td>-1.773126</td>\n",
              "      <td>0.600478</td>\n",
              "      <td>-1.289480</td>\n",
              "      <td>1.741578</td>\n",
              "      <td>...</td>\n",
              "      <td>1.694329</td>\n",
              "      <td>-0.702744</td>\n",
              "      <td>0.300283</td>\n",
              "      <td>0.360717</td>\n",
              "      <td>0.096897</td>\n",
              "      <td>-0.119458</td>\n",
              "      <td>0.089974</td>\n",
              "      <td>0.388082</td>\n",
              "      <td>-1.095558</td>\n",
              "      <td>0.061971</td>\n",
              "      <td>-0.69445</td>\n",
              "      <td>-0.470560</td>\n",
              "      <td>0.165727</td>\n",
              "      <td>0.954380</td>\n",
              "      <td>0.641269</td>\n",
              "      <td>0.000110</td>\n",
              "      <td>1.180884</td>\n",
              "      <td>0.871668</td>\n",
              "      <td>0.718739</td>\n",
              "      <td>0.122943</td>\n",
              "      <td>1.184700</td>\n",
              "      <td>0.337163</td>\n",
              "      <td>-1.053558</td>\n",
              "      <td>-0.368507</td>\n",
              "      <td>-0.772576</td>\n",
              "      <td>1.022397</td>\n",
              "      <td>0.306467</td>\n",
              "      <td>0.005132</td>\n",
              "      <td>-2.340652</td>\n",
              "      <td>0.668188</td>\n",
              "      <td>1.172451</td>\n",
              "      <td>0.989767</td>\n",
              "      <td>-1.486712</td>\n",
              "      <td>-1.447653</td>\n",
              "      <td>-1.304442</td>\n",
              "      <td>-0.031610</td>\n",
              "      <td>-0.710898</td>\n",
              "      <td>0.555251</td>\n",
              "      <td>-0.265755</td>\n",
              "      <td>-1.212434</td>\n",
              "    </tr>\n",
              "    <tr>\n",
              "      <th>HRCE-1_10_AA08_1</th>\n",
              "      <td>2.297975</td>\n",
              "      <td>0.022587</td>\n",
              "      <td>0.195894</td>\n",
              "      <td>0.014781</td>\n",
              "      <td>-1.100471</td>\n",
              "      <td>0.098462</td>\n",
              "      <td>0.242965</td>\n",
              "      <td>0.199119</td>\n",
              "      <td>-0.567304</td>\n",
              "      <td>-0.227210</td>\n",
              "      <td>-2.230506</td>\n",
              "      <td>-0.949541</td>\n",
              "      <td>-0.047310</td>\n",
              "      <td>0.533605</td>\n",
              "      <td>-0.290319</td>\n",
              "      <td>-1.508357</td>\n",
              "      <td>0.161617</td>\n",
              "      <td>0.380366</td>\n",
              "      <td>0.146494</td>\n",
              "      <td>-0.108530</td>\n",
              "      <td>-0.873874</td>\n",
              "      <td>0.056584</td>\n",
              "      <td>0.491351</td>\n",
              "      <td>0.080825</td>\n",
              "      <td>-1.321582</td>\n",
              "      <td>0.298009</td>\n",
              "      <td>0.190170</td>\n",
              "      <td>-0.864164</td>\n",
              "      <td>0.351424</td>\n",
              "      <td>0.536975</td>\n",
              "      <td>1.282919</td>\n",
              "      <td>-0.110490</td>\n",
              "      <td>-1.274246</td>\n",
              "      <td>0.943124</td>\n",
              "      <td>-1.541825</td>\n",
              "      <td>0.065526</td>\n",
              "      <td>-1.234762</td>\n",
              "      <td>0.295345</td>\n",
              "      <td>-1.824088</td>\n",
              "      <td>1.225561</td>\n",
              "      <td>...</td>\n",
              "      <td>1.209590</td>\n",
              "      <td>-1.098585</td>\n",
              "      <td>0.753858</td>\n",
              "      <td>0.079735</td>\n",
              "      <td>0.000902</td>\n",
              "      <td>-0.457200</td>\n",
              "      <td>-0.152898</td>\n",
              "      <td>0.280296</td>\n",
              "      <td>-0.768077</td>\n",
              "      <td>0.315934</td>\n",
              "      <td>-0.38891</td>\n",
              "      <td>-0.073659</td>\n",
              "      <td>0.390859</td>\n",
              "      <td>0.923492</td>\n",
              "      <td>0.642634</td>\n",
              "      <td>0.143817</td>\n",
              "      <td>0.619918</td>\n",
              "      <td>0.375651</td>\n",
              "      <td>0.347446</td>\n",
              "      <td>-0.236212</td>\n",
              "      <td>1.128898</td>\n",
              "      <td>0.012419</td>\n",
              "      <td>-1.073843</td>\n",
              "      <td>-0.257170</td>\n",
              "      <td>-0.714517</td>\n",
              "      <td>0.858910</td>\n",
              "      <td>0.012951</td>\n",
              "      <td>-0.503524</td>\n",
              "      <td>-1.609319</td>\n",
              "      <td>1.182596</td>\n",
              "      <td>0.586100</td>\n",
              "      <td>0.781158</td>\n",
              "      <td>-1.187773</td>\n",
              "      <td>-1.368313</td>\n",
              "      <td>-1.659620</td>\n",
              "      <td>-0.020060</td>\n",
              "      <td>-0.498513</td>\n",
              "      <td>0.349791</td>\n",
              "      <td>-0.286453</td>\n",
              "      <td>-1.424416</td>\n",
              "    </tr>\n",
              "    <tr>\n",
              "      <th>HRCE-1_10_AA08_2</th>\n",
              "      <td>2.023117</td>\n",
              "      <td>0.055359</td>\n",
              "      <td>0.032669</td>\n",
              "      <td>-0.427921</td>\n",
              "      <td>-1.477027</td>\n",
              "      <td>0.555283</td>\n",
              "      <td>0.125149</td>\n",
              "      <td>0.024121</td>\n",
              "      <td>-0.310992</td>\n",
              "      <td>-0.035899</td>\n",
              "      <td>-2.317528</td>\n",
              "      <td>-0.571142</td>\n",
              "      <td>-0.190510</td>\n",
              "      <td>1.388795</td>\n",
              "      <td>-0.545442</td>\n",
              "      <td>-1.311690</td>\n",
              "      <td>0.067700</td>\n",
              "      <td>0.051449</td>\n",
              "      <td>0.281658</td>\n",
              "      <td>0.190968</td>\n",
              "      <td>-0.541562</td>\n",
              "      <td>0.122109</td>\n",
              "      <td>0.277549</td>\n",
              "      <td>-0.053468</td>\n",
              "      <td>-1.983142</td>\n",
              "      <td>0.453062</td>\n",
              "      <td>0.017778</td>\n",
              "      <td>-1.351487</td>\n",
              "      <td>0.600766</td>\n",
              "      <td>1.270639</td>\n",
              "      <td>1.074047</td>\n",
              "      <td>-0.062500</td>\n",
              "      <td>-1.360750</td>\n",
              "      <td>0.680048</td>\n",
              "      <td>-1.492564</td>\n",
              "      <td>0.104654</td>\n",
              "      <td>-1.461042</td>\n",
              "      <td>0.506609</td>\n",
              "      <td>-1.586523</td>\n",
              "      <td>1.265087</td>\n",
              "      <td>...</td>\n",
              "      <td>1.547907</td>\n",
              "      <td>-0.983013</td>\n",
              "      <td>0.355730</td>\n",
              "      <td>0.020508</td>\n",
              "      <td>0.567637</td>\n",
              "      <td>-0.209212</td>\n",
              "      <td>-0.159852</td>\n",
              "      <td>0.014123</td>\n",
              "      <td>-0.657308</td>\n",
              "      <td>0.370420</td>\n",
              "      <td>-0.90858</td>\n",
              "      <td>-0.119487</td>\n",
              "      <td>0.233618</td>\n",
              "      <td>0.823882</td>\n",
              "      <td>0.551085</td>\n",
              "      <td>-0.014573</td>\n",
              "      <td>1.159965</td>\n",
              "      <td>0.614649</td>\n",
              "      <td>0.434470</td>\n",
              "      <td>0.093707</td>\n",
              "      <td>1.066292</td>\n",
              "      <td>0.126574</td>\n",
              "      <td>-1.049656</td>\n",
              "      <td>-0.243583</td>\n",
              "      <td>-0.585675</td>\n",
              "      <td>0.663529</td>\n",
              "      <td>-0.127107</td>\n",
              "      <td>0.177727</td>\n",
              "      <td>-1.868272</td>\n",
              "      <td>1.141989</td>\n",
              "      <td>0.857226</td>\n",
              "      <td>0.687854</td>\n",
              "      <td>-1.667390</td>\n",
              "      <td>-1.059504</td>\n",
              "      <td>-1.597720</td>\n",
              "      <td>-0.335833</td>\n",
              "      <td>-0.643573</td>\n",
              "      <td>0.253038</td>\n",
              "      <td>0.145723</td>\n",
              "      <td>-1.794530</td>\n",
              "    </tr>\n",
              "  </tbody>\n",
              "</table>\n",
              "<p>3 rows × 1024 columns</p>\n",
              "</div>"
            ],
            "text/plain": [
              "                  feature_0  feature_1  ...  feature_1022  feature_1023\n",
              "site_id                                 ...                            \n",
              "HRCE-1_10_AA05_1   2.389372   0.214582  ...     -0.265755     -1.212434\n",
              "HRCE-1_10_AA08_1   2.297975   0.022587  ...     -0.286453     -1.424416\n",
              "HRCE-1_10_AA08_2   2.023117   0.055359  ...      0.145723     -1.794530\n",
              "\n",
              "[3 rows x 1024 columns]"
            ]
          },
          "metadata": {
            "tags": []
          },
          "execution_count": 15
        }
      ]
    },
    {
      "cell_type": "code",
      "metadata": {
        "id": "1ZD0Rzk-Ktjj",
        "outputId": "2abba6cc-9633-4c5f-f650-a7a3712b78de",
        "colab": {
          "base_uri": "https://localhost:8080/",
          "height": 34
        }
      },
      "source": [
        "df_meta_subset = pd.read_csv(os.path.join(path, 'meta_subset.csv'), index_col=False)\n",
        "df_meta_subset.shape"
      ],
      "execution_count": null,
      "outputs": [
        {
          "output_type": "execute_result",
          "data": {
            "text/plain": [
              "(27360, 11)"
            ]
          },
          "metadata": {
            "tags": []
          },
          "execution_count": 16
        }
      ]
    },
    {
      "cell_type": "code",
      "metadata": {
        "id": "0uZqfL8MK62J",
        "outputId": "28737b78-404c-4137-a3ea-74ad5e32abd0",
        "colab": {
          "base_uri": "https://localhost:8080/",
          "height": 34
        }
      },
      "source": [
        "# target is disease condition\n",
        "target = df_meta_subset['disease_condition']\n",
        "print(type(target), len(target))"
      ],
      "execution_count": null,
      "outputs": [
        {
          "output_type": "stream",
          "text": [
            "<class 'pandas.core.series.Series'> 27360\n"
          ],
          "name": "stdout"
        }
      ]
    },
    {
      "cell_type": "markdown",
      "metadata": {
        "id": "SP87AkUmxMlS"
      },
      "source": [
        "**Data preparation**"
      ]
    },
    {
      "cell_type": "code",
      "metadata": {
        "id": "tlKlZBykQQ3e"
      },
      "source": [
        "# Reshape dimension of embedding_subset from 2D to 3D since CNN require 3D input\n",
        "data = np.expand_dims(df_embeddings_subset, axis=2)"
      ],
      "execution_count": null,
      "outputs": []
    },
    {
      "cell_type": "code",
      "metadata": {
        "id": "9l6wCh3JQphl",
        "outputId": "9428d508-6aac-4f48-b6d4-e427de7a746f",
        "colab": {
          "base_uri": "https://localhost:8080/",
          "height": 34
        }
      },
      "source": [
        "data.shape"
      ],
      "execution_count": null,
      "outputs": [
        {
          "output_type": "execute_result",
          "data": {
            "text/plain": [
              "(27360, 1024, 1)"
            ]
          },
          "metadata": {
            "tags": []
          },
          "execution_count": 19
        }
      ]
    },
    {
      "cell_type": "code",
      "metadata": {
        "id": "DQcvv4X_QsQW"
      },
      "source": [
        "X_train, X_test, y_train, y_test = train_test_split(data, target, test_size=0.2, random_state=42)"
      ],
      "execution_count": null,
      "outputs": []
    },
    {
      "cell_type": "code",
      "metadata": {
        "id": "6QXJ1t7CRGX-",
        "outputId": "78094146-db02-43bc-94e6-a4502d53cf51",
        "colab": {
          "base_uri": "https://localhost:8080/",
          "height": 67
        }
      },
      "source": [
        "# print(type(y_train), type(y_test))\n",
        "# Convert pandas series of label to np array\n",
        "y_train_ = np.array(pd.factorize(y_train)[0])\n",
        "y_test_ = np.array(pd.factorize(y_test)[0])\n",
        "print(y_train_[0:100])"
      ],
      "execution_count": null,
      "outputs": [
        {
          "output_type": "stream",
          "text": [
            "[0 0 1 0 0 0 0 0 1 2 0 1 1 2 2 0 1 1 2 1 2 0 2 1 1 2 0 0 2 2 1 1 1 1 1 2 2\n",
            " 2 0 0 2 1 2 2 1 1 0 2 2 1 1 0 2 1 2 1 2 1 2 0 1 0 0 1 0 0 0 0 2 2 0 1 2 2\n",
            " 2 2 2 0 0 2 1 2 1 1 2 2 2 1 1 2 2 2 2 1 0 2 2 1 0 2]\n"
          ],
          "name": "stdout"
        }
      ]
    },
    {
      "cell_type": "code",
      "metadata": {
        "id": "thQPJimDRWlr"
      },
      "source": [
        "# Convert label numpy array to on-hot vector\n",
        "y_train = np_utils.to_categorical(y_train_)\n",
        "y_test = np_utils.to_categorical(y_test_)"
      ],
      "execution_count": null,
      "outputs": []
    },
    {
      "cell_type": "code",
      "metadata": {
        "id": "L55KzhD9SFu-",
        "outputId": "2877d060-f26e-4846-880d-4100e65d1efe",
        "colab": {
          "base_uri": "https://localhost:8080/",
          "height": 34
        }
      },
      "source": [
        "print(X_train.shape, X_test.shape, y_train.shape, y_test.shape)"
      ],
      "execution_count": null,
      "outputs": [
        {
          "output_type": "stream",
          "text": [
            "(21888, 1024, 1) (5472, 1024, 1) (21888, 3) (5472, 3)\n"
          ],
          "name": "stdout"
        }
      ]
    },
    {
      "cell_type": "code",
      "metadata": {
        "id": "GJOhCIGa8W1r",
        "outputId": "609c6e0a-ebee-4224-ca88-6ffc3da4d95b",
        "colab": {
          "base_uri": "https://localhost:8080/",
          "height": 34
        }
      },
      "source": [
        "print(np.array(y_test).shape)"
      ],
      "execution_count": null,
      "outputs": [
        {
          "output_type": "stream",
          "text": [
            "(5472, 3)\n"
          ],
          "name": "stdout"
        }
      ]
    },
    {
      "cell_type": "markdown",
      "metadata": {
        "id": "j-m3bvnPxXEH"
      },
      "source": [
        "**A CNN model (An example model for test)**"
      ]
    },
    {
      "cell_type": "code",
      "metadata": {
        "id": "KQtPUIycAsQb",
        "outputId": "b725190b-876f-4ec5-e00b-e1ba05fb53f0",
        "colab": {
          "base_uri": "https://localhost:8080/",
          "height": 1000
        }
      },
      "source": [
        "%%time\n",
        "dropout = 0.1\n",
        "\n",
        "model = Sequential()\n",
        "\n",
        "model.add(Conv1D(64, 3, padding='same', activation='relu', input_shape=(1024, 1)))\n",
        "model.add(MaxPooling1D(pool_size=2))\n",
        "\n",
        "model.add(Conv1D(128, 3, padding='same', activation='relu'))\n",
        "model.add(Conv1D(128, 3, padding='same', activation='relu'))\n",
        "model.add(MaxPooling1D(pool_size=2))\n",
        "\n",
        "model.add(Conv1D(256, 3, padding='same', activation='relu'))\n",
        "model.add(Conv1D(256, 3, padding='same', activation='relu'))\n",
        "model.add(MaxPooling1D(pool_size=2))\n",
        "\n",
        "model.add(Flatten())\n",
        "\n",
        "model.add(Dense(128, activation='relu'))\n",
        "model.add(Dropout(dropout))\n",
        "\n",
        "model.add(Dense(64, activation='relu'))\n",
        "model.add(Dropout(dropout))\n",
        "\n",
        "model.add(Dense(units=3, activation='softmax'))\n",
        "\n",
        "model.compile(loss='categorical_crossentropy', optimizer='adam', metrics=['accuracy'])\n",
        "\n",
        "cnn = model.fit(X_train, y_train, \n",
        "                batch_size=32, \n",
        "                epochs=50, \n",
        "                validation_data=(X_test, y_test))"
      ],
      "execution_count": null,
      "outputs": [
        {
          "output_type": "stream",
          "text": [
            "Epoch 1/50\n",
            "684/684 [==============================] - 202s 296ms/step - loss: 0.5495 - accuracy: 0.7286 - val_loss: 0.4220 - val_accuracy: 0.7990\n",
            "Epoch 2/50\n",
            "684/684 [==============================] - 204s 299ms/step - loss: 0.4109 - accuracy: 0.8073 - val_loss: 0.3762 - val_accuracy: 0.8198\n",
            "Epoch 3/50\n",
            "684/684 [==============================] - 202s 296ms/step - loss: 0.3773 - accuracy: 0.8271 - val_loss: 0.4150 - val_accuracy: 0.7984\n",
            "Epoch 4/50\n",
            "684/684 [==============================] - 206s 302ms/step - loss: 0.3379 - accuracy: 0.8475 - val_loss: 0.3626 - val_accuracy: 0.8377\n",
            "Epoch 5/50\n",
            "684/684 [==============================] - 203s 296ms/step - loss: 0.3197 - accuracy: 0.8572 - val_loss: 0.3498 - val_accuracy: 0.8397\n",
            "Epoch 6/50\n",
            "684/684 [==============================] - 203s 297ms/step - loss: 0.2998 - accuracy: 0.8701 - val_loss: 0.3184 - val_accuracy: 0.8540\n",
            "Epoch 7/50\n",
            "684/684 [==============================] - 204s 298ms/step - loss: 0.2857 - accuracy: 0.8743 - val_loss: 0.3337 - val_accuracy: 0.8469\n",
            "Epoch 8/50\n",
            "684/684 [==============================] - 206s 301ms/step - loss: 0.2642 - accuracy: 0.8847 - val_loss: 0.3177 - val_accuracy: 0.8565\n",
            "Epoch 9/50\n",
            "684/684 [==============================] - 203s 296ms/step - loss: 0.2480 - accuracy: 0.8931 - val_loss: 0.3232 - val_accuracy: 0.8576\n",
            "Epoch 10/50\n",
            "684/684 [==============================] - 202s 296ms/step - loss: 0.2307 - accuracy: 0.9030 - val_loss: 0.3092 - val_accuracy: 0.8664\n",
            "Epoch 11/50\n",
            "684/684 [==============================] - 203s 297ms/step - loss: 0.2140 - accuracy: 0.9073 - val_loss: 0.3293 - val_accuracy: 0.8618\n",
            "Epoch 12/50\n",
            "684/684 [==============================] - 202s 296ms/step - loss: 0.1989 - accuracy: 0.9167 - val_loss: 0.3749 - val_accuracy: 0.8598\n",
            "Epoch 13/50\n",
            "684/684 [==============================] - 202s 295ms/step - loss: 0.1808 - accuracy: 0.9230 - val_loss: 0.4528 - val_accuracy: 0.8538\n",
            "Epoch 14/50\n",
            "684/684 [==============================] - 215s 314ms/step - loss: 0.1781 - accuracy: 0.9266 - val_loss: 0.3698 - val_accuracy: 0.8640\n",
            "Epoch 15/50\n",
            "684/684 [==============================] - 213s 311ms/step - loss: 0.1548 - accuracy: 0.9360 - val_loss: 0.3747 - val_accuracy: 0.8660\n",
            "Epoch 16/50\n",
            "684/684 [==============================] - 213s 311ms/step - loss: 0.1501 - accuracy: 0.9385 - val_loss: 0.3868 - val_accuracy: 0.8469\n",
            "Epoch 17/50\n",
            "684/684 [==============================] - 211s 308ms/step - loss: 0.1374 - accuracy: 0.9442 - val_loss: 0.3740 - val_accuracy: 0.8617\n",
            "Epoch 18/50\n",
            "684/684 [==============================] - 213s 311ms/step - loss: 0.1233 - accuracy: 0.9504 - val_loss: 0.4196 - val_accuracy: 0.8646\n",
            "Epoch 19/50\n",
            "684/684 [==============================] - 215s 314ms/step - loss: 0.1163 - accuracy: 0.9540 - val_loss: 0.4480 - val_accuracy: 0.8562\n",
            "Epoch 20/50\n",
            "684/684 [==============================] - 212s 310ms/step - loss: 0.1174 - accuracy: 0.9529 - val_loss: 0.4150 - val_accuracy: 0.8567\n",
            "Epoch 21/50\n",
            "684/684 [==============================] - 205s 300ms/step - loss: 0.1028 - accuracy: 0.9580 - val_loss: 0.4321 - val_accuracy: 0.8611\n",
            "Epoch 22/50\n",
            "684/684 [==============================] - 207s 302ms/step - loss: 0.0960 - accuracy: 0.9619 - val_loss: 0.4741 - val_accuracy: 0.8580\n",
            "Epoch 23/50\n",
            "684/684 [==============================] - 212s 310ms/step - loss: 0.0937 - accuracy: 0.9639 - val_loss: 0.4458 - val_accuracy: 0.8662\n",
            "Epoch 24/50\n",
            "684/684 [==============================] - 211s 309ms/step - loss: 0.0898 - accuracy: 0.9661 - val_loss: 0.4619 - val_accuracy: 0.8666\n",
            "Epoch 25/50\n",
            "684/684 [==============================] - 210s 307ms/step - loss: 0.0825 - accuracy: 0.9693 - val_loss: 0.4839 - val_accuracy: 0.8618\n",
            "Epoch 26/50\n",
            "684/684 [==============================] - 213s 312ms/step - loss: 0.0878 - accuracy: 0.9666 - val_loss: 0.4398 - val_accuracy: 0.8664\n",
            "Epoch 27/50\n",
            "684/684 [==============================] - 208s 303ms/step - loss: 0.0812 - accuracy: 0.9695 - val_loss: 0.5628 - val_accuracy: 0.8640\n",
            "Epoch 28/50\n",
            "684/684 [==============================] - 212s 310ms/step - loss: 0.0775 - accuracy: 0.9703 - val_loss: 0.5246 - val_accuracy: 0.8620\n",
            "Epoch 29/50\n",
            "684/684 [==============================] - 212s 310ms/step - loss: 0.0758 - accuracy: 0.9709 - val_loss: 0.4811 - val_accuracy: 0.8642\n",
            "Epoch 30/50\n",
            "684/684 [==============================] - 210s 307ms/step - loss: 0.0686 - accuracy: 0.9741 - val_loss: 0.5261 - val_accuracy: 0.8615\n",
            "Epoch 31/50\n",
            "684/684 [==============================] - 211s 308ms/step - loss: 0.0614 - accuracy: 0.9769 - val_loss: 0.5709 - val_accuracy: 0.8653\n",
            "Epoch 32/50\n",
            "684/684 [==============================] - 208s 305ms/step - loss: 0.0659 - accuracy: 0.9747 - val_loss: 0.5720 - val_accuracy: 0.8649\n",
            "Epoch 33/50\n",
            "684/684 [==============================] - 210s 307ms/step - loss: 0.0653 - accuracy: 0.9764 - val_loss: 0.4977 - val_accuracy: 0.8626\n",
            "Epoch 34/50\n",
            "684/684 [==============================] - 215s 314ms/step - loss: 0.0647 - accuracy: 0.9758 - val_loss: 0.5913 - val_accuracy: 0.8679\n",
            "Epoch 35/50\n",
            "684/684 [==============================] - 215s 314ms/step - loss: 0.0707 - accuracy: 0.9747 - val_loss: 0.5927 - val_accuracy: 0.8622\n",
            "Epoch 36/50\n",
            "684/684 [==============================] - 206s 300ms/step - loss: 0.0622 - accuracy: 0.9779 - val_loss: 0.5700 - val_accuracy: 0.8629\n",
            "Epoch 37/50\n",
            "684/684 [==============================] - 210s 307ms/step - loss: 0.0649 - accuracy: 0.9763 - val_loss: 0.5245 - val_accuracy: 0.8602\n",
            "Epoch 38/50\n",
            "684/684 [==============================] - 205s 300ms/step - loss: 0.0533 - accuracy: 0.9800 - val_loss: 0.6075 - val_accuracy: 0.8609\n",
            "Epoch 39/50\n",
            "684/684 [==============================] - 205s 300ms/step - loss: 0.0527 - accuracy: 0.9812 - val_loss: 0.5212 - val_accuracy: 0.8662\n",
            "Epoch 40/50\n",
            "684/684 [==============================] - 207s 303ms/step - loss: 0.0488 - accuracy: 0.9823 - val_loss: 0.6354 - val_accuracy: 0.8642\n",
            "Epoch 41/50\n",
            "684/684 [==============================] - 205s 299ms/step - loss: 0.0602 - accuracy: 0.9797 - val_loss: 0.5785 - val_accuracy: 0.8670\n",
            "Epoch 42/50\n",
            "684/684 [==============================] - 202s 296ms/step - loss: 0.0520 - accuracy: 0.9821 - val_loss: 0.5970 - val_accuracy: 0.8586\n",
            "Epoch 43/50\n",
            "684/684 [==============================] - 202s 296ms/step - loss: 0.0483 - accuracy: 0.9827 - val_loss: 0.5400 - val_accuracy: 0.8631\n",
            "Epoch 44/50\n",
            "684/684 [==============================] - 201s 293ms/step - loss: 0.0540 - accuracy: 0.9807 - val_loss: 0.6060 - val_accuracy: 0.8659\n",
            "Epoch 45/50\n",
            "684/684 [==============================] - 201s 294ms/step - loss: 0.0449 - accuracy: 0.9839 - val_loss: 0.6266 - val_accuracy: 0.8543\n",
            "Epoch 46/50\n",
            "684/684 [==============================] - 202s 296ms/step - loss: 0.0581 - accuracy: 0.9793 - val_loss: 0.6581 - val_accuracy: 0.8723\n",
            "Epoch 47/50\n",
            "684/684 [==============================] - 202s 295ms/step - loss: 0.0506 - accuracy: 0.9820 - val_loss: 0.6208 - val_accuracy: 0.8618\n",
            "Epoch 48/50\n",
            "684/684 [==============================] - 202s 296ms/step - loss: 0.0488 - accuracy: 0.9823 - val_loss: 0.6227 - val_accuracy: 0.8578\n",
            "Epoch 49/50\n",
            "684/684 [==============================] - 202s 296ms/step - loss: 0.0477 - accuracy: 0.9827 - val_loss: 0.5855 - val_accuracy: 0.8657\n",
            "Epoch 50/50\n",
            "684/684 [==============================] - 202s 295ms/step - loss: 0.0450 - accuracy: 0.9835 - val_loss: 0.7237 - val_accuracy: 0.8717\n",
            "CPU times: user 10h 9min 59s, sys: 10min 28s, total: 10h 20min 28s\n",
            "Wall time: 2h 52min 41s\n"
          ],
          "name": "stdout"
        }
      ]
    },
    {
      "cell_type": "markdown",
      "metadata": {
        "id": "2wjQM6JYRZ58"
      },
      "source": [
        "**Note: epochs = 40 is enough**"
      ]
    },
    {
      "cell_type": "code",
      "metadata": {
        "id": "l9YM1mvKd8_T",
        "outputId": "d0bb34cf-a6ca-4ee8-b8ac-9ff1a639d443",
        "colab": {
          "base_uri": "https://localhost:8080/",
          "height": 34
        }
      },
      "source": [
        "print(f'Accuracy = {cnn.history[\"accuracy\"][-1]*100}')"
      ],
      "execution_count": null,
      "outputs": [
        {
          "output_type": "stream",
          "text": [
            "Accuracy = 98.34612607955933\n"
          ],
          "name": "stdout"
        }
      ]
    },
    {
      "cell_type": "code",
      "metadata": {
        "id": "5990HmZLgvWL",
        "outputId": "51545220-162d-45e1-ed9d-3c6587e1f1b0",
        "colab": {
          "base_uri": "https://localhost:8080/",
          "height": 34
        }
      },
      "source": [
        "print(f'Validation Accuracy = {cnn.history[\"val_accuracy\"][-1]*100}')"
      ],
      "execution_count": null,
      "outputs": [
        {
          "output_type": "stream",
          "text": [
            "Validation Accuracy = 87.17105388641357\n"
          ],
          "name": "stdout"
        }
      ]
    },
    {
      "cell_type": "code",
      "metadata": {
        "id": "4OpJmumghjFr",
        "outputId": "5b446a18-5d81-4748-c80c-c2c77f84031c",
        "colab": {
          "base_uri": "https://localhost:8080/",
          "height": 138
        }
      },
      "source": [
        "%%time\n",
        "y_train_pred = model.predict_classes(X_train)\n",
        "y_test_pred = model.predict_classes(X_test)\n",
        "print(y_train_pred.shape, y_test_pred.shape)"
      ],
      "execution_count": null,
      "outputs": [
        {
          "output_type": "stream",
          "text": [
            "WARNING:tensorflow:From <timed exec>:1: Sequential.predict_classes (from tensorflow.python.keras.engine.sequential) is deprecated and will be removed after 2021-01-01.\n",
            "Instructions for updating:\n",
            "Please use instead:* `np.argmax(model.predict(x), axis=-1)`,   if your model does multi-class classification   (e.g. if it uses a `softmax` last-layer activation).* `(model.predict(x) > 0.5).astype(\"int32\")`,   if your model does binary classification   (e.g. if it uses a `sigmoid` last-layer activation).\n",
            "(21888,) (5472,)\n",
            "CPU times: user 3min 35s, sys: 2.05 s, total: 3min 37s\n",
            "Wall time: 1min 4s\n"
          ],
          "name": "stdout"
        }
      ]
    },
    {
      "cell_type": "code",
      "metadata": {
        "id": "R-FI4DSVkaYC",
        "outputId": "80fb779b-376d-4fa5-d2e9-6c59e51d6463",
        "colab": {
          "base_uri": "https://localhost:8080/",
          "height": 50
        }
      },
      "source": [
        "print(type(y_train_pred), y_train_pred.shape, y_train_pred[0:5])\n",
        "print(type(y_train_), y_train_.shape, y_train_[0:5])"
      ],
      "execution_count": null,
      "outputs": [
        {
          "output_type": "stream",
          "text": [
            "<class 'numpy.ndarray'> (21888,) [0 0 1 0 0]\n",
            "<class 'numpy.ndarray'> (21888,) [0 0 1 0 0]\n"
          ],
          "name": "stdout"
        }
      ]
    },
    {
      "cell_type": "markdown",
      "metadata": {
        "id": "THBSlw8exhcf"
      },
      "source": [
        "**Summary**"
      ]
    },
    {
      "cell_type": "code",
      "metadata": {
        "id": "3yGmiHPvkQGe",
        "outputId": "ae0d2f91-985e-45d5-9d94-e50d3d7f8383",
        "colab": {
          "base_uri": "https://localhost:8080/",
          "height": 67
        }
      },
      "source": [
        "output = {\n",
        "    'model': 'CNN',\n",
        "    'accracy_train': accuracy_score(y_train_, y_train_pred),\n",
        "    'accuracy_test': accuracy_score(y_test_, y_test_pred),\n",
        "    'precision_test': precision_score(y_test_, y_test_pred, average='weighted'),\n",
        "    'recall_test': recall_score(y_test_, y_test_pred, average='weighted')\n",
        "}\n",
        "\n",
        "pprint.pprint(f'output = {output}')"
      ],
      "execution_count": null,
      "outputs": [
        {
          "output_type": "stream",
          "text": [
            "(\"output = {'model': 'CNN', 'accracy_train': 0.9975785818713451, \"\n",
            " \"'accuracy_test': 0.8717105263157895, 'precision_test': 0.8718082058252381, \"\n",
            " \"'recall_test': 0.8717105263157895}\")\n"
          ],
          "name": "stdout"
        }
      ]
    },
    {
      "cell_type": "markdown",
      "metadata": {
        "id": "FjdnVs9NvBc_"
      },
      "source": [
        "**As illustrated above, it is possible to predict the disease conditions with a high accuracy. Of course, CNN model needs to be modified and tunning**"
      ]
    },
    {
      "cell_type": "markdown",
      "metadata": {
        "id": "XMe4G8uFvDlk"
      },
      "source": [
        "**The next important step is to predict the efficacy of each drug (compound) with the different doses (concentrations)**  \n"
      ]
    },
    {
      "cell_type": "markdown",
      "metadata": {
        "id": "3v8szh9eu6wF"
      },
      "source": [
        "**End of Part 4.**"
      ]
    }
  ]
}