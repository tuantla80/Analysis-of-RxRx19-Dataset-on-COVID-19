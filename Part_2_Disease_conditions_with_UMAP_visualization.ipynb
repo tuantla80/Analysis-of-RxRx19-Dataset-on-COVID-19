{
  "nbformat": 4,
  "nbformat_minor": 0,
  "metadata": {
    "kernelspec": {
      "display_name": "Python 3",
      "language": "python",
      "name": "python3"
    },
    "language_info": {
      "codemirror_mode": {
        "name": "ipython",
        "version": 3
      },
      "file_extension": ".py",
      "mimetype": "text/x-python",
      "name": "python",
      "nbconvert_exporter": "python",
      "pygments_lexer": "ipython3",
      "version": "3.7.4"
    },
    "colab": {
      "name": "Part 2. Disease conditions with UMAP visualization.ipynb",
      "provenance": [],
      "collapsed_sections": [
        "SgAzDEnZ_ujJ",
        "D-Os0DoJ_ujb",
        "Gqp5p_C9_umu",
        "6W15nIOD_unf"
      ],
      "machine_shape": "hm"
    }
  },
  "cells": [
    {
      "cell_type": "code",
      "metadata": {
        "id": "bt7D0hDWAUWF",
        "colab_type": "code",
        "colab": {
          "base_uri": "https://localhost:8080/",
          "height": 70
        },
        "outputId": "dc382e37-a03e-40f8-baa4-997c8e648f19"
      },
      "source": [
        "import numpy as np \n",
        "import pandas as pd\n",
        "import matplotlib.pyplot as plt\n",
        "import seaborn as sns\n",
        "import umap\n",
        "import os\n",
        "sns.set(context=\"paper\", style=\"white\")"
      ],
      "execution_count": null,
      "outputs": [
        {
          "output_type": "stream",
          "text": [
            "/usr/local/lib/python3.6/dist-packages/statsmodels/tools/_testing.py:19: FutureWarning: pandas.util.testing is deprecated. Use the functions in the public API at pandas.testing instead.\n",
            "  import pandas.util.testing as tm\n"
          ],
          "name": "stderr"
        }
      ]
    },
    {
      "cell_type": "markdown",
      "metadata": {
        "id": "crWobVSjdLZl",
        "colab_type": "text"
      },
      "source": [
        "**Mount to google drive (The same as part 1)**"
      ]
    },
    {
      "cell_type": "code",
      "metadata": {
        "id": "EutebauOdF-N",
        "colab_type": "code",
        "colab": {
          "base_uri": "https://localhost:8080/",
          "height": 54
        },
        "outputId": "d150511c-26ef-49b7-b4d9-57df36f1b93c"
      },
      "source": [
        "from google.colab import drive\n",
        "drive.mount('/content/drive')\n",
        "path = '/content/drive/My Drive/Colab Notebooks'"
      ],
      "execution_count": null,
      "outputs": [
        {
          "output_type": "stream",
          "text": [
            "Drive already mounted at /content/drive; to attempt to forcibly remount, call drive.mount(\"/content/drive\", force_remount=True).\n"
          ],
          "name": "stdout"
        }
      ]
    },
    {
      "cell_type": "markdown",
      "metadata": {
        "id": "jR_ooQTEhUGj",
        "colab_type": "text"
      },
      "source": [
        "#**4. UMAP scatter plot**"
      ]
    },
    {
      "cell_type": "code",
      "metadata": {
        "id": "FRropB_7TMBl",
        "colab_type": "code",
        "colab": {}
      },
      "source": [
        "def scatter_plot(embedding, \n",
        "                 df, \n",
        "                 ax, \n",
        "                 color_by='experiment', \n",
        "                 title='', \n",
        "                 custom_font={'fontname':'Arial', 'size':'14', 'weight':'bold'},\n",
        "                 reversed=True):\n",
        "  '''To plot UMAP \n",
        "  Args:\n",
        "  ----\n",
        "  Input:\n",
        "  embedding: 2D UMAP latent space\n",
        "  df: a dataframe to specify for \"color_by\"\n",
        "  ax: Matplotlib axis object\n",
        "  color_by: name of the column of df to make color\n",
        "  title: a title of the figure\n",
        "  custom font: a dictionary to customized font\n",
        "  reversed: if False, display color_by in ascending order else descending\n",
        "  Output:\n",
        "  A scatter plot of UMAP\n",
        "  '''\n",
        "  colors = sorted(list(df[color_by].unique()), reverse=reversed)\n",
        "  for i in range(len(colors)):\n",
        "    mask = df[color_by] == colors[i]\n",
        "    img = ax.scatter(embedding[mask, 0], embedding[mask, 1], label=colors[i], s=10, alpha=1)\n",
        "  # End of for\n",
        "  ax.legend(bbox_to_anchor=(1.00, 1), loc='upper left', markerscale=3, prop={'size':12})\n",
        "  ax.tick_params(axis='both', which='major', labelsize=12)\n",
        "  ax.set_xlabel('UMAP dimension 1', **custom_font)\n",
        "  ax.set_ylabel('UMAP dimension 2', **custom_font)\n",
        "  ax.set_title(title, custom_font)\n",
        "  ax.grid()\n",
        "  return None \n",
        "\n",
        "def scatter_plot_with_colorbar(\n",
        "    embedding, \n",
        "    df, \n",
        "    fig, \n",
        "    ax, \n",
        "    color_by='experiment',  \n",
        "    title='', \n",
        "    custom_font={'fontname':'Arial', 'size':'14', 'weight':'bold'},\n",
        "    cm = plt.cm.get_cmap('viridis')):\n",
        "  '''To plot UMAP with colobar\n",
        "    Args:\n",
        "    ----\n",
        "    Input:\n",
        "    embedding: 2D UMAP latent space\n",
        "    df: a dataframe to specify for \"color_by\"\n",
        "    ax: Matplotlib axis object\n",
        "    color_by: name of the column of df to make color\n",
        "    title: a title of the figure\n",
        "    custom font: a dictionary to customized font\n",
        "    cm: a color map\n",
        "    Output:\n",
        "    A scatter plot of UMAP\n",
        "\n",
        "    Note: (for simplicity) make a separate function instead of combination with \n",
        "    the scatter_plot() function above\n",
        "  '''\n",
        "  c = df[color_by]\n",
        "  img = ax.scatter(embedding[:, 0], embedding[:, 1], c=c, cmap=cm)\n",
        "  fig.colorbar(img, ax=ax, orientation=\"vertical\")\n",
        "  ax.tick_params(axis='both', which='major', labelsize=12)\n",
        "  ax.set_xlabel('UMAP dimension 1', **custom_font)\n",
        "  ax.set_ylabel('UMAP dimension 2', **custom_font)\n",
        "  ax.set_title(title, custom_font)\n",
        "  ax.grid()\n",
        "  return None"
      ],
      "execution_count": null,
      "outputs": []
    },
    {
      "cell_type": "markdown",
      "metadata": {
        "id": "ngw85sVU_uk-",
        "colab_type": "text"
      },
      "source": [
        "#**5. Combination of embeddings_pca and metadata datasets**"
      ]
    },
    {
      "cell_type": "markdown",
      "metadata": {
        "id": "oVY0PKzryvzC",
        "colab_type": "text"
      },
      "source": [
        "**Loading latent features of embedddings:  embeddings_pca.npz file**"
      ]
    },
    {
      "cell_type": "code",
      "metadata": {
        "id": "Dt2z2Kbmyd3q",
        "colab_type": "code",
        "colab": {
          "base_uri": "https://localhost:8080/",
          "height": 50
        },
        "outputId": "3be56137-41e5-45ab-aaf6-9a15f92c7e4d"
      },
      "source": [
        "principal_components = np.load(os.path.join(path, 'embeddings_pca.npz'))['arr_0']\n",
        "n_components = principal_components.shape[1]\n",
        "print(f'principal_components.shape = {principal_components.shape}')\n",
        "print(f'n_components = {n_components}')"
      ],
      "execution_count": null,
      "outputs": [
        {
          "output_type": "stream",
          "text": [
            "principal_components.shape = (305520, 50)\n",
            "n_components = 50\n"
          ],
          "name": "stdout"
        }
      ]
    },
    {
      "cell_type": "code",
      "metadata": {
        "id": "gsnkq4KziIbn",
        "colab_type": "code",
        "colab": {
          "base_uri": "https://localhost:8080/",
          "height": 215
        },
        "outputId": "a36e4a33-7d25-4ca9-9cbc-2989fc546d4e"
      },
      "source": [
        "# Making index and column names for PCA data\n",
        "df_embeddings_pca=pd.DataFrame(data=principal_components[0:, 0:],\n",
        "                               index=[i for i in range(principal_components.shape[0])],\n",
        "                               columns=['feature_' + str(i) for i in range(n_components)])\n",
        "df_embeddings_pca.head(5)"
      ],
      "execution_count": null,
      "outputs": [
        {
          "output_type": "execute_result",
          "data": {
            "text/html": [
              "<div>\n",
              "<style scoped>\n",
              "    .dataframe tbody tr th:only-of-type {\n",
              "        vertical-align: middle;\n",
              "    }\n",
              "\n",
              "    .dataframe tbody tr th {\n",
              "        vertical-align: top;\n",
              "    }\n",
              "\n",
              "    .dataframe thead th {\n",
              "        text-align: right;\n",
              "    }\n",
              "</style>\n",
              "<table border=\"1\" class=\"dataframe\">\n",
              "  <thead>\n",
              "    <tr style=\"text-align: right;\">\n",
              "      <th></th>\n",
              "      <th>feature_0</th>\n",
              "      <th>feature_1</th>\n",
              "      <th>feature_2</th>\n",
              "      <th>feature_3</th>\n",
              "      <th>feature_4</th>\n",
              "      <th>feature_5</th>\n",
              "      <th>feature_6</th>\n",
              "      <th>feature_7</th>\n",
              "      <th>feature_8</th>\n",
              "      <th>feature_9</th>\n",
              "      <th>feature_10</th>\n",
              "      <th>feature_11</th>\n",
              "      <th>feature_12</th>\n",
              "      <th>feature_13</th>\n",
              "      <th>feature_14</th>\n",
              "      <th>feature_15</th>\n",
              "      <th>feature_16</th>\n",
              "      <th>feature_17</th>\n",
              "      <th>feature_18</th>\n",
              "      <th>feature_19</th>\n",
              "      <th>feature_20</th>\n",
              "      <th>feature_21</th>\n",
              "      <th>feature_22</th>\n",
              "      <th>feature_23</th>\n",
              "      <th>feature_24</th>\n",
              "      <th>feature_25</th>\n",
              "      <th>feature_26</th>\n",
              "      <th>feature_27</th>\n",
              "      <th>feature_28</th>\n",
              "      <th>feature_29</th>\n",
              "      <th>feature_30</th>\n",
              "      <th>feature_31</th>\n",
              "      <th>feature_32</th>\n",
              "      <th>feature_33</th>\n",
              "      <th>feature_34</th>\n",
              "      <th>feature_35</th>\n",
              "      <th>feature_36</th>\n",
              "      <th>feature_37</th>\n",
              "      <th>feature_38</th>\n",
              "      <th>feature_39</th>\n",
              "      <th>feature_40</th>\n",
              "      <th>feature_41</th>\n",
              "      <th>feature_42</th>\n",
              "      <th>feature_43</th>\n",
              "      <th>feature_44</th>\n",
              "      <th>feature_45</th>\n",
              "      <th>feature_46</th>\n",
              "      <th>feature_47</th>\n",
              "      <th>feature_48</th>\n",
              "      <th>feature_49</th>\n",
              "    </tr>\n",
              "  </thead>\n",
              "  <tbody>\n",
              "    <tr>\n",
              "      <th>0</th>\n",
              "      <td>0.132417</td>\n",
              "      <td>0.319708</td>\n",
              "      <td>0.316053</td>\n",
              "      <td>0.391044</td>\n",
              "      <td>0.393467</td>\n",
              "      <td>0.590292</td>\n",
              "      <td>0.191758</td>\n",
              "      <td>0.351341</td>\n",
              "      <td>0.461592</td>\n",
              "      <td>0.466987</td>\n",
              "      <td>0.536253</td>\n",
              "      <td>0.437953</td>\n",
              "      <td>0.572890</td>\n",
              "      <td>0.391879</td>\n",
              "      <td>0.349071</td>\n",
              "      <td>0.445347</td>\n",
              "      <td>0.341853</td>\n",
              "      <td>0.504132</td>\n",
              "      <td>0.604076</td>\n",
              "      <td>0.399608</td>\n",
              "      <td>0.427333</td>\n",
              "      <td>0.464913</td>\n",
              "      <td>0.465775</td>\n",
              "      <td>0.489638</td>\n",
              "      <td>0.494150</td>\n",
              "      <td>0.408199</td>\n",
              "      <td>0.506514</td>\n",
              "      <td>0.453068</td>\n",
              "      <td>0.485315</td>\n",
              "      <td>0.495060</td>\n",
              "      <td>0.524268</td>\n",
              "      <td>0.509307</td>\n",
              "      <td>0.401345</td>\n",
              "      <td>0.385564</td>\n",
              "      <td>0.446745</td>\n",
              "      <td>0.509490</td>\n",
              "      <td>0.489981</td>\n",
              "      <td>0.483025</td>\n",
              "      <td>0.421543</td>\n",
              "      <td>0.459811</td>\n",
              "      <td>0.460953</td>\n",
              "      <td>0.469725</td>\n",
              "      <td>0.364876</td>\n",
              "      <td>0.469103</td>\n",
              "      <td>0.387249</td>\n",
              "      <td>0.432969</td>\n",
              "      <td>0.405848</td>\n",
              "      <td>0.421003</td>\n",
              "      <td>0.464734</td>\n",
              "      <td>0.396111</td>\n",
              "    </tr>\n",
              "    <tr>\n",
              "      <th>1</th>\n",
              "      <td>0.061210</td>\n",
              "      <td>0.292411</td>\n",
              "      <td>0.343654</td>\n",
              "      <td>0.439015</td>\n",
              "      <td>0.361604</td>\n",
              "      <td>0.531461</td>\n",
              "      <td>0.252884</td>\n",
              "      <td>0.412200</td>\n",
              "      <td>0.441596</td>\n",
              "      <td>0.501719</td>\n",
              "      <td>0.495689</td>\n",
              "      <td>0.523878</td>\n",
              "      <td>0.535313</td>\n",
              "      <td>0.316499</td>\n",
              "      <td>0.323712</td>\n",
              "      <td>0.450942</td>\n",
              "      <td>0.355204</td>\n",
              "      <td>0.422611</td>\n",
              "      <td>0.508067</td>\n",
              "      <td>0.463248</td>\n",
              "      <td>0.329442</td>\n",
              "      <td>0.415452</td>\n",
              "      <td>0.519158</td>\n",
              "      <td>0.433616</td>\n",
              "      <td>0.505124</td>\n",
              "      <td>0.399090</td>\n",
              "      <td>0.473961</td>\n",
              "      <td>0.459280</td>\n",
              "      <td>0.443921</td>\n",
              "      <td>0.536239</td>\n",
              "      <td>0.592748</td>\n",
              "      <td>0.438370</td>\n",
              "      <td>0.304310</td>\n",
              "      <td>0.428634</td>\n",
              "      <td>0.419176</td>\n",
              "      <td>0.412721</td>\n",
              "      <td>0.586779</td>\n",
              "      <td>0.458541</td>\n",
              "      <td>0.426260</td>\n",
              "      <td>0.493364</td>\n",
              "      <td>0.392178</td>\n",
              "      <td>0.475611</td>\n",
              "      <td>0.356532</td>\n",
              "      <td>0.441358</td>\n",
              "      <td>0.348609</td>\n",
              "      <td>0.459533</td>\n",
              "      <td>0.429846</td>\n",
              "      <td>0.399099</td>\n",
              "      <td>0.477208</td>\n",
              "      <td>0.351983</td>\n",
              "    </tr>\n",
              "    <tr>\n",
              "      <th>2</th>\n",
              "      <td>0.108674</td>\n",
              "      <td>0.336356</td>\n",
              "      <td>0.406311</td>\n",
              "      <td>0.407748</td>\n",
              "      <td>0.389359</td>\n",
              "      <td>0.544734</td>\n",
              "      <td>0.170589</td>\n",
              "      <td>0.417111</td>\n",
              "      <td>0.398482</td>\n",
              "      <td>0.501507</td>\n",
              "      <td>0.543979</td>\n",
              "      <td>0.426225</td>\n",
              "      <td>0.562843</td>\n",
              "      <td>0.373681</td>\n",
              "      <td>0.286814</td>\n",
              "      <td>0.442930</td>\n",
              "      <td>0.384244</td>\n",
              "      <td>0.447445</td>\n",
              "      <td>0.487309</td>\n",
              "      <td>0.343914</td>\n",
              "      <td>0.411652</td>\n",
              "      <td>0.455360</td>\n",
              "      <td>0.475752</td>\n",
              "      <td>0.472525</td>\n",
              "      <td>0.568680</td>\n",
              "      <td>0.421540</td>\n",
              "      <td>0.461507</td>\n",
              "      <td>0.463201</td>\n",
              "      <td>0.488834</td>\n",
              "      <td>0.551272</td>\n",
              "      <td>0.477849</td>\n",
              "      <td>0.458477</td>\n",
              "      <td>0.422462</td>\n",
              "      <td>0.409628</td>\n",
              "      <td>0.461943</td>\n",
              "      <td>0.480689</td>\n",
              "      <td>0.528402</td>\n",
              "      <td>0.403698</td>\n",
              "      <td>0.393848</td>\n",
              "      <td>0.518154</td>\n",
              "      <td>0.433064</td>\n",
              "      <td>0.488549</td>\n",
              "      <td>0.350806</td>\n",
              "      <td>0.464925</td>\n",
              "      <td>0.416482</td>\n",
              "      <td>0.472803</td>\n",
              "      <td>0.411860</td>\n",
              "      <td>0.395524</td>\n",
              "      <td>0.441884</td>\n",
              "      <td>0.316029</td>\n",
              "    </tr>\n",
              "    <tr>\n",
              "      <th>3</th>\n",
              "      <td>0.134047</td>\n",
              "      <td>0.331165</td>\n",
              "      <td>0.352454</td>\n",
              "      <td>0.374873</td>\n",
              "      <td>0.386793</td>\n",
              "      <td>0.548409</td>\n",
              "      <td>0.301229</td>\n",
              "      <td>0.333972</td>\n",
              "      <td>0.481181</td>\n",
              "      <td>0.398064</td>\n",
              "      <td>0.521756</td>\n",
              "      <td>0.534212</td>\n",
              "      <td>0.646041</td>\n",
              "      <td>0.257011</td>\n",
              "      <td>0.379889</td>\n",
              "      <td>0.466514</td>\n",
              "      <td>0.358237</td>\n",
              "      <td>0.477292</td>\n",
              "      <td>0.448120</td>\n",
              "      <td>0.455474</td>\n",
              "      <td>0.459841</td>\n",
              "      <td>0.412216</td>\n",
              "      <td>0.453976</td>\n",
              "      <td>0.428564</td>\n",
              "      <td>0.478375</td>\n",
              "      <td>0.412939</td>\n",
              "      <td>0.589747</td>\n",
              "      <td>0.457108</td>\n",
              "      <td>0.443763</td>\n",
              "      <td>0.552876</td>\n",
              "      <td>0.580033</td>\n",
              "      <td>0.431542</td>\n",
              "      <td>0.369624</td>\n",
              "      <td>0.404297</td>\n",
              "      <td>0.409220</td>\n",
              "      <td>0.426541</td>\n",
              "      <td>0.424165</td>\n",
              "      <td>0.544120</td>\n",
              "      <td>0.376512</td>\n",
              "      <td>0.540485</td>\n",
              "      <td>0.427619</td>\n",
              "      <td>0.513559</td>\n",
              "      <td>0.290861</td>\n",
              "      <td>0.496288</td>\n",
              "      <td>0.453448</td>\n",
              "      <td>0.510672</td>\n",
              "      <td>0.393186</td>\n",
              "      <td>0.383477</td>\n",
              "      <td>0.426390</td>\n",
              "      <td>0.304706</td>\n",
              "    </tr>\n",
              "    <tr>\n",
              "      <th>4</th>\n",
              "      <td>0.158918</td>\n",
              "      <td>0.298984</td>\n",
              "      <td>0.295349</td>\n",
              "      <td>0.507113</td>\n",
              "      <td>0.479140</td>\n",
              "      <td>0.370933</td>\n",
              "      <td>0.245185</td>\n",
              "      <td>0.457743</td>\n",
              "      <td>0.357245</td>\n",
              "      <td>0.557310</td>\n",
              "      <td>0.463709</td>\n",
              "      <td>0.405359</td>\n",
              "      <td>0.481736</td>\n",
              "      <td>0.348999</td>\n",
              "      <td>0.473843</td>\n",
              "      <td>0.465302</td>\n",
              "      <td>0.301833</td>\n",
              "      <td>0.443796</td>\n",
              "      <td>0.521400</td>\n",
              "      <td>0.393267</td>\n",
              "      <td>0.351158</td>\n",
              "      <td>0.427668</td>\n",
              "      <td>0.416272</td>\n",
              "      <td>0.483449</td>\n",
              "      <td>0.573538</td>\n",
              "      <td>0.381656</td>\n",
              "      <td>0.468539</td>\n",
              "      <td>0.447308</td>\n",
              "      <td>0.400820</td>\n",
              "      <td>0.486963</td>\n",
              "      <td>0.550362</td>\n",
              "      <td>0.485900</td>\n",
              "      <td>0.404162</td>\n",
              "      <td>0.402286</td>\n",
              "      <td>0.467217</td>\n",
              "      <td>0.432694</td>\n",
              "      <td>0.446292</td>\n",
              "      <td>0.539093</td>\n",
              "      <td>0.410782</td>\n",
              "      <td>0.351357</td>\n",
              "      <td>0.461101</td>\n",
              "      <td>0.562216</td>\n",
              "      <td>0.352639</td>\n",
              "      <td>0.410931</td>\n",
              "      <td>0.359736</td>\n",
              "      <td>0.456468</td>\n",
              "      <td>0.449346</td>\n",
              "      <td>0.318593</td>\n",
              "      <td>0.505775</td>\n",
              "      <td>0.429760</td>\n",
              "    </tr>\n",
              "  </tbody>\n",
              "</table>\n",
              "</div>"
            ],
            "text/plain": [
              "   feature_0  feature_1  feature_2  ...  feature_47  feature_48  feature_49\n",
              "0   0.132417   0.319708   0.316053  ...    0.421003    0.464734    0.396111\n",
              "1   0.061210   0.292411   0.343654  ...    0.399099    0.477208    0.351983\n",
              "2   0.108674   0.336356   0.406311  ...    0.395524    0.441884    0.316029\n",
              "3   0.134047   0.331165   0.352454  ...    0.383477    0.426390    0.304706\n",
              "4   0.158918   0.298984   0.295349  ...    0.318593    0.505775    0.429760\n",
              "\n",
              "[5 rows x 50 columns]"
            ]
          },
          "metadata": {
            "tags": []
          },
          "execution_count": 5
        }
      ]
    },
    {
      "cell_type": "markdown",
      "metadata": {
        "id": "_xs8YMYXhu1M",
        "colab_type": "text"
      },
      "source": [
        "**Load metadata.csv**"
      ]
    },
    {
      "cell_type": "code",
      "metadata": {
        "id": "jhd9aey31f5_",
        "colab_type": "code",
        "colab": {
          "base_uri": "https://localhost:8080/",
          "height": 34
        },
        "outputId": "61835930-1b96-4415-d1c4-a526e7d3896c"
      },
      "source": [
        "df_metadata = pd.read_csv(os.path.join(path, 'metadata.csv'))\n",
        "df_metadata.shape"
      ],
      "execution_count": null,
      "outputs": [
        {
          "output_type": "execute_result",
          "data": {
            "text/plain": [
              "(305520, 11)"
            ]
          },
          "metadata": {
            "tags": []
          },
          "execution_count": 6
        }
      ]
    },
    {
      "cell_type": "markdown",
      "metadata": {
        "id": "6OGSQhtYh_SS",
        "colab_type": "text"
      },
      "source": [
        "**Combine embeddings_pca and metadata**"
      ]
    },
    {
      "cell_type": "code",
      "metadata": {
        "id": "WB8cqH3v_uk_",
        "colab_type": "code",
        "colab": {
          "base_uri": "https://localhost:8080/",
          "height": 50
        },
        "outputId": "1b346506-00a9-47a3-fa31-e5653cbb7328"
      },
      "source": [
        "%%time\n",
        "df = pd.merge(df_metadata, \n",
        "              df_embeddings_pca, \n",
        "              left_index=True, \n",
        "              right_index=True, \n",
        "              how='inner')"
      ],
      "execution_count": null,
      "outputs": [
        {
          "output_type": "stream",
          "text": [
            "CPU times: user 123 ms, sys: 14.9 ms, total: 138 ms\n",
            "Wall time: 137 ms\n"
          ],
          "name": "stdout"
        }
      ]
    },
    {
      "cell_type": "code",
      "metadata": {
        "id": "ic34annb3iMq",
        "colab_type": "code",
        "colab": {
          "base_uri": "https://localhost:8080/",
          "height": 299
        },
        "outputId": "0a62d85e-e348-45aa-c0dd-20367ea19263"
      },
      "source": [
        "df.head(5)"
      ],
      "execution_count": null,
      "outputs": [
        {
          "output_type": "execute_result",
          "data": {
            "text/html": [
              "<div>\n",
              "<style scoped>\n",
              "    .dataframe tbody tr th:only-of-type {\n",
              "        vertical-align: middle;\n",
              "    }\n",
              "\n",
              "    .dataframe tbody tr th {\n",
              "        vertical-align: top;\n",
              "    }\n",
              "\n",
              "    .dataframe thead th {\n",
              "        text-align: right;\n",
              "    }\n",
              "</style>\n",
              "<table border=\"1\" class=\"dataframe\">\n",
              "  <thead>\n",
              "    <tr style=\"text-align: right;\">\n",
              "      <th></th>\n",
              "      <th>site_id</th>\n",
              "      <th>well_id</th>\n",
              "      <th>cell_type</th>\n",
              "      <th>experiment</th>\n",
              "      <th>plate</th>\n",
              "      <th>well</th>\n",
              "      <th>site</th>\n",
              "      <th>disease_condition</th>\n",
              "      <th>treatment</th>\n",
              "      <th>treatment_conc</th>\n",
              "      <th>SMILES</th>\n",
              "      <th>feature_0</th>\n",
              "      <th>feature_1</th>\n",
              "      <th>feature_2</th>\n",
              "      <th>feature_3</th>\n",
              "      <th>feature_4</th>\n",
              "      <th>feature_5</th>\n",
              "      <th>feature_6</th>\n",
              "      <th>feature_7</th>\n",
              "      <th>feature_8</th>\n",
              "      <th>feature_9</th>\n",
              "      <th>feature_10</th>\n",
              "      <th>feature_11</th>\n",
              "      <th>feature_12</th>\n",
              "      <th>feature_13</th>\n",
              "      <th>feature_14</th>\n",
              "      <th>feature_15</th>\n",
              "      <th>feature_16</th>\n",
              "      <th>feature_17</th>\n",
              "      <th>feature_18</th>\n",
              "      <th>feature_19</th>\n",
              "      <th>feature_20</th>\n",
              "      <th>feature_21</th>\n",
              "      <th>feature_22</th>\n",
              "      <th>feature_23</th>\n",
              "      <th>feature_24</th>\n",
              "      <th>feature_25</th>\n",
              "      <th>feature_26</th>\n",
              "      <th>feature_27</th>\n",
              "      <th>feature_28</th>\n",
              "      <th>feature_29</th>\n",
              "      <th>feature_30</th>\n",
              "      <th>feature_31</th>\n",
              "      <th>feature_32</th>\n",
              "      <th>feature_33</th>\n",
              "      <th>feature_34</th>\n",
              "      <th>feature_35</th>\n",
              "      <th>feature_36</th>\n",
              "      <th>feature_37</th>\n",
              "      <th>feature_38</th>\n",
              "      <th>feature_39</th>\n",
              "      <th>feature_40</th>\n",
              "      <th>feature_41</th>\n",
              "      <th>feature_42</th>\n",
              "      <th>feature_43</th>\n",
              "      <th>feature_44</th>\n",
              "      <th>feature_45</th>\n",
              "      <th>feature_46</th>\n",
              "      <th>feature_47</th>\n",
              "      <th>feature_48</th>\n",
              "      <th>feature_49</th>\n",
              "    </tr>\n",
              "  </thead>\n",
              "  <tbody>\n",
              "    <tr>\n",
              "      <th>0</th>\n",
              "      <td>HRCE-1_1_AA02_1</td>\n",
              "      <td>HRCE-1_1_AA02</td>\n",
              "      <td>HRCE</td>\n",
              "      <td>HRCE-1</td>\n",
              "      <td>1</td>\n",
              "      <td>AA02</td>\n",
              "      <td>1</td>\n",
              "      <td>Active SARS-CoV-2</td>\n",
              "      <td>Flubendazole</td>\n",
              "      <td>0.1</td>\n",
              "      <td>COC(=O)NC1=NC2=C(N1)C=C(C=C2)C(=O)C1=CC=C(F)C=...</td>\n",
              "      <td>0.132417</td>\n",
              "      <td>0.319708</td>\n",
              "      <td>0.316053</td>\n",
              "      <td>0.391044</td>\n",
              "      <td>0.393467</td>\n",
              "      <td>0.590292</td>\n",
              "      <td>0.191758</td>\n",
              "      <td>0.351341</td>\n",
              "      <td>0.461592</td>\n",
              "      <td>0.466987</td>\n",
              "      <td>0.536253</td>\n",
              "      <td>0.437953</td>\n",
              "      <td>0.572890</td>\n",
              "      <td>0.391879</td>\n",
              "      <td>0.349071</td>\n",
              "      <td>0.445347</td>\n",
              "      <td>0.341853</td>\n",
              "      <td>0.504132</td>\n",
              "      <td>0.604076</td>\n",
              "      <td>0.399608</td>\n",
              "      <td>0.427333</td>\n",
              "      <td>0.464913</td>\n",
              "      <td>0.465775</td>\n",
              "      <td>0.489638</td>\n",
              "      <td>0.494150</td>\n",
              "      <td>0.408199</td>\n",
              "      <td>0.506514</td>\n",
              "      <td>0.453068</td>\n",
              "      <td>0.485315</td>\n",
              "      <td>0.495060</td>\n",
              "      <td>0.524268</td>\n",
              "      <td>0.509307</td>\n",
              "      <td>0.401345</td>\n",
              "      <td>0.385564</td>\n",
              "      <td>0.446745</td>\n",
              "      <td>0.509490</td>\n",
              "      <td>0.489981</td>\n",
              "      <td>0.483025</td>\n",
              "      <td>0.421543</td>\n",
              "      <td>0.459811</td>\n",
              "      <td>0.460953</td>\n",
              "      <td>0.469725</td>\n",
              "      <td>0.364876</td>\n",
              "      <td>0.469103</td>\n",
              "      <td>0.387249</td>\n",
              "      <td>0.432969</td>\n",
              "      <td>0.405848</td>\n",
              "      <td>0.421003</td>\n",
              "      <td>0.464734</td>\n",
              "      <td>0.396111</td>\n",
              "    </tr>\n",
              "    <tr>\n",
              "      <th>1</th>\n",
              "      <td>HRCE-1_1_AA02_2</td>\n",
              "      <td>HRCE-1_1_AA02</td>\n",
              "      <td>HRCE</td>\n",
              "      <td>HRCE-1</td>\n",
              "      <td>1</td>\n",
              "      <td>AA02</td>\n",
              "      <td>2</td>\n",
              "      <td>Active SARS-CoV-2</td>\n",
              "      <td>Flubendazole</td>\n",
              "      <td>0.1</td>\n",
              "      <td>COC(=O)NC1=NC2=C(N1)C=C(C=C2)C(=O)C1=CC=C(F)C=...</td>\n",
              "      <td>0.061210</td>\n",
              "      <td>0.292411</td>\n",
              "      <td>0.343654</td>\n",
              "      <td>0.439015</td>\n",
              "      <td>0.361604</td>\n",
              "      <td>0.531461</td>\n",
              "      <td>0.252884</td>\n",
              "      <td>0.412200</td>\n",
              "      <td>0.441596</td>\n",
              "      <td>0.501719</td>\n",
              "      <td>0.495689</td>\n",
              "      <td>0.523878</td>\n",
              "      <td>0.535313</td>\n",
              "      <td>0.316499</td>\n",
              "      <td>0.323712</td>\n",
              "      <td>0.450942</td>\n",
              "      <td>0.355204</td>\n",
              "      <td>0.422611</td>\n",
              "      <td>0.508067</td>\n",
              "      <td>0.463248</td>\n",
              "      <td>0.329442</td>\n",
              "      <td>0.415452</td>\n",
              "      <td>0.519158</td>\n",
              "      <td>0.433616</td>\n",
              "      <td>0.505124</td>\n",
              "      <td>0.399090</td>\n",
              "      <td>0.473961</td>\n",
              "      <td>0.459280</td>\n",
              "      <td>0.443921</td>\n",
              "      <td>0.536239</td>\n",
              "      <td>0.592748</td>\n",
              "      <td>0.438370</td>\n",
              "      <td>0.304310</td>\n",
              "      <td>0.428634</td>\n",
              "      <td>0.419176</td>\n",
              "      <td>0.412721</td>\n",
              "      <td>0.586779</td>\n",
              "      <td>0.458541</td>\n",
              "      <td>0.426260</td>\n",
              "      <td>0.493364</td>\n",
              "      <td>0.392178</td>\n",
              "      <td>0.475611</td>\n",
              "      <td>0.356532</td>\n",
              "      <td>0.441358</td>\n",
              "      <td>0.348609</td>\n",
              "      <td>0.459533</td>\n",
              "      <td>0.429846</td>\n",
              "      <td>0.399099</td>\n",
              "      <td>0.477208</td>\n",
              "      <td>0.351983</td>\n",
              "    </tr>\n",
              "    <tr>\n",
              "      <th>2</th>\n",
              "      <td>HRCE-1_1_AA02_3</td>\n",
              "      <td>HRCE-1_1_AA02</td>\n",
              "      <td>HRCE</td>\n",
              "      <td>HRCE-1</td>\n",
              "      <td>1</td>\n",
              "      <td>AA02</td>\n",
              "      <td>3</td>\n",
              "      <td>Active SARS-CoV-2</td>\n",
              "      <td>Flubendazole</td>\n",
              "      <td>0.1</td>\n",
              "      <td>COC(=O)NC1=NC2=C(N1)C=C(C=C2)C(=O)C1=CC=C(F)C=...</td>\n",
              "      <td>0.108674</td>\n",
              "      <td>0.336356</td>\n",
              "      <td>0.406311</td>\n",
              "      <td>0.407748</td>\n",
              "      <td>0.389359</td>\n",
              "      <td>0.544734</td>\n",
              "      <td>0.170589</td>\n",
              "      <td>0.417111</td>\n",
              "      <td>0.398482</td>\n",
              "      <td>0.501507</td>\n",
              "      <td>0.543979</td>\n",
              "      <td>0.426225</td>\n",
              "      <td>0.562843</td>\n",
              "      <td>0.373681</td>\n",
              "      <td>0.286814</td>\n",
              "      <td>0.442930</td>\n",
              "      <td>0.384244</td>\n",
              "      <td>0.447445</td>\n",
              "      <td>0.487309</td>\n",
              "      <td>0.343914</td>\n",
              "      <td>0.411652</td>\n",
              "      <td>0.455360</td>\n",
              "      <td>0.475752</td>\n",
              "      <td>0.472525</td>\n",
              "      <td>0.568680</td>\n",
              "      <td>0.421540</td>\n",
              "      <td>0.461507</td>\n",
              "      <td>0.463201</td>\n",
              "      <td>0.488834</td>\n",
              "      <td>0.551272</td>\n",
              "      <td>0.477849</td>\n",
              "      <td>0.458477</td>\n",
              "      <td>0.422462</td>\n",
              "      <td>0.409628</td>\n",
              "      <td>0.461943</td>\n",
              "      <td>0.480689</td>\n",
              "      <td>0.528402</td>\n",
              "      <td>0.403698</td>\n",
              "      <td>0.393848</td>\n",
              "      <td>0.518154</td>\n",
              "      <td>0.433064</td>\n",
              "      <td>0.488549</td>\n",
              "      <td>0.350806</td>\n",
              "      <td>0.464925</td>\n",
              "      <td>0.416482</td>\n",
              "      <td>0.472803</td>\n",
              "      <td>0.411860</td>\n",
              "      <td>0.395524</td>\n",
              "      <td>0.441884</td>\n",
              "      <td>0.316029</td>\n",
              "    </tr>\n",
              "    <tr>\n",
              "      <th>3</th>\n",
              "      <td>HRCE-1_1_AA02_4</td>\n",
              "      <td>HRCE-1_1_AA02</td>\n",
              "      <td>HRCE</td>\n",
              "      <td>HRCE-1</td>\n",
              "      <td>1</td>\n",
              "      <td>AA02</td>\n",
              "      <td>4</td>\n",
              "      <td>Active SARS-CoV-2</td>\n",
              "      <td>Flubendazole</td>\n",
              "      <td>0.1</td>\n",
              "      <td>COC(=O)NC1=NC2=C(N1)C=C(C=C2)C(=O)C1=CC=C(F)C=...</td>\n",
              "      <td>0.134047</td>\n",
              "      <td>0.331165</td>\n",
              "      <td>0.352454</td>\n",
              "      <td>0.374873</td>\n",
              "      <td>0.386793</td>\n",
              "      <td>0.548409</td>\n",
              "      <td>0.301229</td>\n",
              "      <td>0.333972</td>\n",
              "      <td>0.481181</td>\n",
              "      <td>0.398064</td>\n",
              "      <td>0.521756</td>\n",
              "      <td>0.534212</td>\n",
              "      <td>0.646041</td>\n",
              "      <td>0.257011</td>\n",
              "      <td>0.379889</td>\n",
              "      <td>0.466514</td>\n",
              "      <td>0.358237</td>\n",
              "      <td>0.477292</td>\n",
              "      <td>0.448120</td>\n",
              "      <td>0.455474</td>\n",
              "      <td>0.459841</td>\n",
              "      <td>0.412216</td>\n",
              "      <td>0.453976</td>\n",
              "      <td>0.428564</td>\n",
              "      <td>0.478375</td>\n",
              "      <td>0.412939</td>\n",
              "      <td>0.589747</td>\n",
              "      <td>0.457108</td>\n",
              "      <td>0.443763</td>\n",
              "      <td>0.552876</td>\n",
              "      <td>0.580033</td>\n",
              "      <td>0.431542</td>\n",
              "      <td>0.369624</td>\n",
              "      <td>0.404297</td>\n",
              "      <td>0.409220</td>\n",
              "      <td>0.426541</td>\n",
              "      <td>0.424165</td>\n",
              "      <td>0.544120</td>\n",
              "      <td>0.376512</td>\n",
              "      <td>0.540485</td>\n",
              "      <td>0.427619</td>\n",
              "      <td>0.513559</td>\n",
              "      <td>0.290861</td>\n",
              "      <td>0.496288</td>\n",
              "      <td>0.453448</td>\n",
              "      <td>0.510672</td>\n",
              "      <td>0.393186</td>\n",
              "      <td>0.383477</td>\n",
              "      <td>0.426390</td>\n",
              "      <td>0.304706</td>\n",
              "    </tr>\n",
              "    <tr>\n",
              "      <th>4</th>\n",
              "      <td>HRCE-1_1_AA03_1</td>\n",
              "      <td>HRCE-1_1_AA03</td>\n",
              "      <td>HRCE</td>\n",
              "      <td>HRCE-1</td>\n",
              "      <td>1</td>\n",
              "      <td>AA03</td>\n",
              "      <td>1</td>\n",
              "      <td>Active SARS-CoV-2</td>\n",
              "      <td>acetylcysteine</td>\n",
              "      <td>1.0</td>\n",
              "      <td>CC(=O)N[C@H](CS)C(O)=O |a:4,r|</td>\n",
              "      <td>0.158918</td>\n",
              "      <td>0.298984</td>\n",
              "      <td>0.295349</td>\n",
              "      <td>0.507113</td>\n",
              "      <td>0.479140</td>\n",
              "      <td>0.370933</td>\n",
              "      <td>0.245185</td>\n",
              "      <td>0.457743</td>\n",
              "      <td>0.357245</td>\n",
              "      <td>0.557310</td>\n",
              "      <td>0.463709</td>\n",
              "      <td>0.405359</td>\n",
              "      <td>0.481736</td>\n",
              "      <td>0.348999</td>\n",
              "      <td>0.473843</td>\n",
              "      <td>0.465302</td>\n",
              "      <td>0.301833</td>\n",
              "      <td>0.443796</td>\n",
              "      <td>0.521400</td>\n",
              "      <td>0.393267</td>\n",
              "      <td>0.351158</td>\n",
              "      <td>0.427668</td>\n",
              "      <td>0.416272</td>\n",
              "      <td>0.483449</td>\n",
              "      <td>0.573538</td>\n",
              "      <td>0.381656</td>\n",
              "      <td>0.468539</td>\n",
              "      <td>0.447308</td>\n",
              "      <td>0.400820</td>\n",
              "      <td>0.486963</td>\n",
              "      <td>0.550362</td>\n",
              "      <td>0.485900</td>\n",
              "      <td>0.404162</td>\n",
              "      <td>0.402286</td>\n",
              "      <td>0.467217</td>\n",
              "      <td>0.432694</td>\n",
              "      <td>0.446292</td>\n",
              "      <td>0.539093</td>\n",
              "      <td>0.410782</td>\n",
              "      <td>0.351357</td>\n",
              "      <td>0.461101</td>\n",
              "      <td>0.562216</td>\n",
              "      <td>0.352639</td>\n",
              "      <td>0.410931</td>\n",
              "      <td>0.359736</td>\n",
              "      <td>0.456468</td>\n",
              "      <td>0.449346</td>\n",
              "      <td>0.318593</td>\n",
              "      <td>0.505775</td>\n",
              "      <td>0.429760</td>\n",
              "    </tr>\n",
              "  </tbody>\n",
              "</table>\n",
              "</div>"
            ],
            "text/plain": [
              "           site_id        well_id cell_type  ... feature_47  feature_48 feature_49\n",
              "0  HRCE-1_1_AA02_1  HRCE-1_1_AA02      HRCE  ...   0.421003    0.464734   0.396111\n",
              "1  HRCE-1_1_AA02_2  HRCE-1_1_AA02      HRCE  ...   0.399099    0.477208   0.351983\n",
              "2  HRCE-1_1_AA02_3  HRCE-1_1_AA02      HRCE  ...   0.395524    0.441884   0.316029\n",
              "3  HRCE-1_1_AA02_4  HRCE-1_1_AA02      HRCE  ...   0.383477    0.426390   0.304706\n",
              "4  HRCE-1_1_AA03_1  HRCE-1_1_AA03      HRCE  ...   0.318593    0.505775   0.429760\n",
              "\n",
              "[5 rows x 61 columns]"
            ]
          },
          "metadata": {
            "tags": []
          },
          "execution_count": 8
        }
      ]
    },
    {
      "cell_type": "code",
      "metadata": {
        "id": "lnaP92m9hNN7",
        "colab_type": "code",
        "colab": {}
      },
      "source": [
        "# Save this data for Part 4.\n",
        "df.to_csv(os.path.join(path, 'df_embeddings_pca.csv'), index=Falsehand)"
      ],
      "execution_count": null,
      "outputs": []
    },
    {
      "cell_type": "markdown",
      "metadata": {
        "id": "deOsTWvH_ulh",
        "colab_type": "text"
      },
      "source": [
        "#**6. Investigate Disease conditions (absent any treatment) using UMAP**"
      ]
    },
    {
      "cell_type": "markdown",
      "metadata": {
        "id": "6cF0ZPNavyBQ",
        "colab_type": "text"
      },
      "source": [
        "**Get \"un-treatment\" data frame**"
      ]
    },
    {
      "cell_type": "code",
      "metadata": {
        "id": "bp9ge24Mv0mH",
        "colab_type": "code",
        "colab": {
          "base_uri": "https://localhost:8080/",
          "height": 50
        },
        "outputId": "c2a3567a-0d3e-4813-8bcc-160816ce76c3"
      },
      "source": [
        "df_untreatment = df[pd.isnull(df['treatment'])]  \n",
        "print(df_untreatment.shape)\n",
        "df_untreatment = df_untreatment[df_untreatment['disease_condition'].notnull()]\n",
        "print(df_untreatment.shape)"
      ],
      "execution_count": null,
      "outputs": [
        {
          "output_type": "stream",
          "text": [
            "(42336, 61)\n",
            "(35432, 61)\n"
          ],
          "name": "stdout"
        }
      ]
    },
    {
      "cell_type": "markdown",
      "metadata": {
        "id": "-ckW_vix_ulj",
        "colab_type": "text"
      },
      "source": [
        "**Call umap instance**"
      ]
    },
    {
      "cell_type": "code",
      "metadata": {
        "id": "6F7ONds9_ull",
        "colab_type": "code",
        "colab": {
          "base_uri": "https://localhost:8080/",
          "height": 168
        },
        "outputId": "1549752c-ca69-4de3-a570-bf6eda302530"
      },
      "source": [
        "reducer = umap.UMAP(random_state=42)\n",
        "reducer"
      ],
      "execution_count": null,
      "outputs": [
        {
          "output_type": "execute_result",
          "data": {
            "text/plain": [
              "UMAP(a=None, angular_rp_forest=False, b=None,\n",
              "     force_approximation_algorithm=False, init='spectral', learning_rate=1.0,\n",
              "     local_connectivity=1.0, low_memory=False, metric='euclidean',\n",
              "     metric_kwds=None, min_dist=0.1, n_components=2, n_epochs=None,\n",
              "     n_neighbors=15, negative_sample_rate=5, output_metric='euclidean',\n",
              "     output_metric_kwds=None, random_state=42, repulsion_strength=1.0,\n",
              "     set_op_mix_ratio=1.0, spread=1.0, target_metric='categorical',\n",
              "     target_metric_kwds=None, target_n_neighbors=-1, target_weight=0.5,\n",
              "     transform_queue_size=4.0, transform_seed=42, unique=False, verbose=False)"
            ]
          },
          "metadata": {
            "tags": []
          },
          "execution_count": 11
        }
      ]
    },
    {
      "cell_type": "markdown",
      "metadata": {
        "id": "LO05IjlQioFd",
        "colab_type": "text"
      },
      "source": [
        "**UMAP transform: Take a lot of memory and time**  \n",
        "It is the main reason to use PCA with 50 compoments instead of all 1024 features as in the raw data.  \n",
        "NOTE: We also can use t-SNE but UMAP seems to be better in technical localized clustering aspects as well as faster and less memory."
      ]
    },
    {
      "cell_type": "code",
      "metadata": {
        "scrolled": true,
        "id": "bixQAn7s_ul1",
        "colab_type": "code",
        "colab": {
          "base_uri": "https://localhost:8080/",
          "height": 50
        },
        "outputId": "3650f784-09f3-4b1b-c952-8f3845ca331a"
      },
      "source": [
        "%%time\n",
        "# Get column names: feature_0 to feature_50 of embeddings_PCA\n",
        "cols = ['feature_' + str(i) for i in range(n_components)]\n",
        "\n",
        "# fit_tranform\n",
        "embedding = reducer.fit_transform(df_untreatment[cols])"
      ],
      "execution_count": null,
      "outputs": [
        {
          "output_type": "stream",
          "text": [
            "CPU times: user 1min 1s, sys: 3.98 s, total: 1min 5s\n",
            "Wall time: 59.7 s\n"
          ],
          "name": "stdout"
        }
      ]
    },
    {
      "cell_type": "code",
      "metadata": {
        "id": "J5LxsmVA_ul8",
        "colab_type": "code",
        "colab": {
          "base_uri": "https://localhost:8080/",
          "height": 34
        },
        "outputId": "0f862455-0488-464d-e1f0-4e4836fc28f0"
      },
      "source": [
        "embedding.shape"
      ],
      "execution_count": null,
      "outputs": [
        {
          "output_type": "execute_result",
          "data": {
            "text/plain": [
              "(35432, 2)"
            ]
          },
          "metadata": {
            "tags": []
          },
          "execution_count": 13
        }
      ]
    },
    {
      "cell_type": "markdown",
      "metadata": {
        "id": "siTiViBtxZHx",
        "colab_type": "text"
      },
      "source": [
        "**Plot UMAP**"
      ]
    },
    {
      "cell_type": "code",
      "metadata": {
        "id": "gP0K4NtW_umL",
        "colab_type": "code",
        "colab": {
          "base_uri": "https://localhost:8080/",
          "height": 990
        },
        "outputId": "08b2188f-7397-43ee-c704-7d26fa52d15d"
      },
      "source": [
        "fig, (ax1, ax2) = plt.subplots(nrows=2, ncols=1, sharex=True, sharey=True, figsize=(5, 10))\n",
        "scatter_plot(embedding, df_untreatment, ax1, color_by='experiment', title='Experiment Type')\n",
        "scatter_plot(embedding, df_untreatment, ax2, color_by='disease_condition', title='Disease Condition')\n",
        "fig, ax3 = plt.subplots(figsize=(6.3, 5))                               \n",
        "scatter_plot_with_colorbar(embedding, df_untreatment, fig, ax3, color_by='plate', title='Plate ID')\n",
        "plt.show()"
      ],
      "execution_count": null,
      "outputs": [
        {
          "output_type": "stream",
          "text": [
            "findfont: Font family ['Arial'] not found. Falling back to DejaVu Sans.\n"
          ],
          "name": "stderr"
        },
        {
          "output_type": "display_data",
          "data": {
            "image/png": "[encoded data removed]",
            "text/plain": [
              "<Figure size 360x720 with 2 Axes>"
            ]
          },
          "metadata": {
            "tags": [],
            "needs_background": "light"
          }
        },
        {
          "output_type": "display_data",
          "data": {
            "image/png": "[encoded data removed]",
            "text/plain": [
              "<Figure size 453.6x360 with 2 Axes>"
            ]
          },
          "metadata": {
            "tags": [],
            "needs_background": "light"
          }
        }
      ]
    },
    {
      "cell_type": "markdown",
      "metadata": {
        "id": "ayiuOxAF0QfD",
        "colab_type": "text"
      },
      "source": [
        "**As can be seen in the above figures, the data is largely seperated by the experiment type. As a result, disease conditions (absent any treatment) are also followed these patterns.**"
      ]
    },
    {
      "cell_type": "markdown",
      "metadata": {
        "id": "rrdhqgK4lFUZ",
        "colab_type": "text"
      },
      "source": [
        "**Note: With a better hardware than google colab, I have run UMAP with all 1024 features and all disease conditions and the results also indicate that data is large seperated by experiment type**"
      ]
    },
    {
      "cell_type": "markdown",
      "metadata": {
        "id": "XpuHm2mVKcuJ",
        "colab_type": "text"
      },
      "source": [
        "**End of Part 2**"
      ]
    }
  ]
}