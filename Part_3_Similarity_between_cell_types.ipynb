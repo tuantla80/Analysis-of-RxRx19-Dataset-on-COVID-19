{
  "nbformat": 4,
  "nbformat_minor": 0,
  "metadata": {
    "kernelspec": {
      "display_name": "Python 3",
      "language": "python",
      "name": "python3"
    },
    "language_info": {
      "codemirror_mode": {
        "name": "ipython",
        "version": 3
      },
      "file_extension": ".py",
      "mimetype": "text/x-python",
      "name": "python",
      "nbconvert_exporter": "python",
      "pygments_lexer": "ipython3",
      "version": "3.7.4"
    },
    "colab": {
      "name": "Part 3. Similarity between cell types.ipynb",
      "provenance": [],
      "collapsed_sections": [],
      "machine_shape": "hm"
    }
  },
  "cells": [
    {
      "cell_type": "code",
      "metadata": {
        "id": "bt7D0hDWAUWF",
        "colab_type": "code",
        "colab": {
          "base_uri": "https://localhost:8080/",
          "height": 70
        },
        "outputId": "b98217a9-1268-440d-89a7-41c4f6941311"
      },
      "source": [
        "import numpy as np \n",
        "import pandas as pd\n",
        "import matplotlib.pyplot as plt\n",
        "import seaborn as sns\n",
        "import os\n",
        "sns.set(context=\"paper\", style=\"white\")"
      ],
      "execution_count": null,
      "outputs": [
        {
          "output_type": "stream",
          "text": [
            "/usr/local/lib/python3.6/dist-packages/statsmodels/tools/_testing.py:19: FutureWarning: pandas.util.testing is deprecated. Use the functions in the public API at pandas.testing instead.\n",
            "  import pandas.util.testing as tm\n"
          ],
          "name": "stderr"
        }
      ]
    },
    {
      "cell_type": "markdown",
      "metadata": {
        "id": "dDUr2y4BqcYE",
        "colab_type": "text"
      },
      "source": [
        "**Mount to google drive**"
      ]
    },
    {
      "cell_type": "code",
      "metadata": {
        "id": "ItyrZ2RCqZI-",
        "colab_type": "code",
        "colab": {
          "base_uri": "https://localhost:8080/",
          "height": 54
        },
        "outputId": "a677f282-9771-4dbb-dad2-c619073629da"
      },
      "source": [
        "from google.colab import drive\n",
        "drive.mount('/content/drive')\n",
        "path = '/content/drive/My Drive/Colab Notebooks'"
      ],
      "execution_count": null,
      "outputs": [
        {
          "output_type": "stream",
          "text": [
            "Drive already mounted at /content/drive; to attempt to forcibly remount, call drive.mount(\"/content/drive\", force_remount=True).\n"
          ],
          "name": "stdout"
        }
      ]
    },
    {
      "cell_type": "markdown",
      "metadata": {
        "id": "96Okhwo7BmIz",
        "colab_type": "text"
      },
      "source": [
        "# **7. Ven diagram plot of HRCE1 vs HRCE2**"
      ]
    },
    {
      "cell_type": "code",
      "metadata": {
        "id": "SURWoR1J2hXc",
        "colab_type": "code",
        "colab": {}
      },
      "source": [
        "from matplotlib_venn import venn2\n",
        "def ven_diagram(dic, figsize=(6, 6)):\n",
        "    plt.figure(figsize=figsize)\n",
        "    ven = venn2(subsets=list(dic.values()), \n",
        "               set_labels=list(dic.keys()))\n",
        "\n",
        "    # Decoration\n",
        "    ven.get_patch_by_id('10').set_color('yellow')\n",
        "    ven.get_patch_by_id('01').set_color('red')\n",
        "    ven.get_patch_by_id('11').set_color('orange')\n",
        "\n",
        "    ven.get_patch_by_id('10').set_edgecolor('none')\n",
        "    ven.get_patch_by_id('01').set_edgecolor('none')\n",
        "    ven.get_patch_by_id('11').set_edgecolor('none')\n",
        "\n",
        "    for text in ven.subset_labels:\n",
        "        text.set_fontsize(13)\n",
        "\n",
        "    plt.show()"
      ],
      "execution_count": null,
      "outputs": []
    },
    {
      "cell_type": "markdown",
      "metadata": {
        "id": "1tpvkr9L4QRV",
        "colab_type": "text"
      },
      "source": [
        "**Get metadata**"
      ]
    },
    {
      "cell_type": "code",
      "metadata": {
        "id": "AKh7qA8r4Uf-",
        "colab_type": "code",
        "colab": {
          "base_uri": "https://localhost:8080/",
          "height": 34
        },
        "outputId": "9de56444-56e1-4bf7-91ca-e8c69dca3161"
      },
      "source": [
        "df_metadata = pd.read_csv(os.path.join(path, 'metadata.csv'))\n",
        "df_metadata.shape"
      ],
      "execution_count": null,
      "outputs": [
        {
          "output_type": "execute_result",
          "data": {
            "text/plain": [
              "(305520, 11)"
            ]
          },
          "metadata": {
            "tags": []
          },
          "execution_count": 4
        }
      ]
    },
    {
      "cell_type": "markdown",
      "metadata": {
        "id": "Gqp5p_C9_umu",
        "colab_type": "text"
      },
      "source": [
        "**HRCE-1 vs. HRCE-2**"
      ]
    },
    {
      "cell_type": "code",
      "metadata": {
        "id": "M3C_PnK1_umw",
        "colab_type": "code",
        "colab": {
          "base_uri": "https://localhost:8080/",
          "height": 34
        },
        "outputId": "6e382fa4-a8ad-4be3-8d6a-6c80548cee6a"
      },
      "source": [
        "_df = df_metadata.dropna()\n",
        "\n",
        "df_HRCE_1 = _df[(_df['experiment'] == 'HRCE-1')] \n",
        "df_HRCE_2 = _df[(_df['experiment'] == 'HRCE-2')] \n",
        "print(f'df_HRCE_1.shape = {df_HRCE_1.shape}, df_HRCE_2.shape = {df_HRCE_2.shape}')"
      ],
      "execution_count": null,
      "outputs": [
        {
          "output_type": "stream",
          "text": [
            "df_HRCE_1.shape = (119904, 11), df_HRCE_2.shape = (126896, 11)\n"
          ],
          "name": "stdout"
        }
      ]
    },
    {
      "cell_type": "markdown",
      "metadata": {
        "id": "6W15nIOD_unf",
        "colab_type": "text"
      },
      "source": [
        "**Compound numbers in HRCE-1 and HRCE-2**"
      ]
    },
    {
      "cell_type": "code",
      "metadata": {
        "id": "uxs8sYPx_unq",
        "colab_type": "code",
        "colab": {
          "base_uri": "https://localhost:8080/",
          "height": 229
        },
        "outputId": "bf316523-1a2c-43d8-ff7d-6468a5c6ef0d"
      },
      "source": [
        "dic = {\n",
        "    'HRCE-1': set(df_HRCE_1['SMILES']),\n",
        "    'HRCE-2': set(df_HRCE_2['SMILES'])\n",
        "}   \n",
        "ven_diagram(dic)"
      ],
      "execution_count": null,
      "outputs": [
        {
          "output_type": "display_data",
          "data": {
            "image/png": "[encoded data removed]",
            "text/plain": [
              "<Figure size 432x432 with 1 Axes>"
            ]
          },
          "metadata": {
            "tags": []
          }
        }
      ]
    },
    {
      "cell_type": "markdown",
      "metadata": {
        "id": "3hKBZfvr6pDu",
        "colab_type": "text"
      },
      "source": [
        "**As can be seen from the above ven diagram, in 1660 compounds, only 30 compounds are tested in both HRCE-1 and HRCE-2**"
      ]
    },
    {
      "cell_type": "markdown",
      "metadata": {
        "id": "CfQSCaj08kzo",
        "colab_type": "text"
      },
      "source": [
        "**Get the SMILES that tested at both HREC-1 and HRCE-2**"
      ]
    },
    {
      "cell_type": "code",
      "metadata": {
        "id": "ZGM4dj7N9Vq4",
        "colab_type": "code",
        "colab": {
          "base_uri": "https://localhost:8080/",
          "height": 70
        },
        "outputId": "3903b78d-075b-4a4b-91a2-346ea3e858e9"
      },
      "source": [
        "smiles_list = list(set(df_HRCE_1['SMILES']) & set(df_HRCE_2['SMILES']))\n",
        "print('Number of compounds = ', len(smiles_list))\n",
        "print(smiles_list)"
      ],
      "execution_count": null,
      "outputs": [
        {
          "output_type": "stream",
          "text": [
            "Number of compounds =  30\n",
            "['NC(=O)C1=NC(F)=CNC1=O |c:6,t:3|', 'CC(C)C1=CC(=O)C(C)=CC1=O |c:8,t:3|', 'NC(=O)C1=NN(C=N1)[C@H]1O[C@H](CO)[C@@H](O)[C@H]1O |c:6,t:3|', 'CC(C)(C)NC(=O)[C@@H]1CN(CC2=CN=CC=C2)CCN1C[C@@H](O)C[C@@H](CC1=CC=CC=C1)C(=O)N[C@@H]1[C@H](O)CC2=C1C=CC=C2 |c:13,15,30,32,42,45,47,t:11,28|', 'CCOC(=O)C1=C(CSC2=CC=CC=C2)N(C)C2=CC(Br)=C(O)C(CN(C)C)=C12 |c:5,11,13,t:9,18,21,28|', 'OC1(CCN(CCCC(=O)C2=CC=C(F)C=C2)CC1)C1=CC=C(Cl)C=C1 |c:15,26,t:10,12,21,23|', 'CC(C)[C@H](NC(=O)N(C)CC1=CSC(=N1)C(C)C)C(=O)N[C@H](C[C@H](O)[C@H](CC1=CC=CC=C1)NC(=O)OCC1=CN=CS1)CC1=CC=CC=C1 |c:13,30,32,42,49,51,t:10,28,40,47|', 'CC(C)C1=NC(CN(C)C(=O)N[C@@H](CCN2CCOCC2)C(=O)N[C@H](CC[C@H](CC2=CC=CC=C2)NC(=O)OCC2=CN=CS2)CC2=CC=CC=C2)=CS1 |c:32,34,44,51,53,55,t:3,30,42,49|', 'CCC(CC)COC(=O)[C@H](C)N[P@](=O)(OC[C@H]1O[C@](C#N)([C@H](O)[C@@H]1O)C1=CC=C2N1N=CN=C2N)OC1=CC=CC=C1 |c:28,32,34,41,43,t:26,39|', 'COC1=CC=C2N(C(=O)C3=CC=C(Cl)C=C3)C(C)=C(CC(O)=O)C2=C1 |c:14,25,t:2,4,9,11,18|', 'CCC(CC)O[C@@H]1C=C(C[C@H](N)[C@H]1NC(C)=O)C(O)=O |r,c:7|', 'OC[C@H]1NC[C@H](O)[C@@H](O)[C@H]1O', 'ClC1=CC=CC2=C(C=CC=C12)S(=O)(=O)N1CCCNCC1 |c:3,7,t:1,5,9|', 'C[C@H]1CC2C3CC[C@](O)(C(=O)COC(=O)CCC(O)=O)[C@@]3(C)C[C@H](O)C2[C@@]2(C)C=CC(=O)C=C12 |r,c:30,t:34|', 'CC(C)CN1C=NC2=C1C1=CC=CC=C1N=C2N |c:5,7,12,14,17,t:10|', 'NC1=NC(=O)C2=C(N1)N(CCC(CO)CO)C=N2 |c:5,17,t:1|', '[H][C@@](O)(CN(CC(C)C)S(=O)(=O)C1=CC=C(N)C=C1)[C@]([H])(CC1=CC=CC=C1)NC(=O)O[C@@]1([H])CO[C@@]2([H])OCC[C@@]12[H] |c:17,25,27,t:12,14,23|', 'COC1=CC2=C(C=CN=C2C=C1)[C@@H](O)[C@@H]1C[C@@H]2CCN1C[C@@H]2C=C |c:6,8,11,t:2,4|', 'CC(C)OC(=O)OCOP(=O)(CO[C@H](C)CN1C=NC2=C1N=CN=C2N)OCOC(=O)OC(C)C |r,c:17,19,22,24|', 'CN(C)C(=O)COC(=O)CC1=CC=C(OC(=O)C2=CC=C(NC(N)=N)C=C2)C=C1 |c:25,28,t:10,12,17,19|', 'CC[C@H](NC1=C2N=CNC2=NC=N1)C1=NC2=CC=CC(F)=C2C(=O)N1C1=CC=CC=C1 |c:4,6,10,12,19,22,31,33,t:15,17,29|', 'OC[C@H]1O[C@@H](OC2=CC(O)=CC(\\\\C=C\\\\C3=CC=C(O)C=C3)=C2)[C@@H](O)[C@@H](O)[C@@H]1O |c:9,19,21,t:6,14,16|', 'CC[C@H]1OC(=O)[C@@](C)(F)C(=O)[C@H](C)[C@@H](O[C@@H]2O[C@H](C)C[C@@H]([C@H]2O)N(C)C)[C@@](C)(C[C@@H](C)C(=O)[C@H](C)[C@H]2N(CCCCN3C=C(N=N3)C3=CC(N)=CC=C3)C(=O)O[C@]12C)OC |r,c:43,45,51,53,t:48|', 'C(CN1CCCC1)OC1=CC=C2NC3=NC=CC(=N3)C3=CC(COC\\\\C=C\\\\COCC1=C2)=CC=C3 |c:16,18,33,35,37,t:9,11,14,21,27|', 'CC1=C(C(C2=CC(=CC=C2)[N+]([O-])=O)C(=C(C)N1)P1(=O)OCC(C)(C)CO1)C(=O)OCCN(CC1=CC=CC=C1)C1=CC=CC=C1 |c:6,8,38,40,45,47,t:1,4,14,36,43|', 'COC(=O)\\\\C=C\\\\C(=O)OC', 'CC(C)[C@H](N1CCCNC1=O)C(=O)N[C@H](C[C@H](O)[C@H](CC1=CC=CC=C1)NC(=O)COC1=C(C)C=CC=C1C)CC1=CC=CC=C1 |c:23,25,33,36,38,45,47,t:21,43|', 'CCOC(=O)C1OC1C(=O)NC(CC(C)C)C(=O)NCCC(C)C', 'CCOC(=O)O[C@H]([C@H]1C[C@@H]2CC[N@@]1C[C@@H]2C=C)C1=CC=NC2=CC=C(OC)C=C12 |r,c:21,t:19,23,25,29|', 'NC1=NC=NN2C1=CC=C2[C@@]1(O[C@H](CO)[C@@H](O)[C@H]1O)C#N |c:3,9,t:1,7|']\n"
          ],
          "name": "stdout"
        }
      ]
    },
    {
      "cell_type": "markdown",
      "metadata": {
        "id": "exIUH04ArEps",
        "colab_type": "text"
      },
      "source": [
        "**Compound numbers in VERO-1 and VERO-2**"
      ]
    },
    {
      "cell_type": "code",
      "metadata": {
        "id": "GLiy-gYY_uny",
        "colab_type": "code",
        "colab": {
          "base_uri": "https://localhost:8080/",
          "height": 376
        },
        "outputId": "a3ca52ba-75a4-4fd8-bb1f-c884378e97de"
      },
      "source": [
        "df_VERO_1 = _df[(_df['experiment'] == 'VERO-1')] \n",
        "df_VERO_2 = _df[(_df['experiment'] == 'VERO-2')] \n",
        "print(f'df_VERO_1.shape = {df_VERO_1.shape}, df_VERO_2.shape = {df_VERO_2.shape}')\n",
        "\n",
        "dic2 = {\n",
        "    'VERO-1': set(df_VERO_1['SMILES']),\n",
        "    'VERO-2': set(df_VERO_2['SMILES'])\n",
        "}   \n",
        "ven_diagram(dic2)"
      ],
      "execution_count": null,
      "outputs": [
        {
          "output_type": "stream",
          "text": [
            "df_VERO_1.shape = (8192, 11), df_VERO_2.shape = (8192, 11)\n"
          ],
          "name": "stdout"
        },
        {
          "output_type": "display_data",
          "data": {
            "image/png": "[encoded data removed]",
            "text/plain": [
              "<Figure size 432x432 with 1 Axes>"
            ]
          },
          "metadata": {
            "tags": []
          }
        }
      ]
    },
    {
      "cell_type": "markdown",
      "metadata": {
        "id": "9pc_81e68UUC",
        "colab_type": "text"
      },
      "source": [
        "**As can be seen from the above ven diagram, in 1660 compounds, 32 compounds are tested in both VERO-1 and VERO-2.**"
      ]
    },
    {
      "cell_type": "markdown",
      "metadata": {
        "id": "EN7zDFE2CKO9",
        "colab_type": "text"
      },
      "source": [
        "#**8. Similarity between cell types**"
      ]
    },
    {
      "cell_type": "code",
      "metadata": {
        "id": "oQZzKQkMrWDY",
        "colab_type": "code",
        "colab": {}
      },
      "source": [
        "def cosine_similarity(Arr1, Arr2, chunk=1000):\n",
        "  '''To speed-up the cosine similarity calculation between too big arrays.\n",
        "  Calculate similarity between one row in Arr1 to all rows in Arr2 and get the \n",
        "  max, mean, and min of the similarity. (Usually using only max is enough).\n",
        "  Arguments:\n",
        "  Input:\n",
        "  Arr1: a numpy array\n",
        "  Arr2: a numpy array\n",
        "  chunk: number of row in Arr1. It is used to speep up the calculation instead \n",
        "         of calculating one by one using Scipy cosine similarity\n",
        "  Ouput:\n",
        "  sims_max: a 1D numpy array to store max similarity of one row in Arr1 to all \n",
        "            rows in Arr2\n",
        "  sims_mean: (similar to sims_max) it is mean value instead of max\n",
        "  sims_min: (similar to sims_max) it is minimum value instead of max\n",
        "\n",
        "  Usage:\n",
        "  A = np.array([[3, 45, 7, 2], [3, 45, 7, 2]])\n",
        "  B = np.array([[2, 54, 13, 15], [2, 54, 13, 15]])\n",
        "  sims_max, _, _ = cosine_similarity(A, B, chunk=1)\n",
        "  print(sims_max) --> array([0.97228425, 0.97228425])\n",
        "\n",
        "  Ref: Cosine similarity at Scipy\n",
        "  from scipy import spatial\n",
        "  L1 = [3, 45, 7, 2]\n",
        "  L2 = [2, 54, 13, 15]\n",
        "  sim = 1 - spatial.distance.cosine(L1, L2)\n",
        "  print(sim) --> 0.97228425171235\n",
        "  '''\n",
        "\n",
        "  def normalize(Arr):\n",
        "    lengths = (Arr**2).sum(axis=1, keepdims=True)**.5\n",
        "    return Arr/lengths\n",
        "\n",
        "  Arr1 = normalize(Arr1)\n",
        "  Arr2 = normalize(Arr2)\n",
        "\n",
        "  sims_max = []\n",
        "  sims_mean = []\n",
        "  sims_min = []\n",
        "  idx_start = 0\n",
        "  idx_end = idx_start + chunk\n",
        "  while idx_end <= Arr1.shape[0]:\n",
        "    results = Arr1[idx_start:idx_end].dot(Arr2.T)\n",
        "    sims_max.append(results.max(axis=1))\n",
        "    sims_mean.append(results.mean(axis=1))\n",
        "    sims_min.append(results.min(axis=1))\n",
        "    idx_start += chunk\n",
        "    idx_end = idx_start + chunk\n",
        "  # End of while\n",
        "  return np.concatenate(sims_max), np.concatenate(sims_mean), np.concatenate(sims_min)"
      ],
      "execution_count": null,
      "outputs": []
    },
    {
      "cell_type": "code",
      "metadata": {
        "id": "qHCeDy5k_uoA",
        "colab_type": "code",
        "colab": {
          "base_uri": "https://localhost:8080/",
          "height": 50
        },
        "outputId": "1fd2083f-79b0-4ce2-f80f-6de0d20ad76e"
      },
      "source": [
        "%%time\n",
        "df_embeddings = pd.read_csv(os.path.join(path, 'embeddings.csv'))"
      ],
      "execution_count": null,
      "outputs": [
        {
          "output_type": "stream",
          "text": [
            "CPU times: user 1min 4s, sys: 12.2 s, total: 1min 16s\n",
            "Wall time: 1min 21s\n"
          ],
          "name": "stdout"
        }
      ]
    },
    {
      "cell_type": "markdown",
      "metadata": {
        "id": "T6F8AmW_C-ek",
        "colab_type": "text"
      },
      "source": [
        "**HRCE and VERO**"
      ]
    },
    {
      "cell_type": "code",
      "metadata": {
        "id": "Ndqwu3kBC37r",
        "colab_type": "code",
        "colab": {
          "base_uri": "https://localhost:8080/",
          "height": 34
        },
        "outputId": "34f99a35-6f14-4907-f702-9bd35463d89e"
      },
      "source": [
        "df_metadata_HRCE = df_metadata[df_metadata['cell_type']== 'HRCE']\n",
        "df_metadata_VERO = df_metadata[df_metadata['cell_type']== 'VERO']\n",
        "\n",
        "# Get only \"site_id\"\n",
        "df_metadata_HRCE = df_metadata_HRCE[['site_id']]\n",
        "df_metadata_VERO = df_metadata_VERO[['site_id']]\n",
        "print(f'df_metadata_HRCE.shape = {df_metadata_HRCE.shape}, df_metadata_VERO.shape = {df_metadata_VERO.shape}')"
      ],
      "execution_count": null,
      "outputs": [
        {
          "output_type": "stream",
          "text": [
            "df_metadata_HRCE.shape = (284080, 1), df_metadata_VERO.shape = (21440, 1)\n"
          ],
          "name": "stdout"
        }
      ]
    },
    {
      "cell_type": "code",
      "metadata": {
        "id": "0iYw-Vpy_uoM",
        "colab_type": "code",
        "colab": {
          "base_uri": "https://localhost:8080/",
          "height": 34
        },
        "outputId": "f5031702-3f7a-4c69-8fc1-ac863b3d9a83"
      },
      "source": [
        "df_HRCE = pd.merge(df_metadata_HRCE, df_embeddings, on='site_id', how='inner')\n",
        "df_VERO = pd.merge(df_metadata_VERO, df_embeddings, on='site_id', how='inner')\n",
        "\n",
        "df_HRCE.set_index('site_id', inplace=True)\n",
        "df_VERO.set_index('site_id', inplace=True)\n",
        "\n",
        "print(f'df_HRCE.shape = {df_HRCE.shape}, df_VERO.shape = {df_VERO.shape}')"
      ],
      "execution_count": null,
      "outputs": [
        {
          "output_type": "stream",
          "text": [
            "df_HRCE.shape = (284080, 1024), df_VERO.shape = (21440, 1024)\n"
          ],
          "name": "stdout"
        }
      ]
    },
    {
      "cell_type": "code",
      "metadata": {
        "id": "BkWCIQN7UjRB",
        "colab_type": "code",
        "colab": {
          "base_uri": "https://localhost:8080/",
          "height": 50
        },
        "outputId": "714f2d66-e7a1-44e1-b621-ad6ea0d8c376"
      },
      "source": [
        "%%time\n",
        "sims_max, sims_mean, sims_min = cosine_similarity(Arr1=df_HRCE.to_numpy(), \n",
        "                                                  Arr2=df_VERO.to_numpy(), \n",
        "                                                  chunk=1000)"
      ],
      "execution_count": null,
      "outputs": [
        {
          "output_type": "stream",
          "text": [
            "CPU times: user 13min 14s, sys: 1min 22s, total: 14min 36s\n",
            "Wall time: 3min 41s\n"
          ],
          "name": "stdout"
        }
      ]
    },
    {
      "cell_type": "code",
      "metadata": {
        "id": "hEcsTzTmq6sA",
        "colab_type": "code",
        "colab": {
          "base_uri": "https://localhost:8080/",
          "height": 34
        },
        "outputId": "0cb4aff7-de9b-443d-87db-230163095e0b"
      },
      "source": [
        "sims_max.shape"
      ],
      "execution_count": null,
      "outputs": [
        {
          "output_type": "execute_result",
          "data": {
            "text/plain": [
              "(284000,)"
            ]
          },
          "metadata": {
            "tags": []
          },
          "execution_count": 14
        }
      ]
    },
    {
      "cell_type": "code",
      "metadata": {
        "id": "p6Ou2nt4sQ27",
        "colab_type": "code",
        "colab": {
          "base_uri": "https://localhost:8080/",
          "height": 84
        },
        "outputId": "fb663860-5cfb-4127-a8f1-f6becf7d968c"
      },
      "source": [
        "threshold = 0.8\n",
        "sims_max_over_thresold = sims_max[sims_max > 0.8]\n",
        "print(len(sims_max_over_thresold))  # There are only 18 rows out of 284080 rows                     \n",
        "print(sims_max_over_thresold)"
      ],
      "execution_count": null,
      "outputs": [
        {
          "output_type": "stream",
          "text": [
            "18\n",
            "[0.86096496 0.82134805 0.8019138  0.80486788 0.81009175 0.82382248\n",
            " 0.85139279 0.8126581  0.80540488 0.81002632 0.80948645 0.8219266\n",
            " 0.80484475 0.87321187 0.86693265 0.88283337 0.82601865 0.81769109]\n"
          ],
          "name": "stdout"
        }
      ]
    },
    {
      "cell_type": "markdown",
      "metadata": {
        "id": "9rfGSgzsuKgm",
        "colab_type": "text"
      },
      "source": [
        "**Plot histogram**"
      ]
    },
    {
      "cell_type": "code",
      "metadata": {
        "id": "aBFzxJ_NbObV",
        "colab_type": "code",
        "colab": {
          "base_uri": "https://localhost:8080/",
          "height": 429
        },
        "outputId": "9523a98b-9a21-4073-dbe7-06f25c1f5894"
      },
      "source": [
        "kwargs = dict(hist_kws={'alpha':.5}, kde_kws={'linewidth':2})\n",
        "plt.figure(figsize=(8, 6), dpi= 80)\n",
        "plt.title('Similarity: HRCE vs. VERO')\n",
        "sns.distplot(sims_max, color=\"deeppink\", label=\"Max\", **kwargs) \n",
        "sns.distplot(sims_mean, color=\"orange\", label=\"Mean\", **kwargs)\n",
        "sns.distplot(sims_min, color=\"dodgerblue\", label=\"Min\", **kwargs)\n",
        "plt.xlim(0, 1)\n",
        "plt.legend();"
      ],
      "execution_count": null,
      "outputs": [
        {
          "output_type": "display_data",
          "data": {
            "image/png": "[encoded data removed]",
            "text/plain": [
              "<Figure size 640x480 with 1 Axes>"
            ]
          },
          "metadata": {
            "tags": [],
            "needs_background": "light"
          }
        }
      ]
    },
    {
      "cell_type": "markdown",
      "metadata": {
        "id": "jAEWnAzFWAFS",
        "colab_type": "text"
      },
      "source": [
        "**The above figure indicates that there is NO significant similarity between HRCE and VERO.**"
      ]
    },
    {
      "cell_type": "markdown",
      "metadata": {
        "id": "lTVHI0RPK9fN",
        "colab_type": "text"
      },
      "source": [
        "**End of Part 3**"
      ]
    }
  ]
}